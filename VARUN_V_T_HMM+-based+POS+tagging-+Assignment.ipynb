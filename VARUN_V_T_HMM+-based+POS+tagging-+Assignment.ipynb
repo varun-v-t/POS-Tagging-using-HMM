{
 "cells": [
  {
   "cell_type": "markdown",
   "metadata": {},
   "source": [
    "## POS tagging using modified Viterbi"
   ]
  },
  {
   "cell_type": "markdown",
   "metadata": {},
   "source": [
    "## Data Preparation"
   ]
  },
  {
   "cell_type": "code",
   "execution_count": 1,
   "metadata": {
    "ExecuteTime": {
     "end_time": "2020-12-07T17:49:01.459162Z",
     "start_time": "2020-12-07T17:48:58.750489Z"
    }
   },
   "outputs": [],
   "source": [
    "#Importing libraries\n",
    "import nltk\n",
    "import pandas as pd\n",
    "import matplotlib.pyplot as plt\n",
    "import seaborn as sns\n",
    "import numpy as np\n",
    "import random\n",
    "from sklearn.model_selection import train_test_split\n",
    "from nltk.tokenize import word_tokenize\n",
    "from collections import Counter"
   ]
  },
  {
   "cell_type": "code",
   "execution_count": 2,
   "metadata": {
    "ExecuteTime": {
     "end_time": "2020-12-07T17:49:05.371130Z",
     "start_time": "2020-12-07T17:49:01.461390Z"
    }
   },
   "outputs": [],
   "source": [
    "# reading the Treebank tagged sentences\n",
    "nltk_data = list(nltk.corpus.treebank.tagged_sents(tagset='universal'))"
   ]
  },
  {
   "cell_type": "code",
   "execution_count": 3,
   "metadata": {
    "ExecuteTime": {
     "end_time": "2020-12-07T17:49:05.403212Z",
     "start_time": "2020-12-07T17:49:05.373674Z"
    }
   },
   "outputs": [
    {
     "data": {
      "text/plain": [
       "[[('Pierre', 'NOUN'),\n",
       "  ('Vinken', 'NOUN'),\n",
       "  (',', '.'),\n",
       "  ('61', 'NUM'),\n",
       "  ('years', 'NOUN'),\n",
       "  ('old', 'ADJ'),\n",
       "  (',', '.'),\n",
       "  ('will', 'VERB'),\n",
       "  ('join', 'VERB'),\n",
       "  ('the', 'DET'),\n",
       "  ('board', 'NOUN'),\n",
       "  ('as', 'ADP'),\n",
       "  ('a', 'DET'),\n",
       "  ('nonexecutive', 'ADJ'),\n",
       "  ('director', 'NOUN'),\n",
       "  ('Nov.', 'NOUN'),\n",
       "  ('29', 'NUM'),\n",
       "  ('.', '.')],\n",
       " [('Mr.', 'NOUN'),\n",
       "  ('Vinken', 'NOUN'),\n",
       "  ('is', 'VERB'),\n",
       "  ('chairman', 'NOUN'),\n",
       "  ('of', 'ADP'),\n",
       "  ('Elsevier', 'NOUN'),\n",
       "  ('N.V.', 'NOUN'),\n",
       "  (',', '.'),\n",
       "  ('the', 'DET'),\n",
       "  ('Dutch', 'NOUN'),\n",
       "  ('publishing', 'VERB'),\n",
       "  ('group', 'NOUN'),\n",
       "  ('.', '.')],\n",
       " [('Rudolph', 'NOUN'),\n",
       "  ('Agnew', 'NOUN'),\n",
       "  (',', '.'),\n",
       "  ('55', 'NUM'),\n",
       "  ('years', 'NOUN'),\n",
       "  ('old', 'ADJ'),\n",
       "  ('and', 'CONJ'),\n",
       "  ('former', 'ADJ'),\n",
       "  ('chairman', 'NOUN'),\n",
       "  ('of', 'ADP'),\n",
       "  ('Consolidated', 'NOUN'),\n",
       "  ('Gold', 'NOUN'),\n",
       "  ('Fields', 'NOUN'),\n",
       "  ('PLC', 'NOUN'),\n",
       "  (',', '.'),\n",
       "  ('was', 'VERB'),\n",
       "  ('named', 'VERB'),\n",
       "  ('*-1', 'X'),\n",
       "  ('a', 'DET'),\n",
       "  ('nonexecutive', 'ADJ'),\n",
       "  ('director', 'NOUN'),\n",
       "  ('of', 'ADP'),\n",
       "  ('this', 'DET'),\n",
       "  ('British', 'ADJ'),\n",
       "  ('industrial', 'ADJ'),\n",
       "  ('conglomerate', 'NOUN'),\n",
       "  ('.', '.')],\n",
       " [('A', 'DET'),\n",
       "  ('form', 'NOUN'),\n",
       "  ('of', 'ADP'),\n",
       "  ('asbestos', 'NOUN'),\n",
       "  ('once', 'ADV'),\n",
       "  ('used', 'VERB'),\n",
       "  ('*', 'X'),\n",
       "  ('*', 'X'),\n",
       "  ('to', 'PRT'),\n",
       "  ('make', 'VERB'),\n",
       "  ('Kent', 'NOUN'),\n",
       "  ('cigarette', 'NOUN'),\n",
       "  ('filters', 'NOUN'),\n",
       "  ('has', 'VERB'),\n",
       "  ('caused', 'VERB'),\n",
       "  ('a', 'DET'),\n",
       "  ('high', 'ADJ'),\n",
       "  ('percentage', 'NOUN'),\n",
       "  ('of', 'ADP'),\n",
       "  ('cancer', 'NOUN'),\n",
       "  ('deaths', 'NOUN'),\n",
       "  ('among', 'ADP'),\n",
       "  ('a', 'DET'),\n",
       "  ('group', 'NOUN'),\n",
       "  ('of', 'ADP'),\n",
       "  ('workers', 'NOUN'),\n",
       "  ('exposed', 'VERB'),\n",
       "  ('*', 'X'),\n",
       "  ('to', 'PRT'),\n",
       "  ('it', 'PRON'),\n",
       "  ('more', 'ADV'),\n",
       "  ('than', 'ADP'),\n",
       "  ('30', 'NUM'),\n",
       "  ('years', 'NOUN'),\n",
       "  ('ago', 'ADP'),\n",
       "  (',', '.'),\n",
       "  ('researchers', 'NOUN'),\n",
       "  ('reported', 'VERB'),\n",
       "  ('0', 'X'),\n",
       "  ('*T*-1', 'X'),\n",
       "  ('.', '.')],\n",
       " [('The', 'DET'),\n",
       "  ('asbestos', 'NOUN'),\n",
       "  ('fiber', 'NOUN'),\n",
       "  (',', '.'),\n",
       "  ('crocidolite', 'NOUN'),\n",
       "  (',', '.'),\n",
       "  ('is', 'VERB'),\n",
       "  ('unusually', 'ADV'),\n",
       "  ('resilient', 'ADJ'),\n",
       "  ('once', 'ADP'),\n",
       "  ('it', 'PRON'),\n",
       "  ('enters', 'VERB'),\n",
       "  ('the', 'DET'),\n",
       "  ('lungs', 'NOUN'),\n",
       "  (',', '.'),\n",
       "  ('with', 'ADP'),\n",
       "  ('even', 'ADV'),\n",
       "  ('brief', 'ADJ'),\n",
       "  ('exposures', 'NOUN'),\n",
       "  ('to', 'PRT'),\n",
       "  ('it', 'PRON'),\n",
       "  ('causing', 'VERB'),\n",
       "  ('symptoms', 'NOUN'),\n",
       "  ('that', 'DET'),\n",
       "  ('*T*-1', 'X'),\n",
       "  ('show', 'VERB'),\n",
       "  ('up', 'PRT'),\n",
       "  ('decades', 'NOUN'),\n",
       "  ('later', 'ADJ'),\n",
       "  (',', '.'),\n",
       "  ('researchers', 'NOUN'),\n",
       "  ('said', 'VERB'),\n",
       "  ('0', 'X'),\n",
       "  ('*T*-2', 'X'),\n",
       "  ('.', '.')],\n",
       " [('Lorillard', 'NOUN'),\n",
       "  ('Inc.', 'NOUN'),\n",
       "  (',', '.'),\n",
       "  ('the', 'DET'),\n",
       "  ('unit', 'NOUN'),\n",
       "  ('of', 'ADP'),\n",
       "  ('New', 'ADJ'),\n",
       "  ('York-based', 'ADJ'),\n",
       "  ('Loews', 'NOUN'),\n",
       "  ('Corp.', 'NOUN'),\n",
       "  ('that', 'DET'),\n",
       "  ('*T*-2', 'X'),\n",
       "  ('makes', 'VERB'),\n",
       "  ('Kent', 'NOUN'),\n",
       "  ('cigarettes', 'NOUN'),\n",
       "  (',', '.'),\n",
       "  ('stopped', 'VERB'),\n",
       "  ('using', 'VERB'),\n",
       "  ('crocidolite', 'NOUN'),\n",
       "  ('in', 'ADP'),\n",
       "  ('its', 'PRON'),\n",
       "  ('Micronite', 'NOUN'),\n",
       "  ('cigarette', 'NOUN'),\n",
       "  ('filters', 'NOUN'),\n",
       "  ('in', 'ADP'),\n",
       "  ('1956', 'NUM'),\n",
       "  ('.', '.')],\n",
       " [('Although', 'ADP'),\n",
       "  ('preliminary', 'ADJ'),\n",
       "  ('findings', 'NOUN'),\n",
       "  ('were', 'VERB'),\n",
       "  ('reported', 'VERB'),\n",
       "  ('*-2', 'X'),\n",
       "  ('more', 'ADV'),\n",
       "  ('than', 'ADP'),\n",
       "  ('a', 'DET'),\n",
       "  ('year', 'NOUN'),\n",
       "  ('ago', 'ADP'),\n",
       "  (',', '.'),\n",
       "  ('the', 'DET'),\n",
       "  ('latest', 'ADJ'),\n",
       "  ('results', 'NOUN'),\n",
       "  ('appear', 'VERB'),\n",
       "  ('in', 'ADP'),\n",
       "  ('today', 'NOUN'),\n",
       "  (\"'s\", 'PRT'),\n",
       "  ('New', 'NOUN'),\n",
       "  ('England', 'NOUN'),\n",
       "  ('Journal', 'NOUN'),\n",
       "  ('of', 'ADP'),\n",
       "  ('Medicine', 'NOUN'),\n",
       "  (',', '.'),\n",
       "  ('a', 'DET'),\n",
       "  ('forum', 'NOUN'),\n",
       "  ('likely', 'ADJ'),\n",
       "  ('*', 'X'),\n",
       "  ('to', 'PRT'),\n",
       "  ('bring', 'VERB'),\n",
       "  ('new', 'ADJ'),\n",
       "  ('attention', 'NOUN'),\n",
       "  ('to', 'PRT'),\n",
       "  ('the', 'DET'),\n",
       "  ('problem', 'NOUN'),\n",
       "  ('.', '.')],\n",
       " [('A', 'DET'),\n",
       "  ('Lorillard', 'NOUN'),\n",
       "  ('spokewoman', 'NOUN'),\n",
       "  ('said', 'VERB'),\n",
       "  (',', '.'),\n",
       "  ('``', '.'),\n",
       "  ('This', 'DET'),\n",
       "  ('is', 'VERB'),\n",
       "  ('an', 'DET'),\n",
       "  ('old', 'ADJ'),\n",
       "  ('story', 'NOUN'),\n",
       "  ('.', '.')],\n",
       " [('We', 'PRON'),\n",
       "  (\"'re\", 'VERB'),\n",
       "  ('talking', 'VERB'),\n",
       "  ('about', 'ADP'),\n",
       "  ('years', 'NOUN'),\n",
       "  ('ago', 'ADP'),\n",
       "  ('before', 'ADP'),\n",
       "  ('anyone', 'NOUN'),\n",
       "  ('heard', 'VERB'),\n",
       "  ('of', 'ADP'),\n",
       "  ('asbestos', 'NOUN'),\n",
       "  ('having', 'VERB'),\n",
       "  ('any', 'DET'),\n",
       "  ('questionable', 'ADJ'),\n",
       "  ('properties', 'NOUN'),\n",
       "  ('.', '.')],\n",
       " [('There', 'DET'),\n",
       "  ('is', 'VERB'),\n",
       "  ('no', 'DET'),\n",
       "  ('asbestos', 'NOUN'),\n",
       "  ('in', 'ADP'),\n",
       "  ('our', 'PRON'),\n",
       "  ('products', 'NOUN'),\n",
       "  ('now', 'ADV'),\n",
       "  ('.', '.'),\n",
       "  (\"''\", '.')],\n",
       " [('Neither', 'DET'),\n",
       "  ('Lorillard', 'NOUN'),\n",
       "  ('nor', 'CONJ'),\n",
       "  ('the', 'DET'),\n",
       "  ('researchers', 'NOUN'),\n",
       "  ('who', 'PRON'),\n",
       "  ('*T*-3', 'X'),\n",
       "  ('studied', 'VERB'),\n",
       "  ('the', 'DET'),\n",
       "  ('workers', 'NOUN'),\n",
       "  ('were', 'VERB'),\n",
       "  ('aware', 'ADJ'),\n",
       "  ('of', 'ADP'),\n",
       "  ('any', 'DET'),\n",
       "  ('research', 'NOUN'),\n",
       "  ('on', 'ADP'),\n",
       "  ('smokers', 'NOUN'),\n",
       "  ('of', 'ADP'),\n",
       "  ('the', 'DET'),\n",
       "  ('Kent', 'NOUN'),\n",
       "  ('cigarettes', 'NOUN'),\n",
       "  ('.', '.')],\n",
       " [('``', '.'),\n",
       "  ('We', 'PRON'),\n",
       "  ('have', 'VERB'),\n",
       "  ('no', 'DET'),\n",
       "  ('useful', 'ADJ'),\n",
       "  ('information', 'NOUN'),\n",
       "  ('on', 'ADP'),\n",
       "  ('whether', 'ADP'),\n",
       "  ('users', 'NOUN'),\n",
       "  ('are', 'VERB'),\n",
       "  ('at', 'ADP'),\n",
       "  ('risk', 'NOUN'),\n",
       "  (',', '.'),\n",
       "  (\"''\", '.'),\n",
       "  ('said', 'VERB'),\n",
       "  ('*T*-1', 'X'),\n",
       "  ('James', 'NOUN'),\n",
       "  ('A.', 'NOUN'),\n",
       "  ('Talcott', 'NOUN'),\n",
       "  ('of', 'ADP'),\n",
       "  ('Boston', 'NOUN'),\n",
       "  (\"'s\", 'PRT'),\n",
       "  ('Dana-Farber', 'NOUN'),\n",
       "  ('Cancer', 'NOUN'),\n",
       "  ('Institute', 'NOUN'),\n",
       "  ('.', '.')],\n",
       " [('Dr.', 'NOUN'),\n",
       "  ('Talcott', 'NOUN'),\n",
       "  ('led', 'VERB'),\n",
       "  ('a', 'DET'),\n",
       "  ('team', 'NOUN'),\n",
       "  ('of', 'ADP'),\n",
       "  ('researchers', 'NOUN'),\n",
       "  ('from', 'ADP'),\n",
       "  ('the', 'DET'),\n",
       "  ('National', 'NOUN'),\n",
       "  ('Cancer', 'NOUN'),\n",
       "  ('Institute', 'NOUN'),\n",
       "  ('and', 'CONJ'),\n",
       "  ('the', 'DET'),\n",
       "  ('medical', 'ADJ'),\n",
       "  ('schools', 'NOUN'),\n",
       "  ('of', 'ADP'),\n",
       "  ('Harvard', 'NOUN'),\n",
       "  ('University', 'NOUN'),\n",
       "  ('and', 'CONJ'),\n",
       "  ('Boston', 'NOUN'),\n",
       "  ('University', 'NOUN'),\n",
       "  ('.', '.')],\n",
       " [('The', 'DET'),\n",
       "  ('Lorillard', 'NOUN'),\n",
       "  ('spokeswoman', 'NOUN'),\n",
       "  ('said', 'VERB'),\n",
       "  ('0', 'X'),\n",
       "  ('asbestos', 'NOUN'),\n",
       "  ('was', 'VERB'),\n",
       "  ('used', 'VERB'),\n",
       "  ('*-1', 'X'),\n",
       "  ('in', 'ADP'),\n",
       "  ('``', '.'),\n",
       "  ('very', 'ADV'),\n",
       "  ('modest', 'ADJ'),\n",
       "  ('amounts', 'NOUN'),\n",
       "  (\"''\", '.'),\n",
       "  ('in', 'ADP'),\n",
       "  ('*', 'X'),\n",
       "  ('making', 'VERB'),\n",
       "  ('paper', 'NOUN'),\n",
       "  ('for', 'ADP'),\n",
       "  ('the', 'DET'),\n",
       "  ('filters', 'NOUN'),\n",
       "  ('in', 'ADP'),\n",
       "  ('the', 'DET'),\n",
       "  ('early', 'ADJ'),\n",
       "  ('1950s', 'NUM'),\n",
       "  ('and', 'CONJ'),\n",
       "  ('replaced', 'VERB'),\n",
       "  ('*-1', 'X'),\n",
       "  ('with', 'ADP'),\n",
       "  ('a', 'DET'),\n",
       "  ('different', 'ADJ'),\n",
       "  ('type', 'NOUN'),\n",
       "  ('of', 'ADP'),\n",
       "  ('filter', 'NOUN'),\n",
       "  ('in', 'ADP'),\n",
       "  ('1956', 'NUM'),\n",
       "  ('.', '.')],\n",
       " [('From', 'ADP'),\n",
       "  ('1953', 'NUM'),\n",
       "  ('to', 'PRT'),\n",
       "  ('1955', 'NUM'),\n",
       "  (',', '.'),\n",
       "  ('9.8', 'NUM'),\n",
       "  ('billion', 'NUM'),\n",
       "  ('Kent', 'NOUN'),\n",
       "  ('cigarettes', 'NOUN'),\n",
       "  ('with', 'ADP'),\n",
       "  ('the', 'DET'),\n",
       "  ('filters', 'NOUN'),\n",
       "  ('were', 'VERB'),\n",
       "  ('sold', 'VERB'),\n",
       "  ('*-3', 'X'),\n",
       "  (',', '.'),\n",
       "  ('the', 'DET'),\n",
       "  ('company', 'NOUN'),\n",
       "  ('said', 'VERB'),\n",
       "  ('0', 'X'),\n",
       "  ('*T*-1', 'X'),\n",
       "  ('.', '.')],\n",
       " [('Among', 'ADP'),\n",
       "  ('33', 'NUM'),\n",
       "  ('men', 'NOUN'),\n",
       "  ('who', 'PRON'),\n",
       "  ('*T*-4', 'X'),\n",
       "  ('worked', 'VERB'),\n",
       "  ('closely', 'ADV'),\n",
       "  ('with', 'ADP'),\n",
       "  ('the', 'DET'),\n",
       "  ('substance', 'NOUN'),\n",
       "  (',', '.'),\n",
       "  ('28', 'NUM'),\n",
       "  ('*ICH*-1', 'X'),\n",
       "  ('have', 'VERB'),\n",
       "  ('died', 'VERB'),\n",
       "  ('--', '.'),\n",
       "  ('more', 'ADJ'),\n",
       "  ('than', 'ADP'),\n",
       "  ('three', 'NUM'),\n",
       "  ('times', 'NOUN'),\n",
       "  ('the', 'DET'),\n",
       "  ('expected', 'VERB'),\n",
       "  ('number', 'NOUN'),\n",
       "  ('.', '.')],\n",
       " [('Four', 'NUM'),\n",
       "  ('of', 'ADP'),\n",
       "  ('the', 'DET'),\n",
       "  ('five', 'NUM'),\n",
       "  ('surviving', 'VERB'),\n",
       "  ('workers', 'NOUN'),\n",
       "  ('have', 'VERB'),\n",
       "  ('asbestos-related', 'ADJ'),\n",
       "  ('diseases', 'NOUN'),\n",
       "  (',', '.'),\n",
       "  ('including', 'VERB'),\n",
       "  ('three', 'NUM'),\n",
       "  ('with', 'ADP'),\n",
       "  ('recently', 'ADV'),\n",
       "  ('diagnosed', 'VERB'),\n",
       "  ('cancer', 'NOUN'),\n",
       "  ('.', '.')],\n",
       " [('The', 'DET'),\n",
       "  ('total', 'NOUN'),\n",
       "  ('of', 'ADP'),\n",
       "  ('18', 'NUM'),\n",
       "  ('deaths', 'NOUN'),\n",
       "  ('from', 'ADP'),\n",
       "  ('malignant', 'ADJ'),\n",
       "  ('mesothelioma', 'NOUN'),\n",
       "  (',', '.'),\n",
       "  ('lung', 'NOUN'),\n",
       "  ('cancer', 'NOUN'),\n",
       "  ('and', 'CONJ'),\n",
       "  ('asbestosis', 'NOUN'),\n",
       "  ('was', 'VERB'),\n",
       "  ('far', 'ADV'),\n",
       "  ('higher', 'ADJ'),\n",
       "  ('than', 'ADP'),\n",
       "  ('*', 'X'),\n",
       "  ('expected', 'VERB'),\n",
       "  ('*?*', 'X'),\n",
       "  (',', '.'),\n",
       "  ('the', 'DET'),\n",
       "  ('researchers', 'NOUN'),\n",
       "  ('said', 'VERB'),\n",
       "  ('0', 'X'),\n",
       "  ('*T*-1', 'X'),\n",
       "  ('.', '.')],\n",
       " [('``', '.'),\n",
       "  ('The', 'DET'),\n",
       "  ('morbidity', 'NOUN'),\n",
       "  ('rate', 'NOUN'),\n",
       "  ('is', 'VERB'),\n",
       "  ('a', 'DET'),\n",
       "  ('striking', 'ADJ'),\n",
       "  ('finding', 'NOUN'),\n",
       "  ('among', 'ADP'),\n",
       "  ('those', 'DET'),\n",
       "  ('of', 'ADP'),\n",
       "  ('us', 'PRON'),\n",
       "  ('who', 'PRON'),\n",
       "  ('*T*-5', 'X'),\n",
       "  ('study', 'VERB'),\n",
       "  ('asbestos-related', 'ADJ'),\n",
       "  ('diseases', 'NOUN'),\n",
       "  (',', '.'),\n",
       "  (\"''\", '.'),\n",
       "  ('said', 'VERB'),\n",
       "  ('*T*-1', 'X'),\n",
       "  ('Dr.', 'NOUN'),\n",
       "  ('Talcott', 'NOUN'),\n",
       "  ('.', '.')],\n",
       " [('The', 'DET'),\n",
       "  ('percentage', 'NOUN'),\n",
       "  ('of', 'ADP'),\n",
       "  ('lung', 'NOUN'),\n",
       "  ('cancer', 'NOUN'),\n",
       "  ('deaths', 'NOUN'),\n",
       "  ('among', 'ADP'),\n",
       "  ('the', 'DET'),\n",
       "  ('workers', 'NOUN'),\n",
       "  ('at', 'ADP'),\n",
       "  ('the', 'DET'),\n",
       "  ('West', 'NOUN'),\n",
       "  ('Groton', 'NOUN'),\n",
       "  (',', '.'),\n",
       "  ('Mass.', 'NOUN'),\n",
       "  (',', '.'),\n",
       "  ('paper', 'NOUN'),\n",
       "  ('factory', 'NOUN'),\n",
       "  ('appears', 'VERB'),\n",
       "  ('*-1', 'X'),\n",
       "  ('to', 'PRT'),\n",
       "  ('be', 'VERB'),\n",
       "  ('the', 'DET'),\n",
       "  ('highest', 'ADJ'),\n",
       "  ('for', 'ADP'),\n",
       "  ('any', 'DET'),\n",
       "  ('asbestos', 'NOUN'),\n",
       "  ('workers', 'NOUN'),\n",
       "  ('studied', 'VERB'),\n",
       "  ('*', 'X'),\n",
       "  ('in', 'ADP'),\n",
       "  ('Western', 'ADJ'),\n",
       "  ('industrialized', 'VERB'),\n",
       "  ('countries', 'NOUN'),\n",
       "  (',', '.'),\n",
       "  ('he', 'PRON'),\n",
       "  ('said', 'VERB'),\n",
       "  ('0', 'X'),\n",
       "  ('*T*-2', 'X'),\n",
       "  ('.', '.')]]"
      ]
     },
     "execution_count": 3,
     "metadata": {},
     "output_type": "execute_result"
    }
   ],
   "source": [
    "# Check first 20 records\n",
    "nltk_data[:20]"
   ]
  },
  {
   "cell_type": "markdown",
   "metadata": {},
   "source": [
    "### Split the dataset"
   ]
  },
  {
   "cell_type": "code",
   "execution_count": 4,
   "metadata": {
    "ExecuteTime": {
     "end_time": "2020-12-07T17:49:05.415035Z",
     "start_time": "2020-12-07T17:49:05.405400Z"
    }
   },
   "outputs": [
    {
     "name": "stdout",
     "output_type": "stream",
     "text": [
      "Number of Sentences in Whole Dataset  3914\n",
      "Number of Sentences in Training Dataset 3718\n",
      "Number of Sentences in Validation Dataset 196\n"
     ]
    }
   ],
   "source": [
    "print(\"Number of Sentences in Whole Dataset \", len(nltk_data))\n",
    "train_set, test_set = train_test_split(nltk_data, test_size = 0.05,random_state = 0)\n",
    "print(\"Number of Sentences in Training Dataset\", len(train_set))\n",
    "print(\"Number of Sentences in Validation Dataset\", len(test_set))"
   ]
  },
  {
   "cell_type": "code",
   "execution_count": 5,
   "metadata": {
    "ExecuteTime": {
     "end_time": "2020-12-07T17:49:05.421606Z",
     "start_time": "2020-12-07T17:49:05.416710Z"
    }
   },
   "outputs": [
    {
     "data": {
      "text/plain": [
       "[('Under', 'ADP'),\n",
       " ('the', 'DET'),\n",
       " ('new', 'ADJ'),\n",
       " ('U.S.', 'NOUN'),\n",
       " ('trade', 'NOUN'),\n",
       " ('law', 'NOUN'),\n",
       " (',', '.'),\n",
       " ('those', 'DET'),\n",
       " ('countries', 'NOUN'),\n",
       " ('could', 'VERB'),\n",
       " ('face', 'VERB'),\n",
       " ('accelerated', 'ADJ'),\n",
       " ('unfair-trade', 'ADJ'),\n",
       " ('investigations', 'NOUN'),\n",
       " ('and', 'CONJ'),\n",
       " ('stiff', 'ADJ'),\n",
       " ('trade', 'NOUN'),\n",
       " ('sanctions', 'NOUN'),\n",
       " ('if', 'ADP'),\n",
       " ('they', 'PRON'),\n",
       " ('do', 'VERB'),\n",
       " (\"n't\", 'ADV'),\n",
       " ('improve', 'VERB'),\n",
       " ('their', 'PRON'),\n",
       " ('protection', 'NOUN'),\n",
       " ('of', 'ADP'),\n",
       " ('intellectual', 'ADJ'),\n",
       " ('property', 'NOUN'),\n",
       " ('by', 'ADP'),\n",
       " ('next', 'ADJ'),\n",
       " ('spring', 'NOUN'),\n",
       " ('.', '.')]"
      ]
     },
     "execution_count": 5,
     "metadata": {},
     "output_type": "execute_result"
    }
   ],
   "source": [
    "# check one record\n",
    "train_set[1]"
   ]
  },
  {
   "cell_type": "markdown",
   "metadata": {},
   "source": [
    "#### Convert sentences to list of words and tags"
   ]
  },
  {
   "cell_type": "code",
   "execution_count": 6,
   "metadata": {
    "ExecuteTime": {
     "end_time": "2020-12-07T17:49:05.438425Z",
     "start_time": "2020-12-07T17:49:05.424482Z"
    }
   },
   "outputs": [
    {
     "name": "stdout",
     "output_type": "stream",
     "text": [
      "Total Words in train_set: 95749\n"
     ]
    },
    {
     "data": {
      "text/plain": [
       "[('By', 'ADP'),\n",
       " ('comparison', 'NOUN'),\n",
       " (',', '.'),\n",
       " ('for', 'ADP'),\n",
       " ('the', 'DET'),\n",
       " ('first', 'ADJ'),\n",
       " ('nine', 'NUM'),\n",
       " ('months', 'NOUN'),\n",
       " (',', '.'),\n",
       " ('Xerox', 'NOUN')]"
      ]
     },
     "execution_count": 6,
     "metadata": {},
     "output_type": "execute_result"
    }
   ],
   "source": [
    "# prepare tagged word from train set\n",
    "train_tagged_words = [word for sentence in train_set for word in sentence]\n",
    "print(\"Total Words in train_set:\",len(train_tagged_words))\n",
    "train_tagged_words[:10]"
   ]
  },
  {
   "cell_type": "code",
   "execution_count": 7,
   "metadata": {
    "ExecuteTime": {
     "end_time": "2020-12-07T17:49:05.451052Z",
     "start_time": "2020-12-07T17:49:05.439874Z"
    }
   },
   "outputs": [
    {
     "name": "stdout",
     "output_type": "stream",
     "text": [
      "Total Words in test_set: 4927\n"
     ]
    },
    {
     "data": {
      "text/plain": [
       "[('You', 'PRON'),\n",
       " ('do', 'VERB'),\n",
       " (\"n't\", 'ADV'),\n",
       " ('want', 'VERB'),\n",
       " ('*-1', 'X'),\n",
       " ('to', 'PRT'),\n",
       " ('get', 'VERB'),\n",
       " ('yourself', 'PRON'),\n",
       " ('too', 'ADV'),\n",
       " ('upset', 'ADJ')]"
      ]
     },
     "execution_count": 7,
     "metadata": {},
     "output_type": "execute_result"
    }
   ],
   "source": [
    "# Get the words in test Set \n",
    "test_tagged_words_base = [(word_tag[0],word_tag[1]) for sentence in test_set for word_tag in sentence]\n",
    "test_words = [word_tag[0] for sentence in test_set for word_tag in sentence]\n",
    "print(\"Total Words in test_set:\",len(test_words))\n",
    "test_tagged_words_base[:10]"
   ]
  },
  {
   "cell_type": "markdown",
   "metadata": {},
   "source": [
    "## Exploratory Data Analysis"
   ]
  },
  {
   "cell_type": "markdown",
   "metadata": {},
   "source": [
    "#### Unique Tags"
   ]
  },
  {
   "cell_type": "code",
   "execution_count": 8,
   "metadata": {
    "ExecuteTime": {
     "end_time": "2020-12-07T17:49:05.468864Z",
     "start_time": "2020-12-07T17:49:05.454055Z"
    }
   },
   "outputs": [
    {
     "name": "stdout",
     "output_type": "stream",
     "text": [
      "Number of unique tags 12\n"
     ]
    },
    {
     "data": {
      "text/plain": [
       "{'.',\n",
       " 'ADJ',\n",
       " 'ADP',\n",
       " 'ADV',\n",
       " 'CONJ',\n",
       " 'DET',\n",
       " 'NOUN',\n",
       " 'NUM',\n",
       " 'PRON',\n",
       " 'PRT',\n",
       " 'VERB',\n",
       " 'X'}"
      ]
     },
     "execution_count": 8,
     "metadata": {},
     "output_type": "execute_result"
    }
   ],
   "source": [
    "# get list of all tags and store in a list\n",
    "tags = [i[1] for i in train_tagged_words]\n",
    "print(\"Number of unique tags\", len(set(tags)))\n",
    "set(tags)"
   ]
  },
  {
   "cell_type": "code",
   "execution_count": 9,
   "metadata": {
    "ExecuteTime": {
     "end_time": "2020-12-07T17:49:05.482962Z",
     "start_time": "2020-12-07T17:49:05.471190Z"
    }
   },
   "outputs": [
    {
     "data": {
      "text/plain": [
       "[('NOUN', 27487), ('VERB', 12882), ('.', 11141), ('ADP', 9365), ('DET', 8278)]"
      ]
     },
     "execution_count": 9,
     "metadata": {},
     "output_type": "execute_result"
    }
   ],
   "source": [
    "# Most frequent tags\n",
    "tag_counts = Counter(tags)\n",
    "tag_counts.most_common(5)"
   ]
  },
  {
   "cell_type": "markdown",
   "metadata": {},
   "source": [
    "### Observation \n",
    "- We can Noun and Verb are the most common tags assigned to words\n",
    "- There 12 different kinds of tags in the training dataset"
   ]
  },
  {
   "cell_type": "markdown",
   "metadata": {},
   "source": [
    "### Tokens, vocabulary, number of tags"
   ]
  },
  {
   "cell_type": "code",
   "execution_count": 10,
   "metadata": {
    "ExecuteTime": {
     "end_time": "2020-12-07T17:49:05.501217Z",
     "start_time": "2020-12-07T17:49:05.484670Z"
    }
   },
   "outputs": [
    {
     "data": {
      "text/plain": [
       "['By',\n",
       " 'comparison',\n",
       " ',',\n",
       " 'for',\n",
       " 'the',\n",
       " 'first',\n",
       " 'nine',\n",
       " 'months',\n",
       " ',',\n",
       " 'Xerox']"
      ]
     },
     "execution_count": 10,
     "metadata": {},
     "output_type": "execute_result"
    }
   ],
   "source": [
    "# Tokens \n",
    "tokens = [pair[0] for pair in train_tagged_words]\n",
    "tokens[:10]"
   ]
  },
  {
   "cell_type": "code",
   "execution_count": 11,
   "metadata": {
    "ExecuteTime": {
     "end_time": "2020-12-07T17:49:05.519657Z",
     "start_time": "2020-12-07T17:49:05.504415Z"
    }
   },
   "outputs": [
    {
     "name": "stdout",
     "output_type": "stream",
     "text": [
      "Length of vocabulary 12072\n"
     ]
    }
   ],
   "source": [
    "# Vocabulary\n",
    "V = set(tokens)\n",
    "print(\"Length of vocabulary\", len(V))"
   ]
  },
  {
   "cell_type": "code",
   "execution_count": 12,
   "metadata": {
    "ExecuteTime": {
     "end_time": "2020-12-07T17:49:05.535003Z",
     "start_time": "2020-12-07T17:49:05.521133Z"
    }
   },
   "outputs": [
    {
     "name": "stdout",
     "output_type": "stream",
     "text": [
      "number of tags 12\n",
      "{'NUM', 'ADP', 'VERB', 'PRT', 'CONJ', 'ADJ', 'PRON', '.', 'NOUN', 'ADV', 'DET', 'X'}\n"
     ]
    }
   ],
   "source": [
    "# number of tags\n",
    "T = set([pair[1] for pair in train_tagged_words])\n",
    "print(\"number of tags\",len(T))\n",
    "print(T)"
   ]
  },
  {
   "cell_type": "markdown",
   "metadata": {},
   "source": [
    "## Build the vanilla Viterbi based POS tagger\n",
    "### Emission Probablities\n",
    "\n",
    "#### computing Emission P(w/t) and storing in T x V matrix"
   ]
  },
  {
   "cell_type": "code",
   "execution_count": 13,
   "metadata": {
    "ExecuteTime": {
     "end_time": "2020-12-07T17:49:05.543920Z",
     "start_time": "2020-12-07T17:49:05.536639Z"
    }
   },
   "outputs": [
    {
     "data": {
      "text/plain": [
       "array([[0., 0., 0., ..., 0., 0., 0.],\n",
       "       [0., 0., 0., ..., 0., 0., 0.],\n",
       "       [0., 0., 0., ..., 0., 0., 0.],\n",
       "       ...,\n",
       "       [0., 0., 0., ..., 0., 0., 0.],\n",
       "       [0., 0., 0., ..., 0., 0., 0.],\n",
       "       [0., 0., 0., ..., 0., 0., 0.]])"
      ]
     },
     "execution_count": 13,
     "metadata": {},
     "output_type": "execute_result"
    }
   ],
   "source": [
    "t = len(T)\n",
    "v = len(set(test_words))\n",
    "# Frame T x V matrix and initialize with zero\n",
    "w_given_t = np.zeros((v, t))\n",
    "w_given_t"
   ]
  },
  {
   "cell_type": "code",
   "execution_count": 14,
   "metadata": {
    "ExecuteTime": {
     "end_time": "2020-12-07T17:49:05.550269Z",
     "start_time": "2020-12-07T17:49:05.545862Z"
    }
   },
   "outputs": [],
   "source": [
    "# Define a function to compute word given tag: Emission Probability\n",
    "def word_given_tag(word, tag, train_bag = train_tagged_words):\n",
    "    tag_list = [pair for pair in train_bag if pair[1]==tag]\n",
    "    count_tag = len(tag_list)\n",
    "    # print(\"Number of tags found for the given tag\",tag,\"is\",count_tag)\n",
    "    w_given_tag_list = [pair[0] for pair in tag_list if pair[0]==word]\n",
    "    count_w_given_tag = len(w_given_tag_list)\n",
    "    # print(\"Number of word found for the given word in the tag list\",word,\"is\",count_w_given_tag)\n",
    "    return (count_w_given_tag, count_tag)"
   ]
  },
  {
   "cell_type": "code",
   "execution_count": 15,
   "metadata": {
    "ExecuteTime": {
     "end_time": "2020-12-07T17:52:32.502179Z",
     "start_time": "2020-12-07T17:49:05.552475Z"
    }
   },
   "outputs": [
    {
     "data": {
      "text/plain": [
       "array([[0.        , 0.        , 0.00046577, ..., 0.        , 0.        ,\n",
       "        0.        ],\n",
       "       [0.        , 0.        , 0.        , ..., 0.        , 0.        ,\n",
       "        0.16920393],\n",
       "       [0.        , 0.        , 0.        , ..., 0.        , 0.        ,\n",
       "        0.        ],\n",
       "       ...,\n",
       "       [0.        , 0.        , 0.        , ..., 0.00659631, 0.        ,\n",
       "        0.        ],\n",
       "       [0.        , 0.        , 0.        , ..., 0.        , 0.        ,\n",
       "        0.        ],\n",
       "       [0.        , 0.        , 0.00031051, ..., 0.        , 0.        ,\n",
       "        0.        ]])"
      ]
     },
     "execution_count": 15,
     "metadata": {},
     "output_type": "execute_result"
    }
   ],
   "source": [
    "# Prepare the Emission Matrix for all the test words as it will re used in different viterbi algorithm \n",
    "# and it will be faster to calculate to POS Tags and evaluate\n",
    "for key, word in enumerate(set(test_words)):\n",
    "    for tag_index,tag in enumerate(T):\n",
    "        emission_tup = word_given_tag(word, tag)\n",
    "        #print(word,key,tag_index)\n",
    "        w_given_t[key,tag_index] = emission_tup[0]/emission_tup[1]\n",
    "w_given_t"
   ]
  },
  {
   "cell_type": "code",
   "execution_count": 16,
   "metadata": {
    "ExecuteTime": {
     "end_time": "2020-12-07T17:52:32.524141Z",
     "start_time": "2020-12-07T17:52:32.503859Z"
    }
   },
   "outputs": [
    {
     "data": {
      "text/html": [
       "<div>\n",
       "<style scoped>\n",
       "    .dataframe tbody tr th:only-of-type {\n",
       "        vertical-align: middle;\n",
       "    }\n",
       "\n",
       "    .dataframe tbody tr th {\n",
       "        vertical-align: top;\n",
       "    }\n",
       "\n",
       "    .dataframe thead th {\n",
       "        text-align: right;\n",
       "    }\n",
       "</style>\n",
       "<table border=\"1\" class=\"dataframe\">\n",
       "  <thead>\n",
       "    <tr style=\"text-align: right;\">\n",
       "      <th></th>\n",
       "      <th>NUM</th>\n",
       "      <th>ADP</th>\n",
       "      <th>VERB</th>\n",
       "      <th>PRT</th>\n",
       "      <th>CONJ</th>\n",
       "      <th>ADJ</th>\n",
       "      <th>PRON</th>\n",
       "      <th>.</th>\n",
       "      <th>NOUN</th>\n",
       "      <th>ADV</th>\n",
       "      <th>DET</th>\n",
       "      <th>X</th>\n",
       "    </tr>\n",
       "  </thead>\n",
       "  <tbody>\n",
       "    <tr>\n",
       "      <th>issue</th>\n",
       "      <td>0.0</td>\n",
       "      <td>0.0</td>\n",
       "      <td>0.000466</td>\n",
       "      <td>0.0</td>\n",
       "      <td>0.000000</td>\n",
       "      <td>0.0</td>\n",
       "      <td>0.0</td>\n",
       "      <td>0.0</td>\n",
       "      <td>0.001855</td>\n",
       "      <td>0.0</td>\n",
       "      <td>0.0</td>\n",
       "      <td>0.000000</td>\n",
       "    </tr>\n",
       "    <tr>\n",
       "      <th>*-1</th>\n",
       "      <td>0.0</td>\n",
       "      <td>0.0</td>\n",
       "      <td>0.000000</td>\n",
       "      <td>0.0</td>\n",
       "      <td>0.000000</td>\n",
       "      <td>0.0</td>\n",
       "      <td>0.0</td>\n",
       "      <td>0.0</td>\n",
       "      <td>0.000000</td>\n",
       "      <td>0.0</td>\n",
       "      <td>0.0</td>\n",
       "      <td>0.169204</td>\n",
       "    </tr>\n",
       "    <tr>\n",
       "      <th>minus</th>\n",
       "      <td>0.0</td>\n",
       "      <td>0.0</td>\n",
       "      <td>0.000000</td>\n",
       "      <td>0.0</td>\n",
       "      <td>0.000465</td>\n",
       "      <td>0.0</td>\n",
       "      <td>0.0</td>\n",
       "      <td>0.0</td>\n",
       "      <td>0.000000</td>\n",
       "      <td>0.0</td>\n",
       "      <td>0.0</td>\n",
       "      <td>0.000000</td>\n",
       "    </tr>\n",
       "    <tr>\n",
       "      <th>lovely</th>\n",
       "      <td>0.0</td>\n",
       "      <td>0.0</td>\n",
       "      <td>0.000000</td>\n",
       "      <td>0.0</td>\n",
       "      <td>0.000000</td>\n",
       "      <td>0.0</td>\n",
       "      <td>0.0</td>\n",
       "      <td>0.0</td>\n",
       "      <td>0.000000</td>\n",
       "      <td>0.0</td>\n",
       "      <td>0.0</td>\n",
       "      <td>0.000000</td>\n",
       "    </tr>\n",
       "    <tr>\n",
       "      <th>assume</th>\n",
       "      <td>0.0</td>\n",
       "      <td>0.0</td>\n",
       "      <td>0.000155</td>\n",
       "      <td>0.0</td>\n",
       "      <td>0.000000</td>\n",
       "      <td>0.0</td>\n",
       "      <td>0.0</td>\n",
       "      <td>0.0</td>\n",
       "      <td>0.000000</td>\n",
       "      <td>0.0</td>\n",
       "      <td>0.0</td>\n",
       "      <td>0.000000</td>\n",
       "    </tr>\n",
       "  </tbody>\n",
       "</table>\n",
       "</div>"
      ],
      "text/plain": [
       "        NUM  ADP      VERB  PRT      CONJ  ADJ  PRON    .      NOUN  ADV  DET  \\\n",
       "issue   0.0  0.0  0.000466  0.0  0.000000  0.0   0.0  0.0  0.001855  0.0  0.0   \n",
       "*-1     0.0  0.0  0.000000  0.0  0.000000  0.0   0.0  0.0  0.000000  0.0  0.0   \n",
       "minus   0.0  0.0  0.000000  0.0  0.000465  0.0   0.0  0.0  0.000000  0.0  0.0   \n",
       "lovely  0.0  0.0  0.000000  0.0  0.000000  0.0   0.0  0.0  0.000000  0.0  0.0   \n",
       "assume  0.0  0.0  0.000155  0.0  0.000000  0.0   0.0  0.0  0.000000  0.0  0.0   \n",
       "\n",
       "               X  \n",
       "issue   0.000000  \n",
       "*-1     0.169204  \n",
       "minus   0.000000  \n",
       "lovely  0.000000  \n",
       "assume  0.000000  "
      ]
     },
     "execution_count": 16,
     "metadata": {},
     "output_type": "execute_result"
    }
   ],
   "source": [
    "# Lets create Dataframe out of the emission matrix\n",
    "emission_df = pd.DataFrame(w_given_t,index=set(test_words),columns=T)\n",
    "emission_df.head()"
   ]
  },
  {
   "cell_type": "markdown",
   "metadata": {},
   "source": [
    "### Transition Probabilities "
   ]
  },
  {
   "cell_type": "code",
   "execution_count": 17,
   "metadata": {
    "ExecuteTime": {
     "end_time": "2020-12-07T17:52:32.529776Z",
     "start_time": "2020-12-07T17:52:32.525837Z"
    }
   },
   "outputs": [],
   "source": [
    "# compute tag given tag: tag2(t2) given tag1 (t1), i.e. Transition Probability\n",
    "def t2_given_t1(t2, t1, train_bag = train_tagged_words):\n",
    "    tags = [pair[1] for pair in train_bag]\n",
    "    count_t1 = len([t for t in tags if t==t1])\n",
    "    count_t2_t1 = 0\n",
    "    for index in range(len(tags)-1):\n",
    "        if tags[index]==t1 and tags[index+1] == t2:\n",
    "            count_t2_t1 += 1\n",
    "    return (count_t2_t1, count_t1)"
   ]
  },
  {
   "cell_type": "code",
   "execution_count": 18,
   "metadata": {
    "ExecuteTime": {
     "end_time": "2020-12-07T17:52:32.536632Z",
     "start_time": "2020-12-07T17:52:32.531382Z"
    }
   },
   "outputs": [
    {
     "data": {
      "text/plain": [
       "array([[0., 0., 0., 0., 0., 0., 0., 0., 0., 0., 0., 0.],\n",
       "       [0., 0., 0., 0., 0., 0., 0., 0., 0., 0., 0., 0.],\n",
       "       [0., 0., 0., 0., 0., 0., 0., 0., 0., 0., 0., 0.],\n",
       "       [0., 0., 0., 0., 0., 0., 0., 0., 0., 0., 0., 0.],\n",
       "       [0., 0., 0., 0., 0., 0., 0., 0., 0., 0., 0., 0.],\n",
       "       [0., 0., 0., 0., 0., 0., 0., 0., 0., 0., 0., 0.],\n",
       "       [0., 0., 0., 0., 0., 0., 0., 0., 0., 0., 0., 0.],\n",
       "       [0., 0., 0., 0., 0., 0., 0., 0., 0., 0., 0., 0.],\n",
       "       [0., 0., 0., 0., 0., 0., 0., 0., 0., 0., 0., 0.],\n",
       "       [0., 0., 0., 0., 0., 0., 0., 0., 0., 0., 0., 0.],\n",
       "       [0., 0., 0., 0., 0., 0., 0., 0., 0., 0., 0., 0.],\n",
       "       [0., 0., 0., 0., 0., 0., 0., 0., 0., 0., 0., 0.]], dtype=float32)"
      ]
     },
     "execution_count": 18,
     "metadata": {},
     "output_type": "execute_result"
    }
   ],
   "source": [
    "# creating t x t transition matrix of tags\n",
    "# each column is t2, each row is t1\n",
    "# thus M(i, j) represents P(tj given ti)\n",
    "\n",
    "tags_matrix = np.zeros((len(T), len(T)), dtype='float32')\n",
    "tags_matrix"
   ]
  },
  {
   "cell_type": "code",
   "execution_count": 19,
   "metadata": {
    "ExecuteTime": {
     "end_time": "2020-12-07T17:52:38.378012Z",
     "start_time": "2020-12-07T17:52:32.538194Z"
    }
   },
   "outputs": [
    {
     "data": {
      "text/plain": [
       "array([[1.86225250e-01, 3.34023051e-02, 1.86225250e-02, 2.68992018e-02,\n",
       "        1.41885905e-02, 3.34023051e-02, 1.77357381e-03, 1.14395507e-01,\n",
       "        3.52054387e-01, 2.95595615e-03, 3.25155188e-03, 2.12828845e-01],\n",
       "       [6.27869740e-02, 1.70848910e-02, 8.22210312e-03, 1.38814736e-03,\n",
       "        8.54244514e-04, 1.06994130e-01, 6.93005845e-02, 4.04698327e-02,\n",
       "        3.21623057e-01, 1.32407900e-02, 3.23118001e-01, 3.49172466e-02],\n",
       "       [2.25120317e-02, 9.22217071e-02, 1.68607354e-01, 3.15168463e-02,\n",
       "        5.43393893e-03, 6.48967549e-02, 3.45443264e-02, 3.50100920e-02,\n",
       "        1.10153705e-01, 8.22077319e-02, 1.34761676e-01, 2.18133837e-01],\n",
       "       [5.62459119e-02, 2.12557223e-02, 4.01569664e-01, 1.96206663e-03,\n",
       "        1.96206663e-03, 8.40418562e-02, 1.70045774e-02, 4.34924774e-02,\n",
       "        2.48855457e-01, 9.81033314e-03, 1.00065403e-01, 1.37344673e-02],\n",
       "       [3.90697680e-02, 5.30232564e-02, 1.57674417e-01, 4.65116277e-03,\n",
       "        4.65116289e-04, 1.19069770e-01, 5.76744191e-02, 3.48837227e-02,\n",
       "        3.49302322e-01, 5.62790707e-02, 1.19534887e-01, 8.37209262e-03],\n",
       "       [2.12136153e-02, 7.69610256e-02, 1.18401581e-02, 1.08534778e-02,\n",
       "        1.61157697e-02, 6.67653382e-02, 4.93339903e-04, 6.41341880e-02,\n",
       "        7.01036036e-01, 4.93339915e-03, 4.93339915e-03, 2.07202770e-02],\n",
       "       [7.73395225e-03, 2.16550659e-02, 4.89559174e-01, 1.23743229e-02,\n",
       "        5.41376648e-03, 7.34725446e-02, 6.57385914e-03, 3.78963649e-02,\n",
       "        2.08430007e-01, 3.44160870e-02, 1.00541376e-02, 9.24207270e-02],\n",
       "       [8.15905184e-02, 9.02073458e-02, 8.81428942e-02, 2.33372231e-03,\n",
       "        5.79840243e-02, 4.39816900e-02, 6.63315654e-02, 9.29000974e-02,\n",
       "        2.22780719e-01, 5.29575460e-02, 1.72785208e-01, 2.79149096e-02],\n",
       "       [9.45901684e-03, 1.76628947e-01, 1.46323711e-01, 4.38752882e-02,\n",
       "        4.24564332e-02, 1.19329141e-02, 4.65674698e-03, 2.40077123e-01,\n",
       "        2.65798390e-01, 1.69898495e-02, 1.29515771e-02, 2.88500022e-02],\n",
       "       [3.19920853e-02, 1.16424799e-01, 3.47295523e-01, 1.38522424e-02,\n",
       "        6.92612119e-03, 1.29947230e-01, 1.51715036e-02, 1.35224268e-01,\n",
       "        3.19920853e-02, 7.91556761e-02, 6.92612156e-02, 2.27572564e-02],\n",
       "       [2.24691946e-02, 8.93935747e-03, 3.87774818e-02, 2.41604255e-04,\n",
       "        4.83208511e-04, 2.05846816e-01, 3.62406368e-03, 1.76371112e-02,\n",
       "        6.38318419e-01, 1.26842232e-02, 5.79850189e-03, 4.51799966e-02],\n",
       "       [2.85442430e-03, 1.44782752e-01, 2.04091340e-01, 1.83634639e-01,\n",
       "        1.06248017e-02, 1.66508090e-02, 5.50269596e-02, 1.64605141e-01,\n",
       "        6.05772287e-02, 2.64827143e-02, 5.50269596e-02, 7.56422430e-02]],\n",
       "      dtype=float32)"
      ]
     },
     "execution_count": 19,
     "metadata": {},
     "output_type": "execute_result"
    }
   ],
   "source": [
    "# for each comobination of tags, calculate tranisition probabilty and store it in matrix\n",
    "for i, t1 in enumerate(list(T)):\n",
    "    for j, t2 in enumerate(list(T)): \n",
    "        # calculate transition prob for t2 given t1\n",
    "        tags_matrix[i, j] = t2_given_t1(t2, t1)[0]/t2_given_t1(t2, t1)[1]\n",
    "tags_matrix"
   ]
  },
  {
   "cell_type": "code",
   "execution_count": 20,
   "metadata": {
    "ExecuteTime": {
     "end_time": "2020-12-07T17:52:38.400445Z",
     "start_time": "2020-12-07T17:52:38.380551Z"
    }
   },
   "outputs": [
    {
     "data": {
      "text/html": [
       "<div>\n",
       "<style scoped>\n",
       "    .dataframe tbody tr th:only-of-type {\n",
       "        vertical-align: middle;\n",
       "    }\n",
       "\n",
       "    .dataframe tbody tr th {\n",
       "        vertical-align: top;\n",
       "    }\n",
       "\n",
       "    .dataframe thead th {\n",
       "        text-align: right;\n",
       "    }\n",
       "</style>\n",
       "<table border=\"1\" class=\"dataframe\">\n",
       "  <thead>\n",
       "    <tr style=\"text-align: right;\">\n",
       "      <th></th>\n",
       "      <th>NUM</th>\n",
       "      <th>ADP</th>\n",
       "      <th>VERB</th>\n",
       "      <th>PRT</th>\n",
       "      <th>CONJ</th>\n",
       "      <th>ADJ</th>\n",
       "      <th>PRON</th>\n",
       "      <th>.</th>\n",
       "      <th>NOUN</th>\n",
       "      <th>ADV</th>\n",
       "      <th>DET</th>\n",
       "      <th>X</th>\n",
       "    </tr>\n",
       "  </thead>\n",
       "  <tbody>\n",
       "    <tr>\n",
       "      <th>NUM</th>\n",
       "      <td>0.186225</td>\n",
       "      <td>0.033402</td>\n",
       "      <td>0.018623</td>\n",
       "      <td>0.026899</td>\n",
       "      <td>0.014189</td>\n",
       "      <td>0.033402</td>\n",
       "      <td>0.001774</td>\n",
       "      <td>0.114396</td>\n",
       "      <td>0.352054</td>\n",
       "      <td>0.002956</td>\n",
       "      <td>0.003252</td>\n",
       "      <td>0.212829</td>\n",
       "    </tr>\n",
       "    <tr>\n",
       "      <th>ADP</th>\n",
       "      <td>0.062787</td>\n",
       "      <td>0.017085</td>\n",
       "      <td>0.008222</td>\n",
       "      <td>0.001388</td>\n",
       "      <td>0.000854</td>\n",
       "      <td>0.106994</td>\n",
       "      <td>0.069301</td>\n",
       "      <td>0.040470</td>\n",
       "      <td>0.321623</td>\n",
       "      <td>0.013241</td>\n",
       "      <td>0.323118</td>\n",
       "      <td>0.034917</td>\n",
       "    </tr>\n",
       "    <tr>\n",
       "      <th>VERB</th>\n",
       "      <td>0.022512</td>\n",
       "      <td>0.092222</td>\n",
       "      <td>0.168607</td>\n",
       "      <td>0.031517</td>\n",
       "      <td>0.005434</td>\n",
       "      <td>0.064897</td>\n",
       "      <td>0.034544</td>\n",
       "      <td>0.035010</td>\n",
       "      <td>0.110154</td>\n",
       "      <td>0.082208</td>\n",
       "      <td>0.134762</td>\n",
       "      <td>0.218134</td>\n",
       "    </tr>\n",
       "    <tr>\n",
       "      <th>PRT</th>\n",
       "      <td>0.056246</td>\n",
       "      <td>0.021256</td>\n",
       "      <td>0.401570</td>\n",
       "      <td>0.001962</td>\n",
       "      <td>0.001962</td>\n",
       "      <td>0.084042</td>\n",
       "      <td>0.017005</td>\n",
       "      <td>0.043492</td>\n",
       "      <td>0.248855</td>\n",
       "      <td>0.009810</td>\n",
       "      <td>0.100065</td>\n",
       "      <td>0.013734</td>\n",
       "    </tr>\n",
       "    <tr>\n",
       "      <th>CONJ</th>\n",
       "      <td>0.039070</td>\n",
       "      <td>0.053023</td>\n",
       "      <td>0.157674</td>\n",
       "      <td>0.004651</td>\n",
       "      <td>0.000465</td>\n",
       "      <td>0.119070</td>\n",
       "      <td>0.057674</td>\n",
       "      <td>0.034884</td>\n",
       "      <td>0.349302</td>\n",
       "      <td>0.056279</td>\n",
       "      <td>0.119535</td>\n",
       "      <td>0.008372</td>\n",
       "    </tr>\n",
       "    <tr>\n",
       "      <th>ADJ</th>\n",
       "      <td>0.021214</td>\n",
       "      <td>0.076961</td>\n",
       "      <td>0.011840</td>\n",
       "      <td>0.010853</td>\n",
       "      <td>0.016116</td>\n",
       "      <td>0.066765</td>\n",
       "      <td>0.000493</td>\n",
       "      <td>0.064134</td>\n",
       "      <td>0.701036</td>\n",
       "      <td>0.004933</td>\n",
       "      <td>0.004933</td>\n",
       "      <td>0.020720</td>\n",
       "    </tr>\n",
       "    <tr>\n",
       "      <th>PRON</th>\n",
       "      <td>0.007734</td>\n",
       "      <td>0.021655</td>\n",
       "      <td>0.489559</td>\n",
       "      <td>0.012374</td>\n",
       "      <td>0.005414</td>\n",
       "      <td>0.073473</td>\n",
       "      <td>0.006574</td>\n",
       "      <td>0.037896</td>\n",
       "      <td>0.208430</td>\n",
       "      <td>0.034416</td>\n",
       "      <td>0.010054</td>\n",
       "      <td>0.092421</td>\n",
       "    </tr>\n",
       "    <tr>\n",
       "      <th>.</th>\n",
       "      <td>0.081591</td>\n",
       "      <td>0.090207</td>\n",
       "      <td>0.088143</td>\n",
       "      <td>0.002334</td>\n",
       "      <td>0.057984</td>\n",
       "      <td>0.043982</td>\n",
       "      <td>0.066332</td>\n",
       "      <td>0.092900</td>\n",
       "      <td>0.222781</td>\n",
       "      <td>0.052958</td>\n",
       "      <td>0.172785</td>\n",
       "      <td>0.027915</td>\n",
       "    </tr>\n",
       "    <tr>\n",
       "      <th>NOUN</th>\n",
       "      <td>0.009459</td>\n",
       "      <td>0.176629</td>\n",
       "      <td>0.146324</td>\n",
       "      <td>0.043875</td>\n",
       "      <td>0.042456</td>\n",
       "      <td>0.011933</td>\n",
       "      <td>0.004657</td>\n",
       "      <td>0.240077</td>\n",
       "      <td>0.265798</td>\n",
       "      <td>0.016990</td>\n",
       "      <td>0.012952</td>\n",
       "      <td>0.028850</td>\n",
       "    </tr>\n",
       "    <tr>\n",
       "      <th>ADV</th>\n",
       "      <td>0.031992</td>\n",
       "      <td>0.116425</td>\n",
       "      <td>0.347296</td>\n",
       "      <td>0.013852</td>\n",
       "      <td>0.006926</td>\n",
       "      <td>0.129947</td>\n",
       "      <td>0.015172</td>\n",
       "      <td>0.135224</td>\n",
       "      <td>0.031992</td>\n",
       "      <td>0.079156</td>\n",
       "      <td>0.069261</td>\n",
       "      <td>0.022757</td>\n",
       "    </tr>\n",
       "    <tr>\n",
       "      <th>DET</th>\n",
       "      <td>0.022469</td>\n",
       "      <td>0.008939</td>\n",
       "      <td>0.038777</td>\n",
       "      <td>0.000242</td>\n",
       "      <td>0.000483</td>\n",
       "      <td>0.205847</td>\n",
       "      <td>0.003624</td>\n",
       "      <td>0.017637</td>\n",
       "      <td>0.638318</td>\n",
       "      <td>0.012684</td>\n",
       "      <td>0.005799</td>\n",
       "      <td>0.045180</td>\n",
       "    </tr>\n",
       "    <tr>\n",
       "      <th>X</th>\n",
       "      <td>0.002854</td>\n",
       "      <td>0.144783</td>\n",
       "      <td>0.204091</td>\n",
       "      <td>0.183635</td>\n",
       "      <td>0.010625</td>\n",
       "      <td>0.016651</td>\n",
       "      <td>0.055027</td>\n",
       "      <td>0.164605</td>\n",
       "      <td>0.060577</td>\n",
       "      <td>0.026483</td>\n",
       "      <td>0.055027</td>\n",
       "      <td>0.075642</td>\n",
       "    </tr>\n",
       "  </tbody>\n",
       "</table>\n",
       "</div>"
      ],
      "text/plain": [
       "           NUM       ADP      VERB       PRT      CONJ       ADJ      PRON  \\\n",
       "NUM   0.186225  0.033402  0.018623  0.026899  0.014189  0.033402  0.001774   \n",
       "ADP   0.062787  0.017085  0.008222  0.001388  0.000854  0.106994  0.069301   \n",
       "VERB  0.022512  0.092222  0.168607  0.031517  0.005434  0.064897  0.034544   \n",
       "PRT   0.056246  0.021256  0.401570  0.001962  0.001962  0.084042  0.017005   \n",
       "CONJ  0.039070  0.053023  0.157674  0.004651  0.000465  0.119070  0.057674   \n",
       "ADJ   0.021214  0.076961  0.011840  0.010853  0.016116  0.066765  0.000493   \n",
       "PRON  0.007734  0.021655  0.489559  0.012374  0.005414  0.073473  0.006574   \n",
       ".     0.081591  0.090207  0.088143  0.002334  0.057984  0.043982  0.066332   \n",
       "NOUN  0.009459  0.176629  0.146324  0.043875  0.042456  0.011933  0.004657   \n",
       "ADV   0.031992  0.116425  0.347296  0.013852  0.006926  0.129947  0.015172   \n",
       "DET   0.022469  0.008939  0.038777  0.000242  0.000483  0.205847  0.003624   \n",
       "X     0.002854  0.144783  0.204091  0.183635  0.010625  0.016651  0.055027   \n",
       "\n",
       "             .      NOUN       ADV       DET         X  \n",
       "NUM   0.114396  0.352054  0.002956  0.003252  0.212829  \n",
       "ADP   0.040470  0.321623  0.013241  0.323118  0.034917  \n",
       "VERB  0.035010  0.110154  0.082208  0.134762  0.218134  \n",
       "PRT   0.043492  0.248855  0.009810  0.100065  0.013734  \n",
       "CONJ  0.034884  0.349302  0.056279  0.119535  0.008372  \n",
       "ADJ   0.064134  0.701036  0.004933  0.004933  0.020720  \n",
       "PRON  0.037896  0.208430  0.034416  0.010054  0.092421  \n",
       ".     0.092900  0.222781  0.052958  0.172785  0.027915  \n",
       "NOUN  0.240077  0.265798  0.016990  0.012952  0.028850  \n",
       "ADV   0.135224  0.031992  0.079156  0.069261  0.022757  \n",
       "DET   0.017637  0.638318  0.012684  0.005799  0.045180  \n",
       "X     0.164605  0.060577  0.026483  0.055027  0.075642  "
      ]
     },
     "execution_count": 20,
     "metadata": {},
     "output_type": "execute_result"
    }
   ],
   "source": [
    "# convert the matrix to a df for better readability\n",
    "# rows represent given tags, columns represent transition prob to from the given tag in row\n",
    "tags_df = pd.DataFrame(tags_matrix, columns = list(T), index=list(T))\n",
    "tags_df"
   ]
  },
  {
   "cell_type": "markdown",
   "metadata": {},
   "source": [
    "### Heat Map to Visualize Transition Probabilties "
   ]
  },
  {
   "cell_type": "code",
   "execution_count": 21,
   "metadata": {
    "ExecuteTime": {
     "end_time": "2020-12-07T17:52:39.935333Z",
     "start_time": "2020-12-07T17:52:38.402973Z"
    }
   },
   "outputs": [
    {
     "data": {
      "image/png": "[encoded data removed]",
      "text/plain": [
       "<Figure size 864x576 with 2 Axes>"
      ]
     },
     "metadata": {
      "needs_background": "light"
     },
     "output_type": "display_data"
    }
   ],
   "source": [
    "# heatmap of tags matrix\n",
    "# T(i, j) means P(tag j given tag i)\n",
    "plt.figure(figsize=[12,8])\n",
    "sns.heatmap(tags_df,cmap='Blues',annot=True)\n",
    "plt.xlabel(\"Target Tag\")\n",
    "plt.ylabel(\"Given Tag\")\n",
    "plt.show()"
   ]
  },
  {
   "cell_type": "code",
   "execution_count": 22,
   "metadata": {
    "ExecuteTime": {
     "end_time": "2020-12-07T17:52:40.540279Z",
     "start_time": "2020-12-07T17:52:39.937736Z"
    }
   },
   "outputs": [
    {
     "data": {
      "image/png": "[encoded data removed]",
      "text/plain": [
       "<Figure size 432x288 with 2 Axes>"
      ]
     },
     "metadata": {
      "needs_background": "light"
     },
     "output_type": "display_data"
    }
   ],
   "source": [
    "# frequent tags\n",
    "# filter the df to get P(t2, t1) > 0.5\n",
    "tags_frequent = tags_df[tags_df>0.5]\n",
    "sns.heatmap(tags_frequent,annot=True)\n",
    "plt.xlabel(\"Target Tag\")\n",
    "plt.ylabel(\"Given Tag\")\n",
    "plt.show()"
   ]
  },
  {
   "cell_type": "markdown",
   "metadata": {},
   "source": [
    "### Observation:\n",
    "- There is high probability that Noun will occur given previous tag of the word was Adjective or Determinant"
   ]
  },
  {
   "cell_type": "markdown",
   "metadata": {},
   "source": [
    "### Build Viterbi Algorithm\n",
    "Let's now use the computed probabilities P(w, tag) and P(t2, t1) to assign tags to each word in the document. We'll run through each word w and compute P(tag/w)=P(w/tag).P(tag) for each tag in the tag set, and then assign the tag having the max P(tag/w).\n",
    "\n",
    "We'll store the assigned tags in a list of tuples, similar to the list 'train_tagged_words'. Each tuple will be a (token, assigned_tag). As we progress further in the list, each tag to be assigned will use the tag of the previous token.\n",
    "\n",
    "Note: P(tag|start) = P(tag|'.') "
   ]
  },
  {
   "cell_type": "code",
   "execution_count": 23,
   "metadata": {
    "ExecuteTime": {
     "end_time": "2020-12-07T17:52:40.628925Z",
     "start_time": "2020-12-07T17:52:40.546316Z"
    }
   },
   "outputs": [],
   "source": [
    "# Viterbi Heuristic\n",
    "def ViterbiUnmodified(words, train_bag = train_tagged_words):\n",
    "    state = []\n",
    "    T = list(set([pair[1] for pair in train_bag]))\n",
    "    \n",
    "    for key, word in enumerate(words):\n",
    "        #initialise list of probability column for a given observation\n",
    "        p = [] \n",
    "        prob_dict ={}\n",
    "        for tag in T:\n",
    "            if key == 0:\n",
    "                transition_p = tags_df.loc['.', tag]\n",
    "            else:\n",
    "                transition_p = tags_df.loc[state[-1], tag]\n",
    "                \n",
    "            # compute emission and state probabilities\n",
    "            emission_tup = word_given_tag(words[key], tag)\n",
    "            emission_p = emission_tup[0]/emission_tup[1]\n",
    "            state_probability = emission_p * transition_p    \n",
    "            p.append(state_probability)\n",
    "            prob_dict[tag]=state_probability\n",
    "        #pmax = max(p)\n",
    "        # getting state for which probability is maximum\n",
    "        # state_max = T[p.index(pmax)] \n",
    "        state_max = max(prob_dict, key=prob_dict.get) \n",
    "        state.append(state_max)\n",
    "    return list(zip(words, state))\n"
   ]
  },
  {
   "cell_type": "markdown",
   "metadata": {},
   "source": [
    "### Testing with 5 Random Sentences"
   ]
  },
  {
   "cell_type": "code",
   "execution_count": 24,
   "metadata": {
    "ExecuteTime": {
     "end_time": "2020-12-07T17:52:56.960170Z",
     "start_time": "2020-12-07T17:52:40.632089Z"
    }
   },
   "outputs": [
    {
     "data": {
      "text/plain": [
       "[('That', 'DET'),\n",
       " ('can', 'VERB'),\n",
       " ('be', 'VERB'),\n",
       " ('a', 'DET'),\n",
       " ('trap', 'NUM'),\n",
       " ('for', 'ADP'),\n",
       " ('unwary', 'NUM'),\n",
       " ('investors', 'NOUN'),\n",
       " (',', '.'),\n",
       " ('says', 'VERB'),\n",
       " ('0', 'X'),\n",
       " ('*T*-1', 'X'),\n",
       " ('Richard', 'NOUN'),\n",
       " ('Bernstein', 'NOUN'),\n",
       " (',', '.'),\n",
       " ('senior', 'ADJ'),\n",
       " ('quantitative', 'NUM'),\n",
       " ('analyst', 'NOUN'),\n",
       " ('at', 'ADP'),\n",
       " ('Merrill', 'NOUN'),\n",
       " ('Lynch', 'NOUN'),\n",
       " ('&', 'CONJ'),\n",
       " ('Co', 'NOUN'),\n",
       " ('.', '.'),\n",
       " ('Title', 'NOUN'),\n",
       " ('X', 'NOUN'),\n",
       " ('funds', 'NOUN'),\n",
       " ('are', 'VERB'),\n",
       " ('the', 'DET'),\n",
       " ('single', 'ADJ'),\n",
       " ('largest', 'ADJ'),\n",
       " ('source', 'NOUN'),\n",
       " ('of', 'ADP'),\n",
       " ('federal', 'ADJ'),\n",
       " ('funding', 'NOUN'),\n",
       " ('for', 'ADP'),\n",
       " ('family-planning', 'ADJ'),\n",
       " ('services', 'NOUN'),\n",
       " (',', '.'),\n",
       " ('according', 'VERB'),\n",
       " ('to', 'PRT'),\n",
       " ('the', 'DET'),\n",
       " ('opinion', 'NOUN'),\n",
       " ('by', 'ADP'),\n",
       " ('the', 'DET'),\n",
       " ('Second', 'ADJ'),\n",
       " ('U.S.', 'NOUN'),\n",
       " ('Circuit', 'NOUN'),\n",
       " ('Court', 'NOUN'),\n",
       " ('of', 'ADP'),\n",
       " ('Appeals', 'NUM'),\n",
       " ('in', 'ADP'),\n",
       " ('New', 'NOUN'),\n",
       " ('York', 'NOUN'),\n",
       " ('.', '.'),\n",
       " ('A', 'DET'),\n",
       " ('study', 'NOUN'),\n",
       " ('by', 'ADP'),\n",
       " ('Tulane', 'NUM'),\n",
       " ('Prof.', 'NOUN'),\n",
       " ('James', 'NOUN'),\n",
       " ('Wright', 'NOUN'),\n",
       " ('says', 'VERB'),\n",
       " ('0', 'X'),\n",
       " ('homelessness', 'NOUN'),\n",
       " ('is', 'VERB'),\n",
       " ('due', 'ADJ'),\n",
       " ('to', 'PRT'),\n",
       " ('a', 'DET'),\n",
       " ('complex', 'ADJ'),\n",
       " ('array', 'NUM'),\n",
       " ('of', 'ADP'),\n",
       " ('problems', 'NOUN'),\n",
       " (',', '.'),\n",
       " ('with', 'ADP'),\n",
       " ('the', 'DET'),\n",
       " ('common', 'ADJ'),\n",
       " ('thread', 'NUM'),\n",
       " ('of', 'ADP'),\n",
       " ('poverty', 'NOUN'),\n",
       " ('.', '.'),\n",
       " ('The', 'DET'),\n",
       " ('Nagymaros', 'NOUN'),\n",
       " ('dam', 'NOUN'),\n",
       " ('was', 'VERB'),\n",
       " ('designed', 'VERB'),\n",
       " ('*-1', 'X'),\n",
       " ('*-2', 'X'),\n",
       " ('to', 'PRT'),\n",
       " ('be', 'VERB'),\n",
       " ('twinned', 'NUM'),\n",
       " ('*-3', 'X'),\n",
       " ('with', 'ADP'),\n",
       " ('another', 'DET'),\n",
       " ('dam', 'NOUN'),\n",
       " (',', '.'),\n",
       " ('now', 'ADV'),\n",
       " ('nearly', 'ADV'),\n",
       " ('complete', 'VERB'),\n",
       " (',', '.'),\n",
       " ('100', 'NUM'),\n",
       " ('miles', 'NOUN'),\n",
       " ('upstream', 'NUM'),\n",
       " ('in', 'ADP'),\n",
       " ('Czechoslovakia', 'NOUN'),\n",
       " ('.', '.'),\n",
       " ('B.A.T', 'NOUN'),\n",
       " ('Industries', 'NOUN'),\n",
       " (',', '.'),\n",
       " ('which', 'DET'),\n",
       " ('*T*-2', 'X'),\n",
       " ('is', 'VERB'),\n",
       " ('being', 'VERB'),\n",
       " ('pursued', 'VERB'),\n",
       " ('*-1', 'X'),\n",
       " ('by', 'ADP'),\n",
       " ('Sir', 'NOUN'),\n",
       " ('James', 'NOUN'),\n",
       " ('Goldsmith', 'NUM'),\n",
       " (\"'s\", 'PRT'),\n",
       " ('Hoylake', 'NUM'),\n",
       " ('Investments', 'NUM'),\n",
       " (',', '.'),\n",
       " ('rose', 'VERB'),\n",
       " ('9', 'NUM'),\n",
       " ('to', 'PRT'),\n",
       " ('753', 'NUM'),\n",
       " ('on', 'ADP'),\n",
       " ('speculation', 'NOUN'),\n",
       " ('that', 'ADP'),\n",
       " ('Hoylake', 'NUM'),\n",
       " ('will', 'VERB'),\n",
       " ('sweeten', 'NUM'),\n",
       " ('its', 'PRON'),\n",
       " ('bid', 'NOUN'),\n",
       " (',', '.'),\n",
       " ('dealers', 'NOUN'),\n",
       " ('said', 'VERB'),\n",
       " ('0', 'X'),\n",
       " ('*T*-3', 'X'),\n",
       " ('.', '.')]"
      ]
     },
     "execution_count": 24,
     "metadata": {},
     "output_type": "execute_result"
    }
   ],
   "source": [
    "random.seed(1234)\n",
    "\n",
    "# choose random 5 sents\n",
    "rndom = [random.randint(1,len(test_set)) for x in range(5)]\n",
    "test_run = [test_set[i] for i in rndom]\n",
    "test_run_base = [tup for sent in test_run for tup in sent]\n",
    "test_tagged_words = [tup[0] for sent in test_run for tup in sent]\n",
    "tagged_seq = ViterbiUnmodified(test_tagged_words)\n",
    "tagged_seq"
   ]
  },
  {
   "cell_type": "markdown",
   "metadata": {
    "ExecuteTime": {
     "end_time": "2020-12-01T17:54:25.421623Z",
     "start_time": "2020-12-01T17:54:25.416555Z"
    }
   },
   "source": [
    "### Accuracy"
   ]
  },
  {
   "cell_type": "code",
   "execution_count": 25,
   "metadata": {
    "ExecuteTime": {
     "end_time": "2020-12-07T17:52:56.969382Z",
     "start_time": "2020-12-07T17:52:56.963488Z"
    }
   },
   "outputs": [
    {
     "name": "stdout",
     "output_type": "stream",
     "text": [
      "Accuracy 0.8865248226950354\n"
     ]
    }
   ],
   "source": [
    "# accuracy\n",
    "check = [i for i, j in zip(tagged_seq, test_run_base) if i == j] \n",
    "accuracy = len(check)/len(tagged_seq)\n",
    "print(\"Accuracy\",accuracy)"
   ]
  },
  {
   "cell_type": "markdown",
   "metadata": {},
   "source": [
    "### Observation \n",
    "- we see that testing with five random sentences, we get accuracy of 87% with Vanilla Viterbi"
   ]
  },
  {
   "cell_type": "markdown",
   "metadata": {},
   "source": [
    "### Check incorrect tags"
   ]
  },
  {
   "cell_type": "code",
   "execution_count": 26,
   "metadata": {
    "ExecuteTime": {
     "end_time": "2020-12-07T17:52:56.981267Z",
     "start_time": "2020-12-07T17:52:56.971884Z"
    }
   },
   "outputs": [
    {
     "name": "stdout",
     "output_type": "stream",
     "text": [
      "4 (('trap', 'NUM'), ('trap', 'NOUN'))\n",
      "6 (('unwary', 'NUM'), ('unwary', 'ADJ'))\n",
      "16 (('quantitative', 'NUM'), ('quantitative', 'ADJ'))\n",
      "45 (('Second', 'ADJ'), ('Second', 'NOUN'))\n",
      "50 (('Appeals', 'NUM'), ('Appeals', 'NOUN'))\n",
      "58 (('Tulane', 'NUM'), ('Tulane', 'NOUN'))\n",
      "70 (('array', 'NUM'), ('array', 'NOUN'))\n",
      "77 (('thread', 'NUM'), ('thread', 'NOUN'))\n",
      "90 (('twinned', 'NUM'), ('twinned', 'VERB'))\n",
      "98 (('complete', 'VERB'), ('complete', 'ADJ'))\n",
      "102 (('upstream', 'NUM'), ('upstream', 'ADV'))\n",
      "118 (('Goldsmith', 'NUM'), ('Goldsmith', 'NOUN'))\n",
      "120 (('Hoylake', 'NUM'), ('Hoylake', 'NOUN'))\n",
      "121 (('Investments', 'NUM'), ('Investments', 'NOUN'))\n",
      "130 (('Hoylake', 'NUM'), ('Hoylake', 'NOUN'))\n",
      "132 (('sweeten', 'NUM'), ('sweeten', 'VERB'))\n"
     ]
    }
   ],
   "source": [
    "# Compare predicted tags with actual tags\n",
    "for i,j in enumerate(zip(tagged_seq, test_run_base)):\n",
    "    if j[0]!=j[1]:\n",
    "        print(i,j)"
   ]
  },
  {
   "cell_type": "code",
   "execution_count": 27,
   "metadata": {
    "ExecuteTime": {
     "end_time": "2020-12-07T17:52:56.999365Z",
     "start_time": "2020-12-07T17:52:56.983854Z"
    }
   },
   "outputs": [
    {
     "name": "stdout",
     "output_type": "stream",
     "text": [
      "[previous word-tag, predicted word-tag, actual word-tag,next word-tag]\n"
     ]
    },
    {
     "data": {
      "text/plain": [
       "[[('a', 'DET'), (('trap', 'NUM'), ('trap', 'NOUN')), ('for', 'ADP')],\n",
       " [('for', 'ADP'),\n",
       "  (('unwary', 'NUM'), ('unwary', 'ADJ')),\n",
       "  ('investors', 'NOUN')],\n",
       " [('senior', 'ADJ'),\n",
       "  (('quantitative', 'NUM'), ('quantitative', 'ADJ')),\n",
       "  ('analyst', 'NOUN')],\n",
       " [('the', 'DET'), (('Second', 'ADJ'), ('Second', 'NOUN')), ('U.S.', 'NOUN')],\n",
       " [('of', 'ADP'), (('Appeals', 'NUM'), ('Appeals', 'NOUN')), ('in', 'ADP')],\n",
       " [('by', 'ADP'), (('Tulane', 'NUM'), ('Tulane', 'NOUN')), ('Prof.', 'NOUN')],\n",
       " [('complex', 'ADJ'), (('array', 'NUM'), ('array', 'NOUN')), ('of', 'ADP')],\n",
       " [('common', 'ADJ'), (('thread', 'NUM'), ('thread', 'NOUN')), ('of', 'ADP')],\n",
       " [('be', 'VERB'), (('twinned', 'NUM'), ('twinned', 'VERB')), ('*-3', 'X')],\n",
       " [('nearly', 'ADV'), (('complete', 'VERB'), ('complete', 'ADJ')), (',', '.')],\n",
       " [('miles', 'NOUN'),\n",
       "  (('upstream', 'NUM'), ('upstream', 'ADV')),\n",
       "  ('in', 'ADP')],\n",
       " [('James', 'NOUN'),\n",
       "  (('Goldsmith', 'NUM'), ('Goldsmith', 'NOUN')),\n",
       "  (\"'s\", 'PRT')],\n",
       " [(\"'s\", 'PRT'),\n",
       "  (('Hoylake', 'NUM'), ('Hoylake', 'NOUN')),\n",
       "  ('Investments', 'NOUN')],\n",
       " [('Hoylake', 'NOUN'),\n",
       "  (('Investments', 'NUM'), ('Investments', 'NOUN')),\n",
       "  (',', '.')],\n",
       " [('that', 'ADP'),\n",
       "  (('Hoylake', 'NUM'), ('Hoylake', 'NOUN')),\n",
       "  ('will', 'VERB')],\n",
       " [('will', 'VERB'),\n",
       "  (('sweeten', 'NUM'), ('sweeten', 'VERB')),\n",
       "  ('its', 'PRON')]]"
      ]
     },
     "execution_count": 27,
     "metadata": {},
     "output_type": "execute_result"
    }
   ],
   "source": [
    "# Lets check previous word-tag, predicted word-tag, actual word-tag,next word-tag\n",
    "# i: index, j: tuple(prediction,actual)\n",
    "incorrect_tagged_cases = [[test_run_base[i-1],j,test_run_base[i+1]] for i, j in enumerate(zip(tagged_seq, test_run_base)) if j[0]!=j[1]]\n",
    "# Outputs list of [previous word-tag, predicted word-tag, actual word-tag] of incorrectly tagged words\n",
    "print(\"[previous word-tag, predicted word-tag, actual word-tag,next word-tag]\")\n",
    "incorrect_tagged_cases"
   ]
  },
  {
   "cell_type": "markdown",
   "metadata": {},
   "source": [
    "### Check using Test Set"
   ]
  },
  {
   "cell_type": "code",
   "execution_count": 28,
   "metadata": {
    "ExecuteTime": {
     "end_time": "2020-12-07T17:52:57.009427Z",
     "start_time": "2020-12-07T17:52:57.001956Z"
    }
   },
   "outputs": [],
   "source": [
    "# Lets modify the Viterbi Heuristic function to use the emission matrix prepared for test set words as it will be faster\n",
    "def Viterbi(words, train_bag = train_tagged_words):\n",
    "    state = []\n",
    "    T = list(set([pair[1] for pair in train_bag]))\n",
    "    \n",
    "    for key, word in enumerate(words):\n",
    "        #initialise list of probability column for a given observation\n",
    "        p = [] \n",
    "        prob_dict ={}\n",
    "        for tag in T:\n",
    "            if key == 0:\n",
    "                transition_p = tags_df.loc['.', tag]\n",
    "            else:\n",
    "                transition_p = tags_df.loc[state[-1], tag]\n",
    "                \n",
    "            # compute emission and state probabilities\n",
    "            emission_p = emission_df.loc[word, tag]\n",
    "            state_probability = emission_p * transition_p    \n",
    "            p.append(state_probability)\n",
    "            prob_dict[tag]=state_probability\n",
    "        # getting state for which probability is maximum\n",
    "        state_max = max(prob_dict, key=prob_dict.get) \n",
    "        state.append(state_max)\n",
    "    return list(zip(words, state))\n"
   ]
  },
  {
   "cell_type": "code",
   "execution_count": 29,
   "metadata": {
    "ExecuteTime": {
     "end_time": "2020-12-07T17:52:58.060170Z",
     "start_time": "2020-12-07T17:52:57.011657Z"
    }
   },
   "outputs": [
    {
     "data": {
      "text/plain": [
       "[('You', 'PRON'),\n",
       " ('do', 'VERB'),\n",
       " (\"n't\", 'ADV'),\n",
       " ('want', 'VERB'),\n",
       " ('*-1', 'X'),\n",
       " ('to', 'PRT'),\n",
       " ('get', 'VERB'),\n",
       " ('yourself', 'PRON'),\n",
       " ('too', 'ADV'),\n",
       " ('upset', 'VERB')]"
      ]
     },
     "execution_count": 29,
     "metadata": {},
     "output_type": "execute_result"
    }
   ],
   "source": [
    "# Apply Vanilla Viterbi on Test Set Words\n",
    "tagged_seq_test = Viterbi(test_words)\n",
    "tagged_seq_test[:10]"
   ]
  },
  {
   "cell_type": "markdown",
   "metadata": {},
   "source": [
    "### Accuracy"
   ]
  },
  {
   "cell_type": "code",
   "execution_count": 30,
   "metadata": {
    "ExecuteTime": {
     "end_time": "2020-12-07T17:52:58.067647Z",
     "start_time": "2020-12-07T17:52:58.062216Z"
    }
   },
   "outputs": [
    {
     "name": "stdout",
     "output_type": "stream",
     "text": [
      "Accuracy of Vanilla Viterbi 0.91\n"
     ]
    }
   ],
   "source": [
    "# accuracy\n",
    "check = [i for i, j in zip(tagged_seq_test, test_tagged_words_base) if i == j] \n",
    "accuracy_vanilla = round(len(check)/len(tagged_seq_test),3)\n",
    "print(\"Accuracy of Vanilla Viterbi\",accuracy_vanilla)"
   ]
  },
  {
   "cell_type": "markdown",
   "metadata": {},
   "source": [
    "### Observation\n",
    "- We see that using plain Viterbi Algorithm, We are getting accuracy of 90% on test set"
   ]
  },
  {
   "cell_type": "code",
   "execution_count": 31,
   "metadata": {
    "ExecuteTime": {
     "end_time": "2020-12-07T17:52:58.183832Z",
     "start_time": "2020-12-07T17:52:58.069676Z"
    }
   },
   "outputs": [
    {
     "name": "stdout",
     "output_type": "stream",
     "text": [
      "9 (('upset', 'VERB'), ('upset', 'ADJ'))\n",
      "33 (('Tulane', 'NUM'), ('Tulane', 'NOUN'))\n",
      "45 (('array', 'NUM'), ('array', 'NOUN'))\n",
      "52 (('thread', 'NUM'), ('thread', 'NOUN'))\n",
      "59 (('like', 'ADP'), ('like', 'VERB'))\n",
      "75 (('statue', 'NUM'), ('statue', 'NOUN'))\n",
      "78 (('Jefferson', 'NUM'), ('Jefferson', 'NOUN'))\n",
      "79 (('dissolves', 'NUM'), ('dissolves', 'VERB'))\n",
      "101 (('away', 'ADV'), ('away', 'PRT'))\n",
      "126 (('eight-person', 'NUM'), ('eight-person', 'ADJ'))\n",
      "176 (('away', 'ADV'), ('away', 'PRT'))\n",
      "188 (('incest', 'NUM'), ('incest', 'NOUN'))\n",
      "207 (('transforming', 'NUM'), ('transforming', 'VERB'))\n",
      "231 (('chaotic', 'NUM'), ('chaotic', 'ADJ'))\n",
      "259 (('mirror', 'VERB'), ('mirror', 'NOUN'))\n",
      "263 (('fabled', 'NUM'), ('fabled', 'ADJ'))\n",
      "264 (('virtues', 'NUM'), ('virtues', 'NOUN'))\n",
      "277 (('Manchester', 'NUM'), ('Manchester', 'NOUN'))\n",
      "279 (('N.H.', 'NUM'), ('N.H.', 'NOUN'))\n",
      "281 (('values', 'NOUN'), ('values', 'VERB'))\n",
      "295 (('untrained', 'NUM'), ('untrained', 'ADJ'))\n",
      "300 (('botched', 'NUM'), ('botched', 'ADJ'))\n",
      "309 (('disarray', 'NUM'), ('disarray', 'NOUN'))\n",
      "328 (('long', 'ADV'), ('long', 'ADJ'))\n",
      "336 (('back', 'PRT'), ('back', 'ADV'))\n",
      "354 (('warning', 'NOUN'), ('warning', 'VERB'))\n",
      "363 (('downgraded', 'NUM'), ('downgraded', 'VERB'))\n",
      "374 (('buck', 'NUM'), ('buck', 'NOUN'))\n",
      "380 (('prior-year', 'NUM'), ('prior-year', 'ADJ'))\n",
      "387 (('adjustment', 'NUM'), ('adjustment', 'NOUN'))\n",
      "390 (('B-1B', 'NOUN'), ('B-1B', 'ADJ'))\n",
      "391 (('bomber', 'NUM'), ('bomber', 'NOUN'))\n",
      "401 (('sewing-machine', 'NUM'), ('sewing-machine', 'NOUN'))\n",
      "439 (('routine', 'NOUN'), ('routine', 'ADJ'))\n",
      "440 (('inspection', 'NUM'), ('inspection', 'NOUN'))\n",
      "452 (('about', 'ADP'), ('about', 'ADV'))\n",
      "471 (('free', 'ADJ'), ('free', 'ADV'))\n",
      "482 (('glamorize', 'NUM'), ('glamorize', 'VERB'))\n",
      "486 (('vagabond', 'NUM'), ('vagabond', 'NOUN'))\n",
      "487 (('existence', 'NUM'), ('existence', 'NOUN'))\n",
      "490 (('senior', 'ADJ'), ('senior', 'NOUN'))\n",
      "504 (('Nigel', 'NUM'), ('Nigel', 'NOUN'))\n",
      "505 (('Judah', 'NUM'), ('Judah', 'NOUN'))\n",
      "533 (('more', 'ADV'), ('more', 'ADJ'))\n",
      "546 (('ends', 'NUM'), ('ends', 'VERB'))\n",
      "562 (('whimsical', 'NUM'), ('whimsical', 'ADJ'))\n",
      "564 (('enviable', 'NUM'), ('enviable', 'ADJ'))\n",
      "569 (('beaten', 'VERB'), ('beaten', 'ADJ'))\n",
      "575 (('as', 'ADP'), ('as', 'ADV'))\n",
      "581 (('principal', 'NOUN'), ('principal', 'ADJ'))\n",
      "582 (('fights', 'NUM'), ('fights', 'NOUN'))\n",
      "602 (('two-time-losers', 'NUM'), ('two-time-losers', 'ADJ'))\n",
      "621 (('Lorenzo', 'NUM'), ('Lorenzo', 'NOUN'))\n",
      "628 (('over', 'ADP'), ('over', 'PRT'))\n",
      "641 (('twinned', 'NUM'), ('twinned', 'VERB'))\n",
      "649 (('complete', 'VERB'), ('complete', 'ADJ'))\n",
      "653 (('upstream', 'NUM'), ('upstream', 'ADV'))\n",
      "660 (('returns', 'NOUN'), ('returns', 'VERB'))\n",
      "664 (('building', 'VERB'), ('building', 'NOUN'))\n",
      "671 (('Periods', 'NUM'), ('Periods', 'NOUN'))\n",
      "674 (('advent', 'NUM'), ('advent', 'NOUN'))\n",
      "682 (('more', 'ADJ'), ('more', 'ADV'))\n",
      "691 (('undergoing', 'NUM'), ('undergoing', 'VERB'))\n",
      "707 (('corn-buying', 'NUM'), ('corn-buying', 'ADJ'))\n",
      "708 (('binge', 'NUM'), ('binge', 'NOUN'))\n",
      "711 (('Soviet', 'ADJ'), ('Soviet', 'NOUN'))\n",
      "716 (('bottlenecks', 'NUM'), ('bottlenecks', 'NOUN'))\n",
      "721 (('pipeline', 'NUM'), ('pipeline', 'NOUN'))\n",
      "734 (('doubts', 'NUM'), ('doubts', 'VERB'))\n",
      "746 (('sticker-shock', 'NUM'), ('sticker-shock', 'NOUN'))\n",
      "762 (('talked', 'NUM'), ('talked', 'VERB'))\n",
      "766 (('starts', 'NOUN'), ('starts', 'VERB'))\n",
      "774 (('excited', 'NUM'), ('excited', 'VERB'))\n",
      "780 (('worth', 'ADP'), ('worth', 'ADJ'))\n",
      "782 (('astronomical', 'NUM'), ('astronomical', 'ADJ'))\n",
      "790 (('collection', 'NUM'), ('collection', 'NOUN'))\n",
      "814 (('Second', 'ADJ'), ('Second', 'NOUN'))\n",
      "819 (('Appeals', 'NUM'), ('Appeals', 'NOUN'))\n",
      "831 (('most', 'ADV'), ('most', 'ADJ'))\n",
      "844 (('building', 'NOUN'), ('building', 'VERB'))\n",
      "845 (('schemes', 'NUM'), ('schemes', 'NOUN'))\n",
      "850 (('pharaohs', 'NUM'), ('pharaohs', 'NOUN'))\n",
      "856 (('erect', 'NUM'), ('erect', 'VERB'))\n",
      "858 (('playgrounds', 'NUM'), ('playgrounds', 'NOUN'))\n",
      "861 (('passions', 'NUM'), ('passions', 'NOUN'))\n",
      "877 (('arbitrager', 'NUM'), ('arbitrager', 'NOUN'))\n",
      "886 (('sad', 'NUM'), ('sad', 'ADJ'))\n",
      "898 (('performers', 'NUM'), ('performers', 'NOUN'))\n",
      "899 (('first', 'ADJ'), ('first', 'ADV'))\n",
      "906 (('grapple', 'NUM'), ('grapple', 'VERB'))\n",
      "965 (('fair', 'NUM'), ('fair', 'ADJ'))\n",
      "1000 (('own', 'ADJ'), ('own', 'VERB'))\n",
      "1016 (('Lilly', 'NUM'), ('Lilly', 'NOUN'))\n",
      "1038 (('that', 'ADP'), ('that', 'DET'))\n",
      "1043 (('Mindy', 'NUM'), ('Mindy', 'NOUN'))\n",
      "1079 (('about', 'ADP'), ('about', 'ADV'))\n",
      "1089 (('*T*-24', 'NUM'), ('*T*-24', 'X'))\n",
      "1097 (('C-90', 'NUM'), ('C-90', 'NOUN'))\n",
      "1110 (('Moreover', 'ADV'), ('Moreover', 'ADJ'))\n",
      "1151 (('Third', 'NUM'), ('Third', 'ADJ'))\n",
      "1159 (('Net', 'NOUN'), ('Net', 'ADJ'))\n",
      "1167 (('vs.', 'ADP'), ('vs.', 'CONJ'))\n",
      "1168 (('net', 'ADJ'), ('net', 'NOUN'))\n",
      "1176 (('*T*-102', 'NUM'), ('*T*-102', 'X'))\n",
      "1177 ((\"'s\", 'PRT'), (\"'s\", 'VERB'))\n",
      "1210 (('Communication', 'NUM'), ('Communication', 'NOUN'))\n",
      "1223 (('plane', 'NUM'), ('plane', 'NOUN'))\n",
      "1230 (('mid-1990s', 'NUM'), ('mid-1990s', 'NOUN'))\n",
      "1241 (('Helsinki', 'NUM'), ('Helsinki', 'NOUN'))\n",
      "1252 (('more', 'ADV'), ('more', 'ADJ'))\n",
      "1279 (('show', 'VERB'), ('show', 'NOUN'))\n",
      "1281 (('enraged', 'NUM'), ('enraged', 'VERB'))\n",
      "1300 (('reasserts', 'NUM'), ('reasserts', 'VERB'))\n",
      "1310 (('leading', 'ADJ'), ('leading', 'VERB'))\n",
      "1331 (('in', 'ADP'), ('in', 'PRT'))\n",
      "1333 (('short-wave', 'NUM'), ('short-wave', 'ADJ'))\n",
      "1336 (('transcribe', 'NUM'), ('transcribe', 'VERB'))\n",
      "1349 (('Cataracts', 'NUM'), ('Cataracts', 'NOUN'))\n",
      "1350 (('refer', 'NUM'), ('refer', 'VERB'))\n",
      "1353 (('clouding', 'NUM'), ('clouding', 'NOUN'))\n",
      "1390 (('3', 'X'), ('3', 'NUM'))\n",
      "1426 (('gamut', 'NUM'), ('gamut', 'NOUN'))\n",
      "1430 (('blender', 'NUM'), ('blender', 'NOUN'))\n",
      "1432 (('chairs', 'NUM'), ('chairs', 'NOUN'))\n",
      "1456 (('observations', 'NUM'), ('observations', 'NOUN'))\n",
      "1497 (('nonfinancial', 'NUM'), ('nonfinancial', 'ADJ'))\n",
      "1517 (('*T*-24', 'NUM'), ('*T*-24', 'X'))\n",
      "1518 (('examine', 'NUM'), ('examine', 'VERB'))\n",
      "1536 (('verbatim', 'NUM'), ('verbatim', 'ADJ'))\n",
      "1540 (('one', 'NUM'), ('one', 'NOUN'))\n",
      "1546 (('what', 'PRON'), ('what', 'DET'))\n",
      "1625 (('set', 'VERB'), ('set', 'NOUN'))\n",
      "1651 (('secret', 'NUM'), ('secret', 'NOUN'))\n",
      "1661 (('likely', 'ADJ'), ('likely', 'ADV'))\n",
      "1662 (('trim', 'NUM'), ('trim', 'VERB'))\n",
      "1679 (('minicrash', 'NUM'), ('minicrash', 'NOUN'))\n",
      "1685 (('shaken', 'NUM'), ('shaken', 'VERB'))\n",
      "1691 (('resentment', 'NUM'), ('resentment', 'NOUN'))\n",
      "1699 (('lightning-fast', 'NUM'), ('lightning-fast', 'ADJ'))\n",
      "1708 (('that', 'ADP'), ('that', 'DET'))\n",
      "1714 (('reeling', 'NUM'), ('reeling', 'VERB'))\n",
      "1732 (('spoke', 'NUM'), ('spoke', 'VERB'))\n",
      "1734 (('length', 'NUM'), ('length', 'NOUN'))\n",
      "1742 (('near', 'ADP'), ('near', 'ADJ'))\n",
      "1749 (('that', 'ADP'), ('that', 'DET'))\n",
      "1750 (('*T*-239', 'NUM'), ('*T*-239', 'X'))\n",
      "1753 (('afflicted', 'NUM'), ('afflicted', 'VERB'))\n",
      "1755 (('Sino-U.S.', 'ADJ'), ('Sino-U.S.', 'NOUN'))\n",
      "1769 (('explosive', 'NUM'), ('explosive', 'ADJ'))\n",
      "1773 (('desktop', 'NUM'), ('desktop', 'NOUN'))\n",
      "1786 (('ends', 'NUM'), ('ends', 'NOUN'))\n",
      "1790 (('spectrum', 'NUM'), ('spectrum', 'NOUN'))\n",
      "1802 (('liberal', 'ADJ'), ('liberal', 'NOUN'))\n",
      "1822 (('enormously', 'NUM'), ('enormously', 'ADV'))\n",
      "1823 (('frustrating', 'NUM'), ('frustrating', 'VERB'))\n",
      "1839 (('science', 'NUM'), ('science', 'NOUN'))\n",
      "1842 (('raring', 'NUM'), ('raring', 'ADJ'))\n",
      "1845 (('invent', 'NUM'), ('invent', 'VERB'))\n",
      "1847 (('Walkman', 'NUM'), ('Walkman', 'NOUN'))\n",
      "1860 (('plaintive', 'NUM'), ('plaintive', 'ADJ'))\n",
      "1862 (('high-minded', 'NUM'), ('high-minded', 'ADJ'))\n",
      "1865 (('assurance', 'NUM'), ('assurance', 'NOUN'))\n",
      "1874 (('reading', 'NOUN'), ('reading', 'VERB'))\n",
      "1878 (('sticky', 'NUM'), ('sticky', 'ADJ'))\n",
      "1879 (('fingers', 'NUM'), ('fingers', 'NOUN'))\n",
      "1881 (('sweaty', 'NUM'), ('sweaty', 'ADJ'))\n",
      "1891 (('searching', 'NUM'), ('searching', 'VERB'))\n",
      "1898 (('food-industry', 'NUM'), ('food-industry', 'NOUN'))\n",
      "1906 (('early', 'ADJ'), ('early', 'ADV'))\n",
      "1924 (('Yields', 'NUM'), ('Yields', 'NOUN'))\n",
      "1932 (('slide', 'NOUN'), ('slide', 'VERB'))\n",
      "1940 (('further', 'ADV'), ('further', 'ADJ'))\n",
      "1941 (('declines', 'VERB'), ('declines', 'NOUN'))\n",
      "1951 (('Elsevier', 'NUM'), ('Elsevier', 'NOUN'))\n",
      "1955 (('Dutch', 'ADJ'), ('Dutch', 'NOUN'))\n",
      "1956 (('publishing', 'NOUN'), ('publishing', 'VERB'))\n",
      "1970 (('octogenarians', 'NUM'), ('octogenarians', 'NOUN'))\n",
      "1978 (('*T*-222', 'NUM'), ('*T*-222', 'X'))\n",
      "1988 (('sometimes-exhausting', 'NUM'), ('sometimes-exhausting', 'ADJ'))\n",
      "1995 (('sounding', 'NUM'), ('sounding', 'VERB'))\n",
      "1999 (('belfries', 'NUM'), ('belfries', 'NOUN'))\n",
      "2002 (('Anglia', 'NUM'), ('Anglia', 'NOUN'))\n",
      "2005 (('Dolphins', 'NUM'), ('Dolphins', 'NOUN'))\n",
      "2009 (('disagrees', 'NUM'), ('disagrees', 'VERB'))\n",
      "2018 (('British', 'ADJ'), ('British', 'NOUN'))\n",
      "2043 (('ratcheting', 'NUM'), ('ratcheting', 'VERB'))\n",
      "2044 (('up', 'PRT'), ('up', 'ADP'))\n",
      "2047 (('referenda', 'NUM'), ('referenda', 'NOUN'))\n",
      "2049 (('initiatives', 'NOUN'), ('initiatives', 'VERB'))\n",
      "2064 (('Democracy', 'NUM'), ('Democracy', 'NOUN'))\n",
      "2067 (('Continuing', 'NUM'), ('Continuing', 'VERB'))\n",
      "2084 (('anti-takeover', 'NUM'), ('anti-takeover', 'ADJ'))\n",
      "2112 (('winter', 'NUM'), ('winter', 'NOUN'))\n",
      "2128 (('romanticized', 'NUM'), ('romanticized', 'VERB'))\n",
      "2139 (('more', 'ADJ'), ('more', 'ADV'))\n",
      "2140 (('romanticized', 'NUM'), ('romanticized', 'VERB'))\n",
      "2151 (('good-hearted', 'NUM'), ('good-hearted', 'ADJ'))\n",
      "2165 (('sectors', 'NUM'), ('sectors', 'NOUN'))\n",
      "2171 (('Calder', 'NUM'), ('Calder', 'NOUN'))\n",
      "2176 (('East', 'NOUN'), ('East', 'ADJ'))\n",
      "2181 (('Woodrow', 'NUM'), ('Woodrow', 'NOUN'))\n",
      "2182 (('Wilson', 'NUM'), ('Wilson', 'NOUN'))\n",
      "2187 (('Internatonal', 'NUM'), ('Internatonal', 'NOUN'))\n",
      "2193 (('New', 'NOUN'), ('New', 'ADJ'))\n",
      "2195 (('force', 'NOUN'), ('force', 'VERB'))\n",
      "2199 (('down', 'ADV'), ('down', 'PRT'))\n",
      "2226 (('reprove', 'NUM'), ('reprove', 'VERB'))\n",
      "2240 (('gut-wrenching', 'NUM'), ('gut-wrenching', 'ADJ'))\n",
      "2241 (('190-point', 'NUM'), ('190-point', 'ADJ'))\n",
      "2262 (('letter-writing', 'NUM'), ('letter-writing', 'ADJ'))\n",
      "2268 (('quashing', 'NUM'), ('quashing', 'VERB'))\n",
      "2276 (('Gilts', 'NUM'), ('Gilts', 'NOUN'))\n",
      "2290 (('retraced', 'NUM'), ('retraced', 'VERB'))\n",
      "2297 (('end', 'NOUN'), ('end', 'VERB'))\n",
      "2303 (('More', 'ADV'), ('More', 'ADJ'))\n",
      "2317 (('stress', 'NUM'), ('stress', 'NOUN'))\n",
      "2391 (('small-time', 'NUM'), ('small-time', 'ADJ'))\n",
      "2431 (('Named', 'NUM'), ('Named', 'VERB'))\n",
      "2437 (('Roland', 'NUM'), ('Roland', 'NOUN'))\n",
      "2438 (('Matthews', 'NUM'), ('Matthews', 'NOUN'))\n",
      "2444 (('Jonas', 'NUM'), ('Jonas', 'NOUN'))\n",
      "2446 (('executive', 'NOUN'), ('executive', 'ADJ'))\n",
      "2454 (('as', 'ADP'), ('as', 'ADV'))\n",
      "2465 (('commercial', 'ADJ'), ('commercial', 'NOUN'))\n",
      "2471 (('Squier', 'NUM'), ('Squier', 'NOUN'))\n",
      "2478 (('mean', 'VERB'), ('mean', 'ADJ'))\n",
      "2480 (('dirty', 'NUM'), ('dirty', 'ADJ'))\n",
      "2483 (('Customers', 'NUM'), ('Customers', 'NOUN'))\n",
      "2484 (('holding', 'NOUN'), ('holding', 'VERB'))\n",
      "2490 (('undelivered', 'NUM'), ('undelivered', 'ADJ'))\n",
      "2497 (('most', 'ADV'), ('most', 'ADJ'))\n",
      "2516 (('DiLoreto', 'NUM'), ('DiLoreto', 'NOUN'))\n",
      "2521 (('container', 'NUM'), ('container', 'NOUN'))\n",
      "2551 (('Delmont', 'NUM'), ('Delmont', 'NOUN'))\n",
      "2563 (('operating', 'NOUN'), ('operating', 'VERB'))\n",
      "2576 (('ordinary', 'NUM'), ('ordinary', 'ADJ'))\n",
      "2593 (('cousins', 'NUM'), ('cousins', 'NOUN'))\n",
      "2602 (('enthusiasm', 'NUM'), ('enthusiasm', 'NOUN'))\n",
      "2640 (('U.S.-Japan', 'NUM'), ('U.S.-Japan', 'ADJ'))\n",
      "2652 (('minus', 'CONJ'), ('minus', 'NOUN'))\n",
      "2663 (('real', 'ADJ'), ('real', 'ADV'))\n",
      "2677 (('DeFazio', 'NUM'), ('DeFazio', 'NOUN'))\n",
      "2692 (('criteria', 'NUM'), ('criteria', 'NOUN'))\n",
      "2746 (('locally', 'NUM'), ('locally', 'ADV'))\n",
      "2748 (('hydraulically', 'NUM'), ('hydraulically', 'ADV'))\n",
      "2771 (('minimum', 'ADJ'), ('minimum', 'NOUN'))\n",
      "2777 (('*-112', 'NUM'), ('*-112', 'X'))\n",
      "2780 (('enthusiasm', 'NUM'), ('enthusiasm', 'NOUN'))\n",
      "2798 (('bid', 'VERB'), ('bid', 'NOUN'))\n",
      "2800 (('Great', 'NOUN'), ('Great', 'ADJ'))\n",
      "2803 (('evaporated', 'NUM'), ('evaporated', 'VERB'))\n",
      "2858 (('Farren', 'NUM'), ('Farren', 'NOUN'))\n",
      "2874 (('experience', 'NOUN'), ('experience', 'VERB'))\n",
      "2877 (('joy', 'NUM'), ('joy', 'NOUN'))\n",
      "2893 (('*T*-207', 'NUM'), ('*T*-207', 'X'))\n",
      "2900 (('troubled', 'ADJ'), ('troubled', 'VERB'))\n",
      "2911 (('remorse', 'NUM'), ('remorse', 'NOUN'))\n",
      "2913 (('shallow', 'NUM'), ('shallow', 'ADJ'))\n",
      "2921 (('trap', 'NUM'), ('trap', 'NOUN'))\n",
      "2923 (('unwary', 'NUM'), ('unwary', 'ADJ'))\n",
      "2933 (('quantitative', 'NUM'), ('quantitative', 'ADJ'))\n",
      "2941 (('Deregulation', 'NUM'), ('Deregulation', 'NOUN'))\n",
      "2952 (('*T*-201', 'NUM'), ('*T*-201', 'X'))\n",
      "2956 (('as', 'ADP'), ('as', 'ADV'))\n",
      "2960 (('up', 'ADV'), ('up', 'PRT'))\n",
      "2968 (('high-rate', 'NUM'), ('high-rate', 'ADJ'))\n",
      "2969 (('CDs', 'NUM'), ('CDs', 'NOUN'))\n",
      "2980 (('reorganized', 'NUM'), ('reorganized', 'VERB'))\n",
      "2989 (('Ranger', 'NUM'), ('Ranger', 'NOUN'))\n",
      "3026 (('polarized', 'NUM'), ('polarized', 'VERB'))\n",
      "3029 (('so', 'ADV'), ('so', 'ADP'))\n",
      "3034 (('exists', 'NUM'), ('exists', 'VERB'))\n",
      "3040 (('middle', 'NOUN'), ('middle', 'ADJ'))\n",
      "3064 (('about', 'ADP'), ('about', 'ADV'))\n",
      "3087 (('cranked', 'NUM'), ('cranked', 'VERB'))\n",
      "3091 (('worthy', 'NUM'), ('worthy', 'ADJ'))\n",
      "3101 (('*T*-237', 'NUM'), ('*T*-237', 'X'))\n",
      "3106 (('lacked', 'NUM'), ('lacked', 'VERB'))\n",
      "3119 (('A', 'DET'), ('A', 'NOUN'))\n",
      "3121 (('preferred', 'ADJ'), ('preferred', 'VERB'))\n",
      "3174 (('overcapacity', 'NUM'), ('overcapacity', 'NOUN'))\n",
      "3186 ((\"'s\", 'PRT'), (\"'s\", 'VERB'))\n",
      "3226 (('*T*-242', 'NUM'), ('*T*-242', 'X'))\n",
      "3233 (('ordering', 'NUM'), ('ordering', 'VERB'))\n",
      "3238 (('TIRED', 'NUM'), ('TIRED', 'ADJ'))\n",
      "3241 (('TRIMMING', 'NUM'), ('TRIMMING', 'VERB'))\n",
      "3279 (('facilitate', 'NUM'), ('facilitate', 'VERB'))\n",
      "3303 (('earlier', 'ADV'), ('earlier', 'ADJ'))\n",
      "3305 (('Billings', 'NUM'), ('Billings', 'NOUN'))\n",
      "3317 (('*T*-155', 'NUM'), ('*T*-155', 'X'))\n",
      "3320 (('serviced', 'NUM'), ('serviced', 'VERB'))\n",
      "3339 (('WFRR', 'NUM'), ('WFRR', 'NOUN'))\n",
      "3340 (('L.P.', 'NUM'), ('L.P.', 'NOUN'))\n",
      "3342 (('GHKM', 'NUM'), ('GHKM', 'NOUN'))\n",
      "3415 (('sweeping', 'ADJ'), ('sweeping', 'VERB'))\n",
      "3427 (('publishing', 'NOUN'), ('publishing', 'VERB'))\n",
      "3428 (('entrepreneur', 'NUM'), ('entrepreneur', 'NOUN'))\n",
      "3429 (('Patricia', 'NUM'), ('Patricia', 'NOUN'))\n",
      "3447 (('scoop', 'VERB'), ('scoop', 'NOUN'))\n",
      "3463 (('long', 'ADJ'), ('long', 'ADV'))\n",
      "3481 (('stripped', 'NUM'), ('stripped', 'VERB'))\n",
      "3492 (('Noriega', 'NUM'), ('Noriega', 'NOUN'))\n",
      "3493 (('regime', 'NUM'), ('regime', 'NOUN'))\n",
      "3511 (('21-month', 'NUM'), ('21-month', 'ADJ'))\n",
      "3553 (('settlements', 'NUM'), ('settlements', 'NOUN'))\n",
      "3561 (('plea', 'NUM'), ('plea', 'NOUN'))\n",
      "3564 (('felonies', 'NUM'), ('felonies', 'NOUN'))\n",
      "3565 (('related', 'ADJ'), ('related', 'VERB'))\n",
      "3570 (('insider-trading', 'NUM'), ('insider-trading', 'ADJ'))\n",
      "3596 (('sum', 'NUM'), ('sum', 'NOUN'))\n",
      "3601 ((\"'s\", 'PRT'), (\"'s\", 'VERB'))\n",
      "3608 (('on', 'ADP'), ('on', 'PRT'))\n",
      "3617 (('land', 'VERB'), ('land', 'NOUN'))\n",
      "3624 (('cleaned', 'NUM'), ('cleaned', 'VERB'))\n",
      "3630 (('pollution', 'NUM'), ('pollution', 'NOUN'))\n",
      "3644 (('guarantee', 'VERB'), ('guarantee', 'NOUN'))\n",
      "3672 (('Mogavero', 'NUM'), ('Mogavero', 'NOUN'))\n",
      "3679 (('Piscataway', 'NUM'), ('Piscataway', 'NOUN'))\n",
      "3683 (('Tokyu', 'NUM'), ('Tokyu', 'NOUN'))\n",
      "3710 (('cocky', 'NUM'), ('cocky', 'ADJ'))\n",
      "3713 (('yielding', 'VERB'), ('yielding', 'ADJ'))\n",
      "3739 (('organized', 'ADJ'), ('organized', 'VERB'))\n",
      "3760 (('Net', 'NOUN'), ('Net', 'ADJ'))\n",
      "3775 (('earlier', 'ADV'), ('earlier', 'ADJ'))\n",
      "3779 (('long-time', 'NUM'), ('long-time', 'ADJ'))\n",
      "3782 (('Griffin', 'NUM'), ('Griffin', 'NOUN'))\n",
      "3791 (('WTD', 'NUM'), ('WTD', 'NOUN'))\n",
      "3814 (('worries', 'VERB'), ('worries', 'NOUN'))\n",
      "3830 (('closer', 'ADV'), ('closer', 'ADJ'))\n",
      "3831 (('track', 'NUM'), ('track', 'NOUN'))\n",
      "3833 (('achievement-test', 'NUM'), ('achievement-test', 'NOUN'))\n",
      "3836 (('next', 'ADP'), ('next', 'ADJ'))\n",
      "3851 (('Goldsmith', 'NUM'), ('Goldsmith', 'NOUN'))\n",
      "3853 (('Hoylake', 'NUM'), ('Hoylake', 'NOUN'))\n",
      "3854 (('Investments', 'NUM'), ('Investments', 'NOUN'))\n",
      "3863 (('Hoylake', 'NUM'), ('Hoylake', 'NOUN'))\n",
      "3865 (('sweeten', 'NUM'), ('sweeten', 'VERB'))\n",
      "3875 (('minimum', 'ADJ'), ('minimum', 'NOUN'))\n",
      "3884 (('lower-priority', 'NUM'), ('lower-priority', 'ADJ'))\n",
      "3886 (('that', 'ADP'), ('that', 'DET'))\n",
      "3912 (('diplomats', 'NUM'), ('diplomats', 'NOUN'))\n",
      "3914 (('clicked', 'NUM'), ('clicked', 'VERB'))\n",
      "3922 (('stock-index', 'ADJ'), ('stock-index', 'NOUN'))\n",
      "3935 (('good-faith', 'NUM'), ('good-faith', 'NOUN'))\n",
      "3958 (('Shipments', 'NUM'), ('Shipments', 'NOUN'))\n",
      "3962 (('level', 'NOUN'), ('level', 'ADJ'))\n",
      "3974 (('Filmed', 'NUM'), ('Filmed', 'VERB'))\n",
      "3977 (('lovely', 'NUM'), ('lovely', 'ADJ'))\n",
      "3978 (('black', 'ADJ'), ('black', 'NOUN'))\n",
      "3980 (('white', 'ADJ'), ('white', 'NOUN'))\n",
      "3983 (('Dill', 'NUM'), ('Dill', 'NOUN'))\n",
      "3995 (('benign', 'NUM'), ('benign', 'ADJ'))\n",
      "3999 ((\"'s\", 'PRT'), (\"'s\", 'VERB'))\n",
      "4015 (('that', 'ADP'), ('that', 'DET'))\n",
      "4025 (('borrowings', 'NUM'), ('borrowings', 'NOUN'))\n",
      "4027 (('signal', 'NOUN'), ('signal', 'VERB'))\n",
      "4035 (('cute', 'NUM'), ('cute', 'ADJ'))\n",
      "4046 (('curse', 'NUM'), ('curse', 'NOUN'))\n",
      "4051 (('Wells', 'NUM'), ('Wells', 'NOUN'))\n",
      "4052 (('Fargo', 'NUM'), ('Fargo', 'NOUN'))\n",
      "4064 (('*T*-198', 'NUM'), ('*T*-198', 'X'))\n",
      "4073 (('safe-deposit', 'NUM'), ('safe-deposit', 'ADJ'))\n",
      "4076 (('travelers', 'NUM'), ('travelers', 'NOUN'))\n",
      "4125 (('rings', 'NOUN'), ('rings', 'VERB'))\n",
      "4128 (('Great', 'NOUN'), ('Great', 'ADJ'))\n",
      "4156 (('Virtually', 'NUM'), ('Virtually', 'ADV'))\n",
      "4169 (('social-studies', 'NUM'), ('social-studies', 'NOUN'))\n",
      "4183 (('withdrew', 'NUM'), ('withdrew', 'VERB'))\n",
      "4186 (('120-a-share', 'NUM'), ('120-a-share', 'ADJ'))\n",
      "4188 (('bid', 'VERB'), ('bid', 'NOUN'))\n",
      "4203 (('scarce', 'NUM'), ('scarce', 'ADJ'))\n",
      "4206 (('History', 'NUM'), ('History', 'NOUN'))\n",
      "4217 (('Integra-A', 'NUM'), ('Integra-A', 'NOUN'))\n",
      "4220 (('Restaurant', 'NUM'), ('Restaurant', 'NOUN'))\n",
      "4232 (('about', 'ADP'), ('about', 'ADV'))\n",
      "4239 (('*-103', 'NUM'), ('*-103', 'X'))\n",
      "4247 (('mailing', 'NOUN'), ('mailing', 'VERB'))\n",
      "4263 (('sliding', 'NUM'), ('sliding', 'VERB'))\n",
      "4284 (('that', 'ADP'), ('that', 'DET'))\n",
      "4289 (('Ariail', 'NUM'), ('Ariail', 'NOUN'))\n",
      "4292 (('social-studies', 'NUM'), ('social-studies', 'NOUN'))\n",
      "4308 (('high', 'ADJ'), ('high', 'ADV'))\n",
      "4316 (('that', 'ADP'), ('that', 'DET'))\n",
      "4320 (('demand', 'NOUN'), ('demand', 'VERB'))\n",
      "4325 (('one', 'NUM'), ('one', 'NOUN'))\n",
      "4353 (('percent', 'NUM'), ('percent', 'NOUN'))\n",
      "4390 (('obsession', 'NUM'), ('obsession', 'NOUN'))\n",
      "4396 (('Pattenden', 'NUM'), ('Pattenden', 'NOUN'))\n",
      "4412 (('female', 'ADJ'), ('female', 'NOUN'))\n",
      "4417 (('modification', 'NUM'), ('modification', 'NOUN'))\n",
      "4421 (('*-130', 'NUM'), ('*-130', 'X'))\n",
      "4425 (('opening', 'NOUN'), ('opening', 'VERB'))\n",
      "4507 (('more', 'ADV'), ('more', 'ADJ'))\n",
      "4519 (('directionless', 'NUM'), ('directionless', 'ADJ'))\n",
      "4539 (('*T*-160', 'NUM'), ('*T*-160', 'X'))\n",
      "4551 (('future', 'ADJ'), ('future', 'NOUN'))\n",
      "4566 (('moons', 'NUM'), ('moons', 'NOUN'))\n",
      "4569 (('renovated', 'NUM'), ('renovated', 'VERB'))\n",
      "4571 (('Roof', 'NUM'), ('Roof', 'NOUN'))\n",
      "4572 (('ballroom', 'NUM'), ('ballroom', 'NOUN'))\n",
      "4577 (('hottest', 'NUM'), ('hottest', 'ADJ'))\n",
      "4584 (('duckling', 'NUM'), ('duckling', 'NOUN'))\n",
      "4585 (('mousseline', 'NUM'), ('mousseline', 'NOUN'))\n",
      "4587 (('lobster', 'NUM'), ('lobster', 'NOUN'))\n",
      "4588 (('consomme', 'NUM'), ('consomme', 'NOUN'))\n",
      "4590 (('veal', 'NUM'), ('veal', 'NOUN'))\n",
      "4591 (('mignon', 'NUM'), ('mignon', 'NOUN'))\n",
      "4593 (('chocolate', 'NUM'), ('chocolate', 'ADJ'))\n",
      "4594 (('terrine', 'NUM'), ('terrine', 'NOUN'))\n",
      "4597 (('raspberry', 'NUM'), ('raspberry', 'NOUN'))\n",
      "4598 (('sauce', 'NUM'), ('sauce', 'NOUN'))\n",
      "4604 (('unworkable', 'NUM'), ('unworkable', 'ADJ'))\n",
      "4612 (('executive', 'NOUN'), ('executive', 'ADJ'))\n",
      "4614 (('unfunded', 'NUM'), ('unfunded', 'ADJ'))\n",
      "4619 (('sign', 'NOUN'), ('sign', 'VERB'))\n",
      "4626 (('assert', 'NUM'), ('assert', 'VERB'))\n",
      "4636 (('restricting', 'NUM'), ('restricting', 'VERB'))\n",
      "4657 (('much', 'ADV'), ('much', 'ADJ'))\n",
      "4666 (('MEDICINE', 'NUM'), ('MEDICINE', 'NOUN'))\n",
      "4667 (('TRANSPLANT', 'NUM'), ('TRANSPLANT', 'NOUN'))\n",
      "4675 (('prompts', 'NUM'), ('prompts', 'VERB'))\n",
      "4686 (('up', 'ADV'), ('up', 'PRT'))\n",
      "4688 (('bilingual', 'NUM'), ('bilingual', 'ADJ'))\n",
      "4694 (('ranked', 'NUM'), ('ranked', 'VERB'))\n",
      "4697 (('offering', 'VERB'), ('offering', 'NOUN'))\n",
      "4700 (('most', 'ADJ'), ('most', 'ADV'))\n",
      "4719 (('infrequent', 'NUM'), ('infrequent', 'ADJ'))\n",
      "4721 (('Mortgage-Backed', 'NUM'), ('Mortgage-Backed', 'NOUN'))\n",
      "4728 (('enticed', 'NUM'), ('enticed', 'VERB'))\n",
      "4737 (('executive', 'NOUN'), ('executive', 'ADJ'))\n",
      "4747 (('befuddled', 'NUM'), ('befuddled', 'VERB'))\n",
      "4776 (('Net', 'NOUN'), ('Net', 'ADJ'))\n",
      "4795 (('trading', 'NOUN'), ('trading', 'VERB'))\n",
      "4817 (('curbing', 'NUM'), ('curbing', 'VERB'))\n",
      "4823 (('darned', 'NUM'), ('darned', 'ADV'))\n",
      "4844 (('twindam', 'NUM'), ('twindam', 'NOUN'))\n",
      "4861 (('evolved', 'NUM'), ('evolved', 'VERB'))\n",
      "4862 (('out', 'PRT'), ('out', 'ADP'))\n",
      "4866 (('Si', 'NUM'), ('Si', 'NOUN'))\n",
      "4879 (('GOODY', 'NUM'), ('GOODY', 'NOUN'))\n",
      "4880 (('PRODUCTS', 'NUM'), ('PRODUCTS', 'NOUN'))\n"
     ]
    }
   ],
   "source": [
    "# Lets compare the tags for incorrectly tagged sequence\n",
    "for i,j in enumerate(zip(tagged_seq_test, test_tagged_words_base)):\n",
    "    if j[0]!=j[1]:\n",
    "        print(i,j)"
   ]
  },
  {
   "cell_type": "code",
   "execution_count": 32,
   "metadata": {
    "ExecuteTime": {
     "end_time": "2020-12-07T17:52:58.200416Z",
     "start_time": "2020-12-07T17:52:58.188611Z"
    },
    "scrolled": true
   },
   "outputs": [
    {
     "name": "stdout",
     "output_type": "stream",
     "text": [
      "Number of incorrectly tagged sequence 441\n",
      "First 10 incorrectly tagged sequence\n",
      "[previous word-tag, predicted word-tag, actual word-tag]\n"
     ]
    },
    {
     "data": {
      "text/plain": [
       "[[('too', 'ADV'), (('upset', 'VERB'), ('upset', 'ADJ'))],\n",
       " [('by', 'ADP'), (('Tulane', 'NUM'), ('Tulane', 'NOUN'))],\n",
       " [('complex', 'ADJ'), (('array', 'NUM'), ('array', 'NOUN'))],\n",
       " [('common', 'ADJ'), (('thread', 'NUM'), ('thread', 'NOUN'))],\n",
       " [('would', 'VERB'), (('like', 'ADP'), ('like', 'VERB'))],\n",
       " [('the', 'DET'), (('statue', 'NUM'), ('statue', 'NOUN'))],\n",
       " [('Thomas', 'NOUN'), (('Jefferson', 'NUM'), ('Jefferson', 'NOUN'))],\n",
       " [('Jefferson', 'NOUN'), (('dissolves', 'NUM'), ('dissolves', 'VERB'))],\n",
       " [('take', 'VERB'), (('away', 'ADV'), ('away', 'PRT'))],\n",
       " [(\"'s\", 'PRT'), (('eight-person', 'NUM'), ('eight-person', 'ADJ'))]]"
      ]
     },
     "execution_count": 32,
     "metadata": {},
     "output_type": "execute_result"
    }
   ],
   "source": [
    "# i: index, j: tuple(prediction,actual)\n",
    "incorrect_tagged_cases = [[test_tagged_words_base[i-1],j] for i, j in enumerate(zip(tagged_seq_test, test_tagged_words_base)) if j[0]!=j[1]]\n",
    "# Outputs list of [previous word-tag, predicted word-tag, actual word-tag] of incorrectly tagged words\n",
    "print(\"Number of incorrectly tagged sequence\",len(incorrect_tagged_cases))\n",
    "print(\"First 10 incorrectly tagged sequence\")\n",
    "print(\"[previous word-tag, predicted word-tag, actual word-tag]\")\n",
    "incorrect_tagged_cases[:10]"
   ]
  },
  {
   "cell_type": "code",
   "execution_count": 33,
   "metadata": {
    "ExecuteTime": {
     "end_time": "2020-12-07T17:52:58.223350Z",
     "start_time": "2020-12-07T17:52:58.202780Z"
    }
   },
   "outputs": [
    {
     "data": {
      "text/html": [
       "<div>\n",
       "<style scoped>\n",
       "    .dataframe tbody tr th:only-of-type {\n",
       "        vertical-align: middle;\n",
       "    }\n",
       "\n",
       "    .dataframe tbody tr th {\n",
       "        vertical-align: top;\n",
       "    }\n",
       "\n",
       "    .dataframe thead th {\n",
       "        text-align: right;\n",
       "    }\n",
       "</style>\n",
       "<table border=\"1\" class=\"dataframe\">\n",
       "  <thead>\n",
       "    <tr style=\"text-align: right;\">\n",
       "      <th></th>\n",
       "      <th>word</th>\n",
       "      <th>predicted_tag</th>\n",
       "      <th>actual_tag</th>\n",
       "      <th>previous_word</th>\n",
       "      <th>previous_word_actual_tag</th>\n",
       "    </tr>\n",
       "  </thead>\n",
       "  <tbody>\n",
       "    <tr>\n",
       "      <th>0</th>\n",
       "      <td>upset</td>\n",
       "      <td>VERB</td>\n",
       "      <td>ADJ</td>\n",
       "      <td>too</td>\n",
       "      <td>ADV</td>\n",
       "    </tr>\n",
       "    <tr>\n",
       "      <th>1</th>\n",
       "      <td>Tulane</td>\n",
       "      <td>NUM</td>\n",
       "      <td>NOUN</td>\n",
       "      <td>by</td>\n",
       "      <td>ADP</td>\n",
       "    </tr>\n",
       "    <tr>\n",
       "      <th>2</th>\n",
       "      <td>array</td>\n",
       "      <td>NUM</td>\n",
       "      <td>NOUN</td>\n",
       "      <td>complex</td>\n",
       "      <td>ADJ</td>\n",
       "    </tr>\n",
       "    <tr>\n",
       "      <th>3</th>\n",
       "      <td>thread</td>\n",
       "      <td>NUM</td>\n",
       "      <td>NOUN</td>\n",
       "      <td>common</td>\n",
       "      <td>ADJ</td>\n",
       "    </tr>\n",
       "    <tr>\n",
       "      <th>4</th>\n",
       "      <td>like</td>\n",
       "      <td>ADP</td>\n",
       "      <td>VERB</td>\n",
       "      <td>would</td>\n",
       "      <td>VERB</td>\n",
       "    </tr>\n",
       "    <tr>\n",
       "      <th>5</th>\n",
       "      <td>statue</td>\n",
       "      <td>NUM</td>\n",
       "      <td>NOUN</td>\n",
       "      <td>the</td>\n",
       "      <td>DET</td>\n",
       "    </tr>\n",
       "    <tr>\n",
       "      <th>6</th>\n",
       "      <td>Jefferson</td>\n",
       "      <td>NUM</td>\n",
       "      <td>NOUN</td>\n",
       "      <td>Thomas</td>\n",
       "      <td>NOUN</td>\n",
       "    </tr>\n",
       "    <tr>\n",
       "      <th>7</th>\n",
       "      <td>dissolves</td>\n",
       "      <td>NUM</td>\n",
       "      <td>VERB</td>\n",
       "      <td>Jefferson</td>\n",
       "      <td>NOUN</td>\n",
       "    </tr>\n",
       "    <tr>\n",
       "      <th>8</th>\n",
       "      <td>away</td>\n",
       "      <td>ADV</td>\n",
       "      <td>PRT</td>\n",
       "      <td>take</td>\n",
       "      <td>VERB</td>\n",
       "    </tr>\n",
       "    <tr>\n",
       "      <th>9</th>\n",
       "      <td>eight-person</td>\n",
       "      <td>NUM</td>\n",
       "      <td>ADJ</td>\n",
       "      <td>'s</td>\n",
       "      <td>PRT</td>\n",
       "    </tr>\n",
       "  </tbody>\n",
       "</table>\n",
       "</div>"
      ],
      "text/plain": [
       "           word predicted_tag actual_tag previous_word  \\\n",
       "0         upset          VERB        ADJ           too   \n",
       "1        Tulane           NUM       NOUN            by   \n",
       "2         array           NUM       NOUN       complex   \n",
       "3        thread           NUM       NOUN        common   \n",
       "4          like           ADP       VERB         would   \n",
       "5        statue           NUM       NOUN           the   \n",
       "6     Jefferson           NUM       NOUN        Thomas   \n",
       "7     dissolves           NUM       VERB     Jefferson   \n",
       "8          away           ADV        PRT          take   \n",
       "9  eight-person           NUM        ADJ            's   \n",
       "\n",
       "  previous_word_actual_tag  \n",
       "0                      ADV  \n",
       "1                      ADP  \n",
       "2                      ADJ  \n",
       "3                      ADJ  \n",
       "4                     VERB  \n",
       "5                      DET  \n",
       "6                     NOUN  \n",
       "7                     NOUN  \n",
       "8                     VERB  \n",
       "9                      PRT  "
      ]
     },
     "execution_count": 33,
     "metadata": {},
     "output_type": "execute_result"
    }
   ],
   "source": [
    "# Lets convert to Dataframe\n",
    "incorrect_tagged_cases_dict = [{'word': j[0][0],'predicted_tag':j[0][1],\n",
    "                           'actual_tag':j[1][1],'previous_word':test_tagged_words_base[i-1][0],\n",
    "                           'previous_word_actual_tag':test_tagged_words_base[i-1][1]} \n",
    "                               for i, j in enumerate(zip(tagged_seq_test, test_tagged_words_base)) if j[0]!=j[1]]\n",
    "incorrect_tagged_df = pd.DataFrame(incorrect_tagged_cases_dict)\n",
    "incorrect_tagged_df.head(10)"
   ]
  },
  {
   "cell_type": "code",
   "execution_count": 34,
   "metadata": {
    "ExecuteTime": {
     "end_time": "2020-12-07T17:52:58.238502Z",
     "start_time": "2020-12-07T17:52:58.226860Z"
    }
   },
   "outputs": [
    {
     "data": {
      "text/plain": [
       "{\"'s\",\n",
       " '*-103',\n",
       " '*-112',\n",
       " '*-130',\n",
       " '*T*-102',\n",
       " '*T*-155',\n",
       " '*T*-160',\n",
       " '*T*-198',\n",
       " '*T*-201',\n",
       " '*T*-207',\n",
       " '*T*-222',\n",
       " '*T*-237',\n",
       " '*T*-239',\n",
       " '*T*-24',\n",
       " '*T*-242',\n",
       " '120-a-share',\n",
       " '190-point',\n",
       " '21-month',\n",
       " '3',\n",
       " 'A',\n",
       " 'Anglia',\n",
       " 'Appeals',\n",
       " 'Ariail',\n",
       " 'B-1B',\n",
       " 'Billings',\n",
       " 'British',\n",
       " 'C-90',\n",
       " 'CDs',\n",
       " 'Calder',\n",
       " 'Cataracts',\n",
       " 'Communication',\n",
       " 'Continuing',\n",
       " 'Customers',\n",
       " 'DeFazio',\n",
       " 'Delmont',\n",
       " 'Democracy',\n",
       " 'Deregulation',\n",
       " 'DiLoreto',\n",
       " 'Dill',\n",
       " 'Dolphins',\n",
       " 'Dutch',\n",
       " 'East',\n",
       " 'Elsevier',\n",
       " 'Fargo',\n",
       " 'Farren',\n",
       " 'Filmed',\n",
       " 'GHKM',\n",
       " 'GOODY',\n",
       " 'Gilts',\n",
       " 'Goldsmith',\n",
       " 'Great',\n",
       " 'Griffin',\n",
       " 'Helsinki',\n",
       " 'History',\n",
       " 'Hoylake',\n",
       " 'Integra-A',\n",
       " 'Internatonal',\n",
       " 'Investments',\n",
       " 'Jefferson',\n",
       " 'Jonas',\n",
       " 'Judah',\n",
       " 'L.P.',\n",
       " 'Lilly',\n",
       " 'Lorenzo',\n",
       " 'MEDICINE',\n",
       " 'Manchester',\n",
       " 'Matthews',\n",
       " 'Mindy',\n",
       " 'Mogavero',\n",
       " 'More',\n",
       " 'Moreover',\n",
       " 'Mortgage-Backed',\n",
       " 'N.H.',\n",
       " 'Named',\n",
       " 'Net',\n",
       " 'New',\n",
       " 'Nigel',\n",
       " 'Noriega',\n",
       " 'PRODUCTS',\n",
       " 'Patricia',\n",
       " 'Pattenden',\n",
       " 'Periods',\n",
       " 'Piscataway',\n",
       " 'Ranger',\n",
       " 'Restaurant',\n",
       " 'Roland',\n",
       " 'Roof',\n",
       " 'Second',\n",
       " 'Shipments',\n",
       " 'Si',\n",
       " 'Sino-U.S.',\n",
       " 'Soviet',\n",
       " 'Squier',\n",
       " 'TIRED',\n",
       " 'TRANSPLANT',\n",
       " 'TRIMMING',\n",
       " 'Third',\n",
       " 'Tokyu',\n",
       " 'Tulane',\n",
       " 'U.S.-Japan',\n",
       " 'Virtually',\n",
       " 'WFRR',\n",
       " 'WTD',\n",
       " 'Walkman',\n",
       " 'Wells',\n",
       " 'Wilson',\n",
       " 'Woodrow',\n",
       " 'Yields',\n",
       " 'about',\n",
       " 'achievement-test',\n",
       " 'adjustment',\n",
       " 'advent',\n",
       " 'afflicted',\n",
       " 'anti-takeover',\n",
       " 'arbitrager',\n",
       " 'array',\n",
       " 'as',\n",
       " 'assert',\n",
       " 'assurance',\n",
       " 'astronomical',\n",
       " 'away',\n",
       " 'back',\n",
       " 'ballroom',\n",
       " 'beaten',\n",
       " 'befuddled',\n",
       " 'belfries',\n",
       " 'benign',\n",
       " 'bid',\n",
       " 'bilingual',\n",
       " 'binge',\n",
       " 'black',\n",
       " 'blender',\n",
       " 'bomber',\n",
       " 'borrowings',\n",
       " 'botched',\n",
       " 'bottlenecks',\n",
       " 'buck',\n",
       " 'building',\n",
       " 'chairs',\n",
       " 'chaotic',\n",
       " 'chocolate',\n",
       " 'cleaned',\n",
       " 'clicked',\n",
       " 'closer',\n",
       " 'clouding',\n",
       " 'cocky',\n",
       " 'collection',\n",
       " 'commercial',\n",
       " 'complete',\n",
       " 'consomme',\n",
       " 'container',\n",
       " 'corn-buying',\n",
       " 'cousins',\n",
       " 'cranked',\n",
       " 'criteria',\n",
       " 'curbing',\n",
       " 'curse',\n",
       " 'cute',\n",
       " 'darned',\n",
       " 'declines',\n",
       " 'demand',\n",
       " 'desktop',\n",
       " 'diplomats',\n",
       " 'directionless',\n",
       " 'dirty',\n",
       " 'disagrees',\n",
       " 'disarray',\n",
       " 'dissolves',\n",
       " 'doubts',\n",
       " 'down',\n",
       " 'downgraded',\n",
       " 'duckling',\n",
       " 'earlier',\n",
       " 'early',\n",
       " 'eight-person',\n",
       " 'end',\n",
       " 'ends',\n",
       " 'enormously',\n",
       " 'enraged',\n",
       " 'enthusiasm',\n",
       " 'enticed',\n",
       " 'entrepreneur',\n",
       " 'enviable',\n",
       " 'erect',\n",
       " 'evaporated',\n",
       " 'evolved',\n",
       " 'examine',\n",
       " 'excited',\n",
       " 'executive',\n",
       " 'existence',\n",
       " 'exists',\n",
       " 'experience',\n",
       " 'explosive',\n",
       " 'fabled',\n",
       " 'facilitate',\n",
       " 'fair',\n",
       " 'felonies',\n",
       " 'female',\n",
       " 'fights',\n",
       " 'fingers',\n",
       " 'first',\n",
       " 'food-industry',\n",
       " 'force',\n",
       " 'free',\n",
       " 'frustrating',\n",
       " 'further',\n",
       " 'future',\n",
       " 'gamut',\n",
       " 'glamorize',\n",
       " 'good-faith',\n",
       " 'good-hearted',\n",
       " 'grapple',\n",
       " 'guarantee',\n",
       " 'gut-wrenching',\n",
       " 'high',\n",
       " 'high-minded',\n",
       " 'high-rate',\n",
       " 'holding',\n",
       " 'hottest',\n",
       " 'hydraulically',\n",
       " 'in',\n",
       " 'incest',\n",
       " 'infrequent',\n",
       " 'initiatives',\n",
       " 'insider-trading',\n",
       " 'inspection',\n",
       " 'invent',\n",
       " 'joy',\n",
       " 'lacked',\n",
       " 'land',\n",
       " 'leading',\n",
       " 'length',\n",
       " 'letter-writing',\n",
       " 'level',\n",
       " 'liberal',\n",
       " 'lightning-fast',\n",
       " 'like',\n",
       " 'likely',\n",
       " 'lobster',\n",
       " 'locally',\n",
       " 'long',\n",
       " 'long-time',\n",
       " 'lovely',\n",
       " 'lower-priority',\n",
       " 'mailing',\n",
       " 'mean',\n",
       " 'mid-1990s',\n",
       " 'middle',\n",
       " 'mignon',\n",
       " 'minicrash',\n",
       " 'minimum',\n",
       " 'minus',\n",
       " 'mirror',\n",
       " 'modification',\n",
       " 'moons',\n",
       " 'more',\n",
       " 'most',\n",
       " 'mousseline',\n",
       " 'much',\n",
       " 'near',\n",
       " 'net',\n",
       " 'next',\n",
       " 'nonfinancial',\n",
       " 'observations',\n",
       " 'obsession',\n",
       " 'octogenarians',\n",
       " 'offering',\n",
       " 'on',\n",
       " 'one',\n",
       " 'opening',\n",
       " 'operating',\n",
       " 'ordering',\n",
       " 'ordinary',\n",
       " 'organized',\n",
       " 'out',\n",
       " 'over',\n",
       " 'overcapacity',\n",
       " 'own',\n",
       " 'passions',\n",
       " 'percent',\n",
       " 'performers',\n",
       " 'pharaohs',\n",
       " 'pipeline',\n",
       " 'plaintive',\n",
       " 'plane',\n",
       " 'playgrounds',\n",
       " 'plea',\n",
       " 'polarized',\n",
       " 'pollution',\n",
       " 'preferred',\n",
       " 'principal',\n",
       " 'prior-year',\n",
       " 'prompts',\n",
       " 'publishing',\n",
       " 'quantitative',\n",
       " 'quashing',\n",
       " 'ranked',\n",
       " 'raring',\n",
       " 'raspberry',\n",
       " 'ratcheting',\n",
       " 'reading',\n",
       " 'real',\n",
       " 'reasserts',\n",
       " 'reeling',\n",
       " 'refer',\n",
       " 'referenda',\n",
       " 'regime',\n",
       " 'related',\n",
       " 'remorse',\n",
       " 'renovated',\n",
       " 'reorganized',\n",
       " 'reprove',\n",
       " 'resentment',\n",
       " 'restricting',\n",
       " 'retraced',\n",
       " 'returns',\n",
       " 'rings',\n",
       " 'romanticized',\n",
       " 'routine',\n",
       " 'sad',\n",
       " 'safe-deposit',\n",
       " 'sauce',\n",
       " 'scarce',\n",
       " 'schemes',\n",
       " 'science',\n",
       " 'scoop',\n",
       " 'searching',\n",
       " 'secret',\n",
       " 'sectors',\n",
       " 'senior',\n",
       " 'serviced',\n",
       " 'set',\n",
       " 'settlements',\n",
       " 'sewing-machine',\n",
       " 'shaken',\n",
       " 'shallow',\n",
       " 'short-wave',\n",
       " 'show',\n",
       " 'sign',\n",
       " 'signal',\n",
       " 'slide',\n",
       " 'sliding',\n",
       " 'small-time',\n",
       " 'so',\n",
       " 'social-studies',\n",
       " 'sometimes-exhausting',\n",
       " 'sounding',\n",
       " 'spectrum',\n",
       " 'spoke',\n",
       " 'starts',\n",
       " 'statue',\n",
       " 'sticker-shock',\n",
       " 'sticky',\n",
       " 'stock-index',\n",
       " 'stress',\n",
       " 'stripped',\n",
       " 'sum',\n",
       " 'sweaty',\n",
       " 'sweeping',\n",
       " 'sweeten',\n",
       " 'talked',\n",
       " 'terrine',\n",
       " 'that',\n",
       " 'thread',\n",
       " 'track',\n",
       " 'trading',\n",
       " 'transcribe',\n",
       " 'transforming',\n",
       " 'trap',\n",
       " 'travelers',\n",
       " 'trim',\n",
       " 'troubled',\n",
       " 'twindam',\n",
       " 'twinned',\n",
       " 'two-time-losers',\n",
       " 'undelivered',\n",
       " 'undergoing',\n",
       " 'unfunded',\n",
       " 'untrained',\n",
       " 'unwary',\n",
       " 'unworkable',\n",
       " 'up',\n",
       " 'upset',\n",
       " 'upstream',\n",
       " 'vagabond',\n",
       " 'values',\n",
       " 'veal',\n",
       " 'verbatim',\n",
       " 'virtues',\n",
       " 'vs.',\n",
       " 'warning',\n",
       " 'what',\n",
       " 'whimsical',\n",
       " 'white',\n",
       " 'winter',\n",
       " 'withdrew',\n",
       " 'worries',\n",
       " 'worth',\n",
       " 'worthy',\n",
       " 'yielding'}"
      ]
     },
     "execution_count": 34,
     "metadata": {},
     "output_type": "execute_result"
    }
   ],
   "source": [
    "# Lets find the Incorrectly tagged words and its vocabulary\n",
    "incorrect_words = [group[1][0][0] for group in incorrect_tagged_cases]\n",
    "incorrect_words_vocabulary = set(incorrect_words)\n",
    "incorrect_words_vocabulary"
   ]
  },
  {
   "cell_type": "code",
   "execution_count": 35,
   "metadata": {
    "ExecuteTime": {
     "end_time": "2020-12-07T17:52:58.245501Z",
     "start_time": "2020-12-07T17:52:58.240519Z"
    }
   },
   "outputs": [
    {
     "data": {
      "text/plain": [
       "400"
      ]
     },
     "execution_count": 35,
     "metadata": {},
     "output_type": "execute_result"
    }
   ],
   "source": [
    "# Get number of unique words in the incorrect tagged words\n",
    "len(incorrect_words_vocabulary)"
   ]
  },
  {
   "cell_type": "markdown",
   "metadata": {},
   "source": [
    "### Emission probabilty of incorrectly tagged words"
   ]
  },
  {
   "cell_type": "code",
   "execution_count": 36,
   "metadata": {
    "ExecuteTime": {
     "end_time": "2020-12-07T17:52:58.515149Z",
     "start_time": "2020-12-07T17:52:58.247704Z"
    }
   },
   "outputs": [
    {
     "name": "stdout",
     "output_type": "stream",
     "text": [
      "Emission Probabilty of upset with tag ADJ is: 0.0\n",
      "Emission Probabilty of Tulane with tag NOUN is: 0.0\n",
      "Emission Probabilty of array with tag NOUN is: 0.0\n",
      "Emission Probabilty of thread with tag NOUN is: 0.0\n",
      "Emission Probabilty of like with tag VERB is: 0.0008539046731873933\n",
      "Emission Probabilty of statue with tag NOUN is: 0.0\n",
      "Emission Probabilty of Jefferson with tag NOUN is: 0.0\n",
      "Emission Probabilty of dissolves with tag VERB is: 0.0\n",
      "Emission Probabilty of away with tag PRT is: 0.0006540222367560497\n",
      "Emission Probabilty of eight-person with tag ADJ is: 0.0\n",
      "Emission Probabilty of away with tag PRT is: 0.0006540222367560497\n",
      "Emission Probabilty of incest with tag NOUN is: 0.0\n",
      "Emission Probabilty of transforming with tag VERB is: 0.0\n",
      "Emission Probabilty of chaotic with tag ADJ is: 0.0\n",
      "Emission Probabilty of mirror with tag NOUN is: 0.0\n",
      "Emission Probabilty of fabled with tag ADJ is: 0.0\n",
      "Emission Probabilty of virtues with tag NOUN is: 0.0\n",
      "Emission Probabilty of Manchester with tag NOUN is: 0.0\n",
      "Emission Probabilty of N.H. with tag NOUN is: 0.0\n",
      "Emission Probabilty of values with tag VERB is: 0.0\n"
     ]
    }
   ],
   "source": [
    "# Lets check the emmision probabilty of incorrectly tagged nouns as they are more\n",
    "for i,row in incorrect_tagged_df.head(20).iterrows():\n",
    "    emi_prob = word_given_tag(row['word'],row['actual_tag'])\n",
    "    print(\"Emission Probabilty of\",row['word'],'with tag',row['actual_tag'],'is:',emi_prob[0]/emi_prob[1])\n",
    "    "
   ]
  },
  {
   "cell_type": "markdown",
   "metadata": {},
   "source": [
    "### Observation\n",
    "- We can see that for many incorrectly tagged words, the emission probability is zero\n",
    "- The reason why emission probability is zero is because the words are not present in training dataset\n",
    "- Since the emission probability is zero, the tag is choosen random as there is no maximum state probability and all of them is zero"
   ]
  },
  {
   "cell_type": "code",
   "execution_count": 37,
   "metadata": {
    "ExecuteTime": {
     "end_time": "2020-12-07T17:52:58.521670Z",
     "start_time": "2020-12-07T17:52:58.516954Z"
    }
   },
   "outputs": [
    {
     "data": {
      "text/plain": [
       "0"
      ]
     },
     "execution_count": 37,
     "metadata": {},
     "output_type": "execute_result"
    }
   ],
   "source": [
    "# Lets experiment initializing zeros in list and get index for maximum\n",
    "p = [0,0,0,0,0]\n",
    "p.index(max(p))"
   ]
  },
  {
   "cell_type": "markdown",
   "metadata": {},
   "source": [
    "## Analyze the results from Vanilla Viterbi Algorithm"
   ]
  },
  {
   "cell_type": "code",
   "execution_count": 38,
   "metadata": {
    "ExecuteTime": {
     "end_time": "2020-12-07T17:52:58.529677Z",
     "start_time": "2020-12-07T17:52:58.523598Z"
    }
   },
   "outputs": [
    {
     "data": {
      "text/plain": [
       "NOUN    191\n",
       "VERB     95\n",
       "ADJ      95\n",
       "ADV      24\n",
       "X        15\n",
       "DET       8\n",
       "PRT       8\n",
       "ADP       3\n",
       "CONJ      1\n",
       "NUM       1\n",
       "Name: actual_tag, dtype: int64"
      ]
     },
     "execution_count": 38,
     "metadata": {},
     "output_type": "execute_result"
    }
   ],
   "source": [
    "# Find the most incorrectly taggged tag\n",
    "incorrect_tagged_df['actual_tag'].value_counts()"
   ]
  },
  {
   "cell_type": "markdown",
   "metadata": {},
   "source": [
    "### Observation \n",
    "- We see that most number of Nouns are incorrectly tagged\n",
    "- We can assign the most occurring tag NOUN for the unknown words to boost the accuracy, but its wrong as others will also be incorrectly tagged as NOUN. "
   ]
  },
  {
   "cell_type": "code",
   "execution_count": 39,
   "metadata": {
    "ExecuteTime": {
     "end_time": "2020-12-07T17:52:58.537070Z",
     "start_time": "2020-12-07T17:52:58.531442Z"
    }
   },
   "outputs": [
    {
     "data": {
      "text/plain": [
       "NUM     161\n",
       "ADJ      16\n",
       "VERB     12\n",
       "DET       1\n",
       "CONJ      1\n",
       "Name: predicted_tag, dtype: int64"
      ]
     },
     "execution_count": 39,
     "metadata": {},
     "output_type": "execute_result"
    }
   ],
   "source": [
    "# Find the most predicted tag for Noun\n",
    "incorrect_tagged_df[incorrect_tagged_df.actual_tag=='NOUN']['predicted_tag'].value_counts()"
   ]
  },
  {
   "cell_type": "markdown",
   "metadata": {},
   "source": [
    "### Observation\n",
    "- We see that most of nouns are incorrectly tagged as Determinant"
   ]
  },
  {
   "cell_type": "code",
   "execution_count": 40,
   "metadata": {
    "ExecuteTime": {
     "end_time": "2020-12-07T17:52:58.546822Z",
     "start_time": "2020-12-07T17:52:58.539399Z"
    }
   },
   "outputs": [
    {
     "data": {
      "text/plain": [
       "NOUN    44\n",
       "DET     39\n",
       "ADJ     31\n",
       ".       22\n",
       "ADP     16\n",
       "VERB    10\n",
       "CONJ    10\n",
       "PRON     6\n",
       "PRT      6\n",
       "X        5\n",
       "NUM      2\n",
       "Name: previous_word_actual_tag, dtype: int64"
      ]
     },
     "execution_count": 40,
     "metadata": {},
     "output_type": "execute_result"
    }
   ],
   "source": [
    "# Find the tag of preceeding word of noun\n",
    "incorrect_tagged_df[(incorrect_tagged_df.actual_tag=='NOUN') ]['previous_word_actual_tag'].value_counts()"
   ]
  },
  {
   "cell_type": "markdown",
   "metadata": {},
   "source": [
    "### Observation \n",
    "- We see that Most of incorrectly tagged nouns are after either a noun, determinant or adjective"
   ]
  },
  {
   "cell_type": "markdown",
   "metadata": {},
   "source": [
    "## Find Unknown Words"
   ]
  },
  {
   "cell_type": "code",
   "execution_count": 41,
   "metadata": {
    "ExecuteTime": {
     "end_time": "2020-12-07T17:52:58.555754Z",
     "start_time": "2020-12-07T17:52:58.549234Z"
    }
   },
   "outputs": [
    {
     "name": "stdout",
     "output_type": "stream",
     "text": [
      "Number of unknown words present in test set but not in train set 342 \n",
      "\n",
      "['4.75', 'Tulane', 'array', 'thread', 'statue', 'Jefferson', 'dissolves', 'eight-person', 'incest', 'transforming', 'chaotic', 'fabled', 'virtues', 'Manchester', 'N.H.', 'untrained', 'botched', 'disarray', 'downgraded', 'buck', 'prior-year', 'adjustment', 'bomber', 'sewing-machine', '185.9', 'inspection', '77,000', 'glamorize', 'vagabond', 'existence', 'Nigel', 'Judah', 'ends', 'whimsical', 'enviable', 'fights', 'two-time-losers', 'Lorenzo', 'twinned', 'upstream', 'Periods', 'advent', 'undergoing', '1973-75', '1937-40', '1928-33', 'corn-buying', 'binge', 'bottlenecks', 'pipeline', 'doubts', 'sticker-shock', 'talked', 'excited', 'astronomical', 'collection', 'Appeals', 'schemes', 'pharaohs', 'erect', 'playgrounds', 'passions', 'arbitrager', 'sad', 'performers', 'grapple', '420', 'fair', 'Lilly', 'Mindy', '*T*-24', 'C-90', 'Third', '11.57', '*T*-102', 'Communication', 'plane', 'mid-1990s', 'Helsinki', '16.9', '17.4', '18.6', 'enraged', 'reasserts', '3436.58', 'short-wave', 'transcribe', 'Cataracts', 'refer', 'clouding', 'gamut', 'blender', 'chairs', 'observations', 'nonfinancial', '1.39', '446.62', '*T*-24', 'examine', 'verbatim', '235', '113.2', '6.70', '144', '4.10', '20.07', 'secret', 'trim', '275', '350', '21,000', 'minicrash', 'shaken', 'resentment', 'lightning-fast', 'reeling', 'spoke', 'length', '*T*-239', 'afflicted', 'explosive', 'desktop', 'ends', 'spectrum', 'enormously', 'frustrating', 'science', 'raring', 'invent', 'Walkman', 'plaintive', 'high-minded', 'assurance', 'sticky', 'fingers', 'sweaty', 'searching', 'food-industry', '374.19', 'Yields', 'Elsevier', 'octogenarians', '*T*-222', 'sometimes-exhausting', 'sounding', 'belfries', 'Anglia', 'Dolphins', 'disagrees', 'ratcheting', 'referenda', 'Democracy', 'Continuing', 'anti-takeover', 'winter', 'romanticized', 'romanticized', 'good-hearted', 'sectors', 'Calder', 'Woodrow', 'Wilson', 'Internatonal', 'reprove', 'gut-wrenching', '190-point', '1,400', 'letter-writing', 'quashing', 'Gilts', 'retraced', 'stress', '130.6', 'small-time', 'Named', 'Roland', 'Matthews', 'Jonas', 'Squier', 'dirty', 'Customers', 'undelivered', '170', 'DiLoreto', 'container', 'Delmont', 'ordinary', 'cousins', 'enthusiasm', 'U.S.-Japan', 'DeFazio', 'criteria', 'locally', 'hydraulically', '49.9', '*-112', 'enthusiasm', 'evaporated', 'Farren', 'joy', '*T*-207', 'remorse', 'shallow', 'trap', 'unwary', 'quantitative', 'Deregulation', '*T*-201', 'high-rate', 'CDs', 'reorganized', 'Ranger', 'polarized', 'exists', 'cranked', 'worthy', '*T*-237', 'lacked', 'overcapacity', '*T*-242', 'ordering', 'TIRED', 'TRIMMING', 'facilitate', 'Billings', '*T*-155', 'serviced', 'WFRR', 'L.P.', 'GHKM', '273.5', 'entrepreneur', 'Patricia', 'stripped', 'Noriega', 'regime', '30,537', '21-month', 'settlements', 'plea', 'felonies', 'insider-trading', 'sum', 'cleaned', 'pollution', '1,200', 'Mogavero', 'Piscataway', 'Tokyu', 'cocky', '4.898', '1.457', 'long-time', 'Griffin', 'WTD', 'track', 'achievement-test', 'Goldsmith', 'Hoylake', 'Investments', '753', 'Hoylake', 'sweeten', 'lower-priority', 'diplomats', 'clicked', 'good-faith', 'Shipments', 'Filmed', 'lovely', 'Dill', 'benign', 'borrowings', 'cute', 'curse', '1973', 'Wells', 'Fargo', '*T*-198', 'safe-deposit', 'travelers', '41.60', '3.28', '3.16', 'Virtually', 'social-studies', 'withdrew', '120-a-share', 'scarce', 'History', 'Integra-A', 'Restaurant', '*-103', 'sliding', 'Ariail', 'social-studies', '877,663', 'percent', 'obsession', 'Pattenden', 'modification', '*-130', 'directionless', '*T*-160', 'moons', 'renovated', 'Roof', 'ballroom', 'hottest', 'duckling', 'mousseline', 'lobster', 'consomme', 'veal', 'mignon', 'chocolate', 'terrine', 'raspberry', 'sauce', 'unworkable', 'unfunded', 'assert', 'restricting', 'MEDICINE', 'TRANSPLANT', 'prompts', 'bilingual', 'ranked', 'infrequent', 'Mortgage-Backed', 'enticed', 'befuddled', '1.49', 'curbing', 'darned', 'twindam', 'evolved', 'Si', 'GOODY', 'PRODUCTS', '11.5', '2.375']\n"
     ]
    }
   ],
   "source": [
    "# lets find the unknown words which are not present in Training Dataset Vocabulary\n",
    "unknown_words = [word for word in test_words if word not in V]\n",
    "print(\"Number of unknown words present in test set but not in train set\",len(unknown_words),\"\\n\")\n",
    "print(unknown_words)"
   ]
  },
  {
   "cell_type": "code",
   "execution_count": 42,
   "metadata": {
    "ExecuteTime": {
     "end_time": "2020-12-07T17:52:58.570682Z",
     "start_time": "2020-12-07T17:52:58.558735Z"
    }
   },
   "outputs": [
    {
     "data": {
      "text/plain": [
       "0.8596491228070176"
      ]
     },
     "execution_count": 42,
     "metadata": {},
     "output_type": "execute_result"
    }
   ],
   "source": [
    "# Lets find how many incorrectly tagged words are unknown words\n",
    "len([i for i in incorrect_words_vocabulary if i in set(unknown_words)]) / len(unknown_words)"
   ]
  },
  {
   "cell_type": "markdown",
   "metadata": {},
   "source": [
    "### Observation \n",
    "- We can see that close to 98% incorrectly tagged words are unknown words"
   ]
  },
  {
   "cell_type": "markdown",
   "metadata": {},
   "source": [
    "## Solve the problem of unknown words"
   ]
  },
  {
   "cell_type": "markdown",
   "metadata": {},
   "source": [
    "### Modify Viterbi Algorithm to handle unknown words\n",
    "Since the emission probability is zero for unknown words, Hence lets consider transition probability for unknown words"
   ]
  },
  {
   "cell_type": "code",
   "execution_count": 43,
   "metadata": {
    "ExecuteTime": {
     "end_time": "2020-12-07T17:53:00.170200Z",
     "start_time": "2020-12-07T17:52:58.573124Z"
    }
   },
   "outputs": [
    {
     "name": "stdout",
     "output_type": "stream",
     "text": [
      "Accuracy 0.909\n"
     ]
    }
   ],
   "source": [
    "# Viterbi Heuristic\n",
    "def ViterbiModified_laplace(words, train_bag = train_tagged_words):\n",
    "    state = []\n",
    "    T = list(set([pair[1] for pair in train_bag]))\n",
    "    \n",
    "    for key, word in enumerate(words):\n",
    "        #initialise list of probability column for a given observation\n",
    "        p = [] \n",
    "        prob_dict ={}\n",
    "        prob_dict_transition ={}\n",
    "        \n",
    "        for tag in T:\n",
    "            if key == 0:\n",
    "                transition_p = tags_df.loc['.', tag]\n",
    "            else:\n",
    "                transition_p = tags_df.loc[state[-1], tag]\n",
    "            \n",
    "            # compute emission and state probabilities\n",
    "            emission_p = emission_df.loc[word,tag]\n",
    "            state_probability = (emission_p+0.0001) * transition_p  \n",
    "            p.append(state_probability)\n",
    "            prob_dict[tag]=state_probability\n",
    "        \n",
    "        state_max = max(prob_dict, key=prob_dict.get) \n",
    "        state.append(state_max)\n",
    "    return list(zip(words, state))\n",
    "# Lets apply viterbi modified algorithm on test set\n",
    "tagged_seq_test_laplace = ViterbiModified_laplace(test_words)\n",
    "# accuracy\n",
    "check = [i for i, j in zip(tagged_seq_test_laplace, test_tagged_words_base) if i == j] \n",
    "accuracy_modified_laplace = round(len(check)/len(tagged_seq_test_laplace),3)\n",
    "print(\"Accuracy\",accuracy_modified_laplace)"
   ]
  },
  {
   "cell_type": "markdown",
   "metadata": {},
   "source": [
    "### Observation\n",
    "- With laplace smoothing, we get the same accuracy, hence its not helping much"
   ]
  },
  {
   "cell_type": "markdown",
   "metadata": {},
   "source": [
    "# Viterbi Modification-Technique I"
   ]
  },
  {
   "cell_type": "code",
   "execution_count": 44,
   "metadata": {
    "ExecuteTime": {
     "end_time": "2020-12-07T17:53:00.184256Z",
     "start_time": "2020-12-07T17:53:00.174601Z"
    }
   },
   "outputs": [],
   "source": [
    "# Viterbi Heuristic without laplace smoothing\n",
    "def ViterbiModified(words, train_bag = train_tagged_words):\n",
    "    state = []\n",
    "    T = list(set([pair[1] for pair in train_bag]))\n",
    "    \n",
    "    for key, word in enumerate(words):\n",
    "        #initialise list of probability column for a given observation\n",
    "        p = [] \n",
    "        prob_dict ={}\n",
    "        prob_dict_transition ={}\n",
    "        \n",
    "        for tag in T:\n",
    "            if key == 0:\n",
    "                transition_p = tags_df.loc['.', tag]\n",
    "            else:\n",
    "                transition_p = tags_df.loc[state[-1], tag]\n",
    "            # Check if word is present in Training dataset\n",
    "            if word in V:\n",
    "                # compute emission and state probabilities\n",
    "                emission_p = emission_df.loc[word,tag]\n",
    "                state_probability = emission_p * transition_p  \n",
    "            else:\n",
    "                state_probability = transition_p\n",
    "            p.append(state_probability)\n",
    "            prob_dict[tag]=state_probability\n",
    "        \n",
    "        state_max = max(prob_dict, key=prob_dict.get) \n",
    "        state.append(state_max)\n",
    "    return list(zip(words, state))\n"
   ]
  },
  {
   "cell_type": "code",
   "execution_count": 45,
   "metadata": {
    "ExecuteTime": {
     "end_time": "2020-12-07T17:53:01.506619Z",
     "start_time": "2020-12-07T17:53:00.191454Z"
    }
   },
   "outputs": [],
   "source": [
    "# Lets apply viterbi modified algorithm on test set\n",
    "tagged_seq_test_m = ViterbiModified(test_words)"
   ]
  },
  {
   "cell_type": "code",
   "execution_count": 46,
   "metadata": {
    "ExecuteTime": {
     "end_time": "2020-12-07T17:53:01.515545Z",
     "start_time": "2020-12-07T17:53:01.508943Z"
    }
   },
   "outputs": [
    {
     "name": "stdout",
     "output_type": "stream",
     "text": [
      "Accuracy 0.931\n"
     ]
    }
   ],
   "source": [
    "# accuracy\n",
    "check = [i for i, j in zip(tagged_seq_test_m, test_tagged_words_base) if i == j] \n",
    "accuracy_modified = round(len(check)/len(tagged_seq_test_m),3)\n",
    "print(\"Accuracy\",accuracy_modified)"
   ]
  },
  {
   "cell_type": "markdown",
   "metadata": {},
   "source": [
    "### Observation \n",
    "- After modifying the viterbi without laplace smoothing, accuracy increased to 93%"
   ]
  },
  {
   "cell_type": "markdown",
   "metadata": {},
   "source": [
    "### Lexicon Unigram Tagger\n",
    "Lets check if Unigram Tagger of nltk library is able to improve the accuracy"
   ]
  },
  {
   "cell_type": "code",
   "execution_count": 47,
   "metadata": {
    "ExecuteTime": {
     "end_time": "2020-12-07T17:53:01.822583Z",
     "start_time": "2020-12-07T17:53:01.517833Z"
    }
   },
   "outputs": [
    {
     "name": "stdout",
     "output_type": "stream",
     "text": [
      "Accuracy 0.902\n"
     ]
    }
   ],
   "source": [
    "# Train Unigram Tagger\n",
    "unigram_tagger = nltk.UnigramTagger(train_set)\n",
    "accuracy_unigram = round(unigram_tagger.evaluate(test_set),3)\n",
    "# Evaluate on Test Set\n",
    "print(\"Accuracy\",accuracy_unigram)"
   ]
  },
  {
   "cell_type": "markdown",
   "metadata": {},
   "source": [
    "### Observation\n",
    "- We see using Unigram Tagger, the accuracy didn't improve much \n",
    "- Hence lets apply regex Parser to check if accuracy improves. But before we apply regex parser lets analyze the results of plain Viterbi Algorithm which will help in framing regex parser"
   ]
  },
  {
   "cell_type": "markdown",
   "metadata": {},
   "source": [
    "### Regex Parser/ Rule Based Tagger\n",
    "different rules were experimented, to tag the words and appropriate rules were choosen. But these are all commented as the length of notebook will increase. "
   ]
  },
  {
   "cell_type": "code",
   "execution_count": 48,
   "metadata": {
    "ExecuteTime": {
     "end_time": "2020-12-07T17:53:01.828564Z",
     "start_time": "2020-12-07T17:53:01.825433Z"
    }
   },
   "outputs": [],
   "source": [
    "#incorrect_tagged_df[incorrect_tagged_df.word.str.contains(r'[A-Za-z]+[-|.]*\\d+')][['word','actual_tag']].head(20)\n",
    "#incorrect_tagged_df[incorrect_tagged_df.word.str.contains(r'[A-Za-z]+[-|.]*\\d+')]['actual_tag'].value_counts()\n",
    "#incorrect_tagged_df[incorrect_tagged_df.word.str.match(r'\\*T\\*-\\d')][['word','actual_tag']].head(20)\n",
    "# incorrect_tagged_df[incorrect_tagged_df.word.str.match(r'.*s$')][['word','actual_tag']]['actual_tag'].value_counts()\n",
    "#incorrect_tagged_df[incorrect_tagged_df.word.str.match(r'.*ing$|.*ed$|.*es$')][['word','actual_tag']]['actual_tag'].value_counts()\n",
    "# incorrect_tagged_df[incorrect_tagged_df.word.str.match(r'.*ould$')][['word','actual_tag']].head(20)\n",
    "#incorrect_tagged_df[incorrect_tagged_df.actual_tag=='NOUN'].head(20)\n",
    "#incorrect_tagged_df[incorrect_tagged_df.word.str.match(r'.*\\'s$')][['word','actual_tag']].head(20)\n",
    "#incorrect_tagged_df[incorrect_tagged_df.word.str.match(r'^-?[0-9]+(.[0-9]+)?$')][['word','actual_tag']].head(20)\n",
    "# incorrect_tagged_df[incorrect_tagged_df.word.str.match(r'.*ly')][['word','actual_tag']].head(20)\n",
    "#incorrect_tagged_df[incorrect_tagged_df.word.str.match(r'^(0|([*|-|$].*))')][['word','actual_tag']].head(50)\n",
    "# incorrect_tagged_df[incorrect_tagged_df.word.str.match(r'(The|the|A|a|An|an)$')][['word','actual_tag']].head(50)\n",
    "# incorrect_tagged_df[incorrect_tagged_df.word.str.match(r'(\\w)+\\-\\w*$')][['word','actual_tag']].head(50)\n",
    "# incorrect_tagged_df[incorrect_tagged_df.word.str.match(r'(\\w)+\\-\\w*$')]['actual_tag'].value_counts()\n",
    "# incorrect_tagged_df[incorrect_tagged_df.word.str.match(r'^([0-9]|[aA-zZ])+\\-[aA-zZ]*$')]['actual_tag'].value_counts()\n",
    "# incorrect_tagged_df[incorrect_tagged_df.word.str.match(r'.*')][['word','actual_tag']]\n",
    "# incorrect_tagged_df[incorrect_tagged_df.word.str.match(r'^(\\d|[a-zA-Z])+\\-[a-zA-Z]*$')][['word','actual_tag']]"
   ]
  },
  {
   "cell_type": "code",
   "execution_count": 49,
   "metadata": {
    "ExecuteTime": {
     "end_time": "2020-12-07T17:53:01.838537Z",
     "start_time": "2020-12-07T17:53:01.831887Z"
    }
   },
   "outputs": [],
   "source": [
    "# specify patterns for tagging\n",
    "# example from the NLTK book\n",
    "patterns = [\n",
    "    (r'\\*T\\*-\\d','X'), # cardinal numbers\n",
    "    (r'^(0|([*|-|$].*))','X'),\n",
    "    (r'^-?[0-9]+(.[0-9]+)?$', 'NUM'),\n",
    "    (r'^[A-Za-z]+[-|.]*\\d+','NOUN'),\n",
    "    (r'(The|the|A|a|An|an)$', 'DET'),\n",
    "    (r'^(\\d|[a-zA-Z])+\\-[a-zA-Z]*$','ADJ'),\n",
    "    (r'.*ly$', 'ADV'),                # Adverb\n",
    "    (r'.*ing$', 'VERB'),              # gerund\n",
    "    (r'.*ed$', 'VERB'),               # past tense\n",
    "    (r'.*es$', 'VERB'),               # 3rd singular present\n",
    "    (r'.*\\'s$', 'NOUN'),              # possessive nouns\n",
    "    (r'.*s$', 'NOUN'),                # plural nouns\n",
    "    (r'.*', 'NOUN')                    # nouns\n",
    "]"
   ]
  },
  {
   "cell_type": "code",
   "execution_count": 50,
   "metadata": {
    "ExecuteTime": {
     "end_time": "2020-12-07T17:53:01.953534Z",
     "start_time": "2020-12-07T17:53:01.841549Z"
    }
   },
   "outputs": [
    {
     "name": "stdout",
     "output_type": "stream",
     "text": [
      "Accuracy of simple Rule Based Approach 0.46925106555713414\n"
     ]
    }
   ],
   "source": [
    "# Initialize the regular expression tagger\n",
    "regexp_tagger = nltk.RegexpTagger(patterns)\n",
    "# Evaluate the tagger\n",
    "accuracy_rulebased = regexp_tagger.evaluate(test_set)\n",
    "print(\"Accuracy of simple Rule Based Approach\",accuracy_rulebased)"
   ]
  },
  {
   "cell_type": "markdown",
   "metadata": {},
   "source": [
    "### Combining Regex Tagger with Unigram Tagger"
   ]
  },
  {
   "cell_type": "code",
   "execution_count": 51,
   "metadata": {
    "ExecuteTime": {
     "end_time": "2020-12-07T17:53:04.275621Z",
     "start_time": "2020-12-07T17:53:01.955475Z"
    }
   },
   "outputs": [
    {
     "name": "stdout",
     "output_type": "stream",
     "text": [
      "Accuracy of Unigram Rule Based Approach 0.955\n"
     ]
    }
   ],
   "source": [
    "# Train a unigram tagger with rule based tagger as backup for unknown words\n",
    "unigram_tagger_rule_based = nltk.UnigramTagger(train_set,backoff=regexp_tagger)\n",
    "# Evaluate the unigram tagger\n",
    "accuracy_unigram_rulebased = round(unigram_tagger_rule_based.evaluate(test_set),3)\n",
    "print(\"Accuracy of Unigram Rule Based Approach\",accuracy_unigram_rulebased)"
   ]
  },
  {
   "cell_type": "markdown",
   "metadata": {},
   "source": [
    "### Observation\n",
    "- We can see using unigram tagger along with rule based tagger, the accuracy increased to 95%"
   ]
  },
  {
   "cell_type": "markdown",
   "metadata": {},
   "source": [
    "### Combining Unigram Regex Tagger with Bigram Tagger"
   ]
  },
  {
   "cell_type": "code",
   "execution_count": 52,
   "metadata": {
    "ExecuteTime": {
     "end_time": "2020-12-07T17:53:05.480245Z",
     "start_time": "2020-12-07T17:53:04.277811Z"
    }
   },
   "outputs": [
    {
     "name": "stdout",
     "output_type": "stream",
     "text": [
      "Accuracy of Bigram Rule Based Approach 0.958\n"
     ]
    }
   ],
   "source": [
    "# Train a bigram tagger with previous unigram based tagger as backup for unknown words\n",
    "bigram_tagger_rule_based = nltk.BigramTagger(train_set,backoff=unigram_tagger_rule_based)\n",
    "# Evaluate the bigram tagger\n",
    "accuracy_bigram_rulebased = round(bigram_tagger_rule_based.evaluate(test_set),3)\n",
    "print(\"Accuracy of Bigram Rule Based Approach\",accuracy_bigram_rulebased)"
   ]
  },
  {
   "cell_type": "markdown",
   "metadata": {},
   "source": [
    "### Observation\n",
    "- We see that using Bigram Tagger along with rule based method as backoff, the accuracy increased by small amount of 0.03% to close to 96%. "
   ]
  },
  {
   "cell_type": "markdown",
   "metadata": {},
   "source": [
    "### Combining Bigram Regex Tagger with Trigram Tagger"
   ]
  },
  {
   "cell_type": "code",
   "execution_count": 53,
   "metadata": {
    "ExecuteTime": {
     "end_time": "2020-12-07T17:53:07.041897Z",
     "start_time": "2020-12-07T17:53:05.482573Z"
    }
   },
   "outputs": [
    {
     "name": "stdout",
     "output_type": "stream",
     "text": [
      "Accuracy of Trigram Rule Based Approach 0.958\n"
     ]
    }
   ],
   "source": [
    "# Train a trigram tagger with previous bigram based tagger as backup for unknown words\n",
    "trigram_tagger_rule_based = nltk.TrigramTagger(train_set,backoff=bigram_tagger_rule_based)\n",
    "# Evaluate the trigram tagger\n",
    "accuracy_trigram_rulebased = round(trigram_tagger_rule_based.evaluate(test_set),3)\n",
    "print(\"Accuracy of Trigram Rule Based Approach\",accuracy_trigram_rulebased)"
   ]
  },
  {
   "cell_type": "markdown",
   "metadata": {},
   "source": [
    "### Observation \n",
    "- We see that accuracy almost remained the same which is close to 96%"
   ]
  },
  {
   "cell_type": "markdown",
   "metadata": {},
   "source": [
    "# Viterbi Modification-Technique II"
   ]
  },
  {
   "cell_type": "markdown",
   "metadata": {},
   "source": [
    "### Modifying Viterbi with Trigram\n",
    "Lets use trigram tagger created above for unknown words along with modified vanilla viterbi for known words"
   ]
  },
  {
   "cell_type": "code",
   "execution_count": 54,
   "metadata": {
    "ExecuteTime": {
     "end_time": "2020-12-07T17:53:07.050476Z",
     "start_time": "2020-12-07T17:53:07.044310Z"
    }
   },
   "outputs": [],
   "source": [
    "# Viterbi Heuristic\n",
    "def ViterbiTrigram(words, train_bag = train_tagged_words):\n",
    "    state = []\n",
    "    T = list(set([pair[1] for pair in train_bag]))\n",
    "    \n",
    "    for key, word in enumerate(words):\n",
    "        # Check if word is present in Training dataset\n",
    "        if word in V:\n",
    "            #initialise list of probability column for a given observation\n",
    "            p = [] \n",
    "            prob_dict ={}\n",
    "            for tag in T:\n",
    "                if key == 0:\n",
    "                    transition_p = tags_df.loc['.', tag]\n",
    "                else:\n",
    "                    transition_p = tags_df.loc[state[-1], tag]\n",
    "\n",
    "                # compute emission and state probabilities\n",
    "                emission_p = emission_df.loc[word,tag]\n",
    "                state_probability = emission_p * transition_p  \n",
    "                p.append(state_probability)\n",
    "                prob_dict[tag]=state_probability\n",
    "\n",
    "            state_max = max(prob_dict, key=prob_dict.get) \n",
    "            state.append(state_max)\n",
    "            \n",
    "        # Lets use trigram tagger for word not in training dataset\n",
    "        else:\n",
    "            state.append(trigram_tagger_rule_based.tag([word])[0][1])\n",
    "    return list(zip(words, state))\n"
   ]
  },
  {
   "cell_type": "code",
   "execution_count": 55,
   "metadata": {
    "ExecuteTime": {
     "end_time": "2020-12-07T17:53:08.044751Z",
     "start_time": "2020-12-07T17:53:07.052530Z"
    }
   },
   "outputs": [],
   "source": [
    "# Check the Viterbi trigram with test set\n",
    "tagged_seq_test_trigram = ViterbiTrigram(test_words)"
   ]
  },
  {
   "cell_type": "code",
   "execution_count": 56,
   "metadata": {
    "ExecuteTime": {
     "end_time": "2020-12-07T17:53:08.052518Z",
     "start_time": "2020-12-07T17:53:08.046564Z"
    }
   },
   "outputs": [
    {
     "name": "stdout",
     "output_type": "stream",
     "text": [
      "Accuracy of Trigram Rule Based Approach along with probalistic 0.955\n"
     ]
    }
   ],
   "source": [
    "# accuracy\n",
    "check_trigram = [i for i, j in zip(tagged_seq_test_trigram, test_tagged_words_base) if i == j] \n",
    "accuracy_trigram_probablistic = round(len(check_trigram)/len(tagged_seq_test_trigram),3)\n",
    "print(\"Accuracy of Trigram Rule Based Approach along with probalistic\",accuracy_trigram_probablistic)"
   ]
  },
  {
   "cell_type": "markdown",
   "metadata": {},
   "source": [
    "### Compare the tagging accuracies of the modifications with the vanilla Viterbi algorithm"
   ]
  },
  {
   "cell_type": "code",
   "execution_count": 57,
   "metadata": {
    "ExecuteTime": {
     "end_time": "2020-12-07T17:53:08.065317Z",
     "start_time": "2020-12-07T17:53:08.054782Z"
    }
   },
   "outputs": [
    {
     "data": {
      "text/html": [
       "<div>\n",
       "<style scoped>\n",
       "    .dataframe tbody tr th:only-of-type {\n",
       "        vertical-align: middle;\n",
       "    }\n",
       "\n",
       "    .dataframe tbody tr th {\n",
       "        vertical-align: top;\n",
       "    }\n",
       "\n",
       "    .dataframe thead th {\n",
       "        text-align: right;\n",
       "    }\n",
       "</style>\n",
       "<table border=\"1\" class=\"dataframe\">\n",
       "  <thead>\n",
       "    <tr style=\"text-align: right;\">\n",
       "      <th></th>\n",
       "      <th>Accuracy Scores</th>\n",
       "    </tr>\n",
       "  </thead>\n",
       "  <tbody>\n",
       "    <tr>\n",
       "      <th>accuracy_probablistic_vanilla</th>\n",
       "      <td>0.910</td>\n",
       "    </tr>\n",
       "    <tr>\n",
       "      <th>accuracy_unigram</th>\n",
       "      <td>0.902</td>\n",
       "    </tr>\n",
       "    <tr>\n",
       "      <th>accuracy_rulebased</th>\n",
       "      <td>0.469</td>\n",
       "    </tr>\n",
       "    <tr>\n",
       "      <th>accuracy_unigram_rulebased</th>\n",
       "      <td>0.955</td>\n",
       "    </tr>\n",
       "    <tr>\n",
       "      <th>accuracy_bigram_rulebased</th>\n",
       "      <td>0.958</td>\n",
       "    </tr>\n",
       "    <tr>\n",
       "      <th>accuracy_trigram_rulebased</th>\n",
       "      <td>0.958</td>\n",
       "    </tr>\n",
       "    <tr>\n",
       "      <th>accuracy_probablistic_modified</th>\n",
       "      <td>0.931</td>\n",
       "    </tr>\n",
       "    <tr>\n",
       "      <th>accuracy_probablistic_trigram</th>\n",
       "      <td>0.955</td>\n",
       "    </tr>\n",
       "  </tbody>\n",
       "</table>\n",
       "</div>"
      ],
      "text/plain": [
       "                                Accuracy Scores\n",
       "accuracy_probablistic_vanilla             0.910\n",
       "accuracy_unigram                          0.902\n",
       "accuracy_rulebased                        0.469\n",
       "accuracy_unigram_rulebased                0.955\n",
       "accuracy_bigram_rulebased                 0.958\n",
       "accuracy_trigram_rulebased                0.958\n",
       "accuracy_probablistic_modified            0.931\n",
       "accuracy_probablistic_trigram             0.955"
      ]
     },
     "execution_count": 57,
     "metadata": {},
     "output_type": "execute_result"
    }
   ],
   "source": [
    "# Prepare a Dataframe containing accuracy of different methods to compare with vanilla accuracy\n",
    "accuracy_final = {\"accuracy_probablistic_vanilla\":accuracy_vanilla,\n",
    "                  \"accuracy_unigram\":accuracy_unigram,\n",
    "                  \"accuracy_rulebased\":round(accuracy_rulebased,3),\n",
    "                  \"accuracy_unigram_rulebased\":accuracy_unigram_rulebased,\n",
    "                  \"accuracy_bigram_rulebased\":accuracy_bigram_rulebased,\n",
    "                  \"accuracy_trigram_rulebased\":accuracy_trigram_rulebased,\n",
    "                  \"accuracy_probablistic_modified\":accuracy_modified,\n",
    "                  \"accuracy_probablistic_trigram\":accuracy_trigram_probablistic}\n",
    "accuracy_final_df = pd.DataFrame(accuracy_final.values(),index=accuracy_final.keys(),columns=['Accuracy Scores'])\n",
    "accuracy_final_df"
   ]
  },
  {
   "cell_type": "code",
   "execution_count": 58,
   "metadata": {
    "ExecuteTime": {
     "end_time": "2020-12-07T17:53:08.407300Z",
     "start_time": "2020-12-07T17:53:08.067675Z"
    }
   },
   "outputs": [
    {
     "data": {
      "image/png": "[encoded data removed]",
      "text/plain": [
       "<Figure size 1080x504 with 1 Axes>"
      ]
     },
     "metadata": {
      "needs_background": "light"
     },
     "output_type": "display_data"
    }
   ],
   "source": [
    "# Plot a barplot to compare the accuracy\n",
    "plt.figure(figsize=[15,7])\n",
    "sns.barplot(x=accuracy_final_df.index,y=accuracy_final_df['Accuracy Scores'])\n",
    "plt.xticks(rotation=90)\n",
    "plt.show()"
   ]
  },
  {
   "cell_type": "markdown",
   "metadata": {},
   "source": [
    "### Observation \n",
    "- We see that by modifying the vanilla probabilistic approach to consider the transition probability instead of emission increase the accuracy \n",
    "- The Highest accuracy is attained by lexical tagger was trigram tagger along with rule based approach. \n",
    "- Among the Probabilistic models, the combination of trigram for unknown words and modified viterbi for known words has got the highest accuracy which is also very close to lexical-rulebased trigram tagger . \n",
    "- Hence the combination of Viterbi for known words along with rules based trigram model for unknown words is better choice for pos tagging"
   ]
  },
  {
   "cell_type": "markdown",
   "metadata": {},
   "source": [
    "## Final two Modifications\n",
    "Lets create generic function which does not use emission probability matrix of test set and calculates emission probability "
   ]
  },
  {
   "cell_type": "markdown",
   "metadata": {},
   "source": [
    "### Viterbi Modification-Technique I"
   ]
  },
  {
   "cell_type": "code",
   "execution_count": 59,
   "metadata": {
    "ExecuteTime": {
     "end_time": "2020-12-07T17:53:08.418093Z",
     "start_time": "2020-12-07T17:53:08.409453Z"
    }
   },
   "outputs": [],
   "source": [
    "# Viterbi Generic Heuristic without laplace smoothing, this does not use emission probabilty matrix prepared for test set\n",
    "def ViterbiModifiedGeneric(words, train_bag = train_tagged_words):\n",
    "    state = []\n",
    "    T = list(set([pair[1] for pair in train_bag]))\n",
    "    \n",
    "    for key, word in enumerate(words):\n",
    "        #initialise list of probability column for a given observation\n",
    "        p = [] \n",
    "        prob_dict ={}\n",
    "        prob_dict_transition ={}\n",
    "        \n",
    "        for tag in T:\n",
    "            if key == 0:\n",
    "                transition_p = tags_df.loc['.', tag]\n",
    "            else:\n",
    "                transition_p = tags_df.loc[state[-1], tag]\n",
    "            # Check if word is present in Training dataset\n",
    "            if word in V:\n",
    "                # compute emission and state probabilities\n",
    "                emission_tup = word_given_tag(word,tag)\n",
    "                emission_p = emission_tup[0]/emission_tup[1]\n",
    "                state_probability = emission_p * transition_p  \n",
    "            else:\n",
    "                state_probability = transition_p\n",
    "            p.append(state_probability)\n",
    "            prob_dict[tag]=state_probability\n",
    "        \n",
    "        state_max = max(prob_dict, key=prob_dict.get) \n",
    "        state.append(state_max)\n",
    "    return list(zip(words, state))\n"
   ]
  },
  {
   "cell_type": "markdown",
   "metadata": {},
   "source": [
    "### Viterbi Modification-Technique II"
   ]
  },
  {
   "cell_type": "code",
   "execution_count": 60,
   "metadata": {
    "ExecuteTime": {
     "end_time": "2020-12-07T17:53:08.427643Z",
     "start_time": "2020-12-07T17:53:08.420502Z"
    }
   },
   "outputs": [],
   "source": [
    "''' Lets modify the Probablistic viterbi trigram function to handle any test sentence passed on to it. \n",
    " Previously we re used the emission matrix for test set, hence it needs to be modified to consider any \n",
    " test sentences passed on to it '''\n",
    "# Viterbi Heuristic\n",
    "def ViterbiTrigramGeneric(words, train_bag = train_tagged_words):\n",
    "    state = []\n",
    "    T = list(set([pair[1] for pair in train_bag]))\n",
    "    \n",
    "    for key, word in enumerate(words):\n",
    "        # Check if word is present in Training dataset\n",
    "        if word in V:\n",
    "            #initialise list of probability column for a given observation\n",
    "            p = [] \n",
    "            prob_dict ={}\n",
    "            for tag in T:\n",
    "                if key == 0:\n",
    "                    transition_p = tags_df.loc['.', tag]\n",
    "                else:\n",
    "                    transition_p = tags_df.loc[state[-1], tag]\n",
    "                \n",
    "                # compute emission and state probabilities\n",
    "                emission_tup = word_given_tag(word,tag)\n",
    "                emission_p = emission_tup[0]/emission_tup[1]\n",
    "                state_probability = emission_p * transition_p  \n",
    "                p.append(state_probability)\n",
    "                prob_dict[tag]=state_probability\n",
    "\n",
    "            state_max = max(prob_dict, key=prob_dict.get) \n",
    "            state.append(state_max)\n",
    "            \n",
    "        # Lets use trigram tagger for word not in training dataset\n",
    "        else:\n",
    "            state.append(trigram_tagger_rule_based.tag([word])[0][1])\n",
    "    return list(zip(words, state))\n"
   ]
  },
  {
   "cell_type": "markdown",
   "metadata": {},
   "source": [
    "### List down cases which were incorrectly tagged by original POS tagger and got corrected by your modifications"
   ]
  },
  {
   "cell_type": "code",
   "execution_count": 61,
   "metadata": {
    "ExecuteTime": {
     "end_time": "2020-12-07T17:53:08.441548Z",
     "start_time": "2020-12-07T17:53:08.429447Z"
    }
   },
   "outputs": [
    {
     "data": {
      "text/html": [
       "<div>\n",
       "<style scoped>\n",
       "    .dataframe tbody tr th:only-of-type {\n",
       "        vertical-align: middle;\n",
       "    }\n",
       "\n",
       "    .dataframe tbody tr th {\n",
       "        vertical-align: top;\n",
       "    }\n",
       "\n",
       "    .dataframe thead th {\n",
       "        text-align: right;\n",
       "    }\n",
       "</style>\n",
       "<table border=\"1\" class=\"dataframe\">\n",
       "  <thead>\n",
       "    <tr style=\"text-align: right;\">\n",
       "      <th></th>\n",
       "      <th>word</th>\n",
       "      <th>predicted_tag</th>\n",
       "      <th>actual_tag</th>\n",
       "    </tr>\n",
       "  </thead>\n",
       "  <tbody>\n",
       "    <tr>\n",
       "      <th>1</th>\n",
       "      <td>Tulane</td>\n",
       "      <td>NUM</td>\n",
       "      <td>NOUN</td>\n",
       "    </tr>\n",
       "    <tr>\n",
       "      <th>2</th>\n",
       "      <td>array</td>\n",
       "      <td>NUM</td>\n",
       "      <td>NOUN</td>\n",
       "    </tr>\n",
       "    <tr>\n",
       "      <th>3</th>\n",
       "      <td>thread</td>\n",
       "      <td>NUM</td>\n",
       "      <td>NOUN</td>\n",
       "    </tr>\n",
       "    <tr>\n",
       "      <th>5</th>\n",
       "      <td>statue</td>\n",
       "      <td>NUM</td>\n",
       "      <td>NOUN</td>\n",
       "    </tr>\n",
       "    <tr>\n",
       "      <th>6</th>\n",
       "      <td>Jefferson</td>\n",
       "      <td>NUM</td>\n",
       "      <td>NOUN</td>\n",
       "    </tr>\n",
       "    <tr>\n",
       "      <th>7</th>\n",
       "      <td>dissolves</td>\n",
       "      <td>NUM</td>\n",
       "      <td>VERB</td>\n",
       "    </tr>\n",
       "    <tr>\n",
       "      <th>9</th>\n",
       "      <td>eight-person</td>\n",
       "      <td>NUM</td>\n",
       "      <td>ADJ</td>\n",
       "    </tr>\n",
       "    <tr>\n",
       "      <th>11</th>\n",
       "      <td>incest</td>\n",
       "      <td>NUM</td>\n",
       "      <td>NOUN</td>\n",
       "    </tr>\n",
       "    <tr>\n",
       "      <th>12</th>\n",
       "      <td>transforming</td>\n",
       "      <td>NUM</td>\n",
       "      <td>VERB</td>\n",
       "    </tr>\n",
       "  </tbody>\n",
       "</table>\n",
       "</div>"
      ],
      "text/plain": [
       "            word predicted_tag actual_tag\n",
       "1         Tulane           NUM       NOUN\n",
       "2          array           NUM       NOUN\n",
       "3         thread           NUM       NOUN\n",
       "5         statue           NUM       NOUN\n",
       "6      Jefferson           NUM       NOUN\n",
       "7      dissolves           NUM       VERB\n",
       "9   eight-person           NUM        ADJ\n",
       "11        incest           NUM       NOUN\n",
       "12  transforming           NUM       VERB"
      ]
     },
     "execution_count": 61,
     "metadata": {},
     "output_type": "execute_result"
    }
   ],
   "source": [
    "# Lets check pos tags predicted by vanilla pos tagger for unknown words \n",
    "incorrect_tagged_df[incorrect_tagged_df['word'].isin(unknown_words[:10])][['word','predicted_tag','actual_tag']]"
   ]
  },
  {
   "cell_type": "code",
   "execution_count": 62,
   "metadata": {
    "ExecuteTime": {
     "end_time": "2020-12-07T17:53:08.462875Z",
     "start_time": "2020-12-07T17:53:08.443837Z"
    }
   },
   "outputs": [
    {
     "data": {
      "text/plain": [
       "[('4.75', 'NUM'),\n",
       " ('Tulane', 'NOUN'),\n",
       " ('array', 'NOUN'),\n",
       " ('thread', 'NOUN'),\n",
       " ('statue', 'NOUN'),\n",
       " ('Jefferson', 'NOUN'),\n",
       " ('dissolves', 'VERB'),\n",
       " ('eight-person', 'ADJ'),\n",
       " ('incest', 'NOUN'),\n",
       " ('transforming', 'VERB')]"
      ]
     },
     "execution_count": 62,
     "metadata": {},
     "output_type": "execute_result"
    }
   ],
   "source": [
    "# Lets apply the Final Viterbi Heuristics(Technique II) on the above incorrectly tagged words \n",
    "ViterbiTrigramGeneric(unknown_words[:10])"
   ]
  },
  {
   "cell_type": "markdown",
   "metadata": {},
   "source": [
    "### Observation \n",
    "- We can see that the words which were incorrectly tagged such as numbers like 4.75, Nouns like Tulane,Jefferson  adjectives like eight-person, and verb like transforming are correctly tagged after modifying the viterbi algorithm now"
   ]
  },
  {
   "cell_type": "markdown",
   "metadata": {},
   "source": [
    "# Evaluating on Test Sentences "
   ]
  },
  {
   "cell_type": "code",
   "execution_count": 63,
   "metadata": {
    "ExecuteTime": {
     "end_time": "2020-12-07T17:53:08.471254Z",
     "start_time": "2020-12-07T17:53:08.464913Z"
    }
   },
   "outputs": [
    {
     "data": {
      "text/plain": [
       "\"Android is a mobile operating system developed by Google.\\nAndroid has been the best-selling OS worldwide on smartphones since 2011 and on tablets since 2013.\\nGoogle and Twitter made a deal in 2015 that gave Google access to Twitter's firehose.\\nTwitter is an online news and social networking service on which users post and interact with messages known as tweets.\\nBefore entering politics, Donald Trump was a domineering businessman and a television personality.\\nThe 2018 FIFA World Cup is the 21st FIFA World Cup, an international football tournament contested once every four years.\\nThis is the first World Cup to be held in Eastern Europe and the 11th time that it has been held in Europe.\\nShow me the cheapest round trips from Dallas to Atlanta\\nI would like to see flights from Denver to Philadelphia.\\nShow me the price of the flights leaving Atlanta at about 3 in the afternoon and arriving in San Francisco.\\nNASA invited social media users to experience the launch of ICESAT-2 Satellite.\\n\\n\\n\\n\""
      ]
     },
     "execution_count": 63,
     "metadata": {},
     "output_type": "execute_result"
    }
   ],
   "source": [
    "# Read the test sentences text file\n",
    "fp = open('Test_sentences.txt','r')\n",
    "test_sentences_txt = fp.read()\n",
    "fp.close()\n",
    "test_sentences_txt"
   ]
  },
  {
   "cell_type": "code",
   "execution_count": 64,
   "metadata": {
    "ExecuteTime": {
     "end_time": "2020-12-07T17:53:08.478602Z",
     "start_time": "2020-12-07T17:53:08.473233Z"
    }
   },
   "outputs": [
    {
     "data": {
      "text/plain": [
       "['Android is a mobile operating system developed by Google.',\n",
       " 'Android has been the best-selling OS worldwide on smartphones since 2011 and on tablets since 2013.',\n",
       " \"Google and Twitter made a deal in 2015 that gave Google access to Twitter's firehose.\",\n",
       " 'Twitter is an online news and social networking service on which users post and interact with messages known as tweets.',\n",
       " 'Before entering politics, Donald Trump was a domineering businessman and a television personality.',\n",
       " 'The 2018 FIFA World Cup is the 21st FIFA World Cup, an international football tournament contested once every four years.',\n",
       " 'This is the first World Cup to be held in Eastern Europe and the 11th time that it has been held in Europe.',\n",
       " 'Show me the cheapest round trips from Dallas to Atlanta',\n",
       " 'I would like to see flights from Denver to Philadelphia.',\n",
       " 'Show me the price of the flights leaving Atlanta at about 3 in the afternoon and arriving in San Francisco.',\n",
       " 'NASA invited social media users to experience the launch of ICESAT-2 Satellite.']"
      ]
     },
     "execution_count": 64,
     "metadata": {},
     "output_type": "execute_result"
    }
   ],
   "source": [
    "# remove extra newline characters\n",
    "import re\n",
    "test_sentences = re.sub(r'(\\n\\n)+', '', test_sentences_txt).split('\\n')\n",
    "test_sentences"
   ]
  },
  {
   "cell_type": "markdown",
   "metadata": {},
   "source": [
    "## Evaluating Test Sentences using Vanilla Viterbi "
   ]
  },
  {
   "cell_type": "code",
   "execution_count": 65,
   "metadata": {
    "ExecuteTime": {
     "end_time": "2020-12-07T17:53:30.471474Z",
     "start_time": "2020-12-07T17:53:08.480592Z"
    }
   },
   "outputs": [
    {
     "name": "stdout",
     "output_type": "stream",
     "text": [
      "Test Sentence 1\n",
      "[('Android', 'NUM'), ('is', 'VERB'), ('a', 'DET'), ('mobile', 'ADJ'), ('operating', 'NOUN'), ('system', 'NOUN'), ('developed', 'VERB'), ('by', 'ADP'), ('Google', 'NUM'), ('.', '.')]\n",
      "--------------------------------------------------------------------------------------------------------------------------------------------\n",
      "\n",
      "\n",
      "\n",
      "Test Sentence 2\n",
      "[('Android', 'NUM'), ('has', 'VERB'), ('been', 'VERB'), ('the', 'DET'), ('best-selling', 'ADJ'), ('OS', 'NUM'), ('worldwide', 'NUM'), ('on', 'ADP'), ('smartphones', 'NUM'), ('since', 'ADP'), ('2011', 'NUM'), ('and', 'CONJ'), ('on', 'ADP'), ('tablets', 'NOUN'), ('since', 'ADP'), ('2013', 'NUM'), ('.', '.')]\n",
      "--------------------------------------------------------------------------------------------------------------------------------------------\n",
      "\n",
      "\n",
      "\n",
      "Test Sentence 3\n",
      "[('Google', 'NUM'), ('and', 'CONJ'), ('Twitter', 'NUM'), ('made', 'VERB'), ('a', 'DET'), ('deal', 'NOUN'), ('in', 'ADP'), ('2015', 'NUM'), ('that', 'ADP'), ('gave', 'VERB'), ('Google', 'NUM'), ('access', 'NOUN'), ('to', 'PRT'), ('Twitter', 'NUM'), (\"'s\", 'PRT'), ('firehose', 'NUM'), ('.', '.')]\n",
      "--------------------------------------------------------------------------------------------------------------------------------------------\n",
      "\n",
      "\n",
      "\n",
      "Test Sentence 4\n",
      "[('Twitter', 'NUM'), ('is', 'VERB'), ('an', 'DET'), ('online', 'NUM'), ('news', 'NOUN'), ('and', 'CONJ'), ('social', 'ADJ'), ('networking', 'NOUN'), ('service', 'NOUN'), ('on', 'ADP'), ('which', 'DET'), ('users', 'NOUN'), ('post', 'NOUN'), ('and', 'CONJ'), ('interact', 'NUM'), ('with', 'ADP'), ('messages', 'NUM'), ('known', 'VERB'), ('as', 'ADP'), ('tweets', 'NUM'), ('.', '.')]\n",
      "--------------------------------------------------------------------------------------------------------------------------------------------\n",
      "\n",
      "\n",
      "\n",
      "Test Sentence 5\n",
      "[('Before', 'ADP'), ('entering', 'VERB'), ('politics', 'NOUN'), (',', '.'), ('Donald', 'NOUN'), ('Trump', 'NOUN'), ('was', 'VERB'), ('a', 'DET'), ('domineering', 'NUM'), ('businessman', 'NOUN'), ('and', 'CONJ'), ('a', 'DET'), ('television', 'NOUN'), ('personality', 'NUM'), ('.', '.')]\n",
      "--------------------------------------------------------------------------------------------------------------------------------------------\n",
      "\n",
      "\n",
      "\n",
      "Test Sentence 6\n",
      "[('The', 'DET'), ('2018', 'NUM'), ('FIFA', 'NUM'), ('World', 'NOUN'), ('Cup', 'NUM'), ('is', 'VERB'), ('the', 'DET'), ('21st', 'NUM'), ('FIFA', 'NUM'), ('World', 'NOUN'), ('Cup', 'NUM'), (',', '.'), ('an', 'DET'), ('international', 'ADJ'), ('football', 'NOUN'), ('tournament', 'NUM'), ('contested', 'NUM'), ('once', 'ADV'), ('every', 'DET'), ('four', 'NUM'), ('years', 'NOUN'), ('.', '.')]\n",
      "--------------------------------------------------------------------------------------------------------------------------------------------\n",
      "\n",
      "\n",
      "\n",
      "Test Sentence 7\n",
      "[('This', 'DET'), ('is', 'VERB'), ('the', 'DET'), ('first', 'ADJ'), ('World', 'NOUN'), ('Cup', 'NUM'), ('to', 'PRT'), ('be', 'VERB'), ('held', 'VERB'), ('in', 'ADP'), ('Eastern', 'NOUN'), ('Europe', 'NOUN'), ('and', 'CONJ'), ('the', 'DET'), ('11th', 'ADJ'), ('time', 'NOUN'), ('that', 'ADP'), ('it', 'PRON'), ('has', 'VERB'), ('been', 'VERB'), ('held', 'VERB'), ('in', 'ADP'), ('Europe', 'NOUN'), ('.', '.')]\n",
      "--------------------------------------------------------------------------------------------------------------------------------------------\n",
      "\n",
      "\n",
      "\n",
      "Test Sentence 8\n",
      "[('Show', 'NOUN'), ('me', 'PRON'), ('the', 'DET'), ('cheapest', 'ADJ'), ('round', 'NOUN'), ('trips', 'NUM'), ('from', 'ADP'), ('Dallas', 'NOUN'), ('to', 'PRT'), ('Atlanta', 'NOUN')]\n",
      "--------------------------------------------------------------------------------------------------------------------------------------------\n",
      "\n",
      "\n",
      "\n",
      "Test Sentence 9\n",
      "[('I', 'PRON'), ('would', 'VERB'), ('like', 'ADP'), ('to', 'PRT'), ('see', 'VERB'), ('flights', 'NOUN'), ('from', 'ADP'), ('Denver', 'NOUN'), ('to', 'PRT'), ('Philadelphia', 'NOUN'), ('.', '.')]\n",
      "--------------------------------------------------------------------------------------------------------------------------------------------\n",
      "\n",
      "\n",
      "\n",
      "Test Sentence 10\n",
      "[('Show', 'NOUN'), ('me', 'PRON'), ('the', 'DET'), ('price', 'NOUN'), ('of', 'ADP'), ('the', 'DET'), ('flights', 'NOUN'), ('leaving', 'VERB'), ('Atlanta', 'NOUN'), ('at', 'ADP'), ('about', 'ADP'), ('3', 'NUM'), ('in', 'ADP'), ('the', 'DET'), ('afternoon', 'NOUN'), ('and', 'CONJ'), ('arriving', 'NUM'), ('in', 'ADP'), ('San', 'NOUN'), ('Francisco', 'NOUN'), ('.', '.')]\n",
      "--------------------------------------------------------------------------------------------------------------------------------------------\n",
      "\n",
      "\n",
      "\n",
      "Test Sentence 11\n",
      "[('NASA', 'NUM'), ('invited', 'NUM'), ('social', 'ADJ'), ('media', 'NOUN'), ('users', 'NOUN'), ('to', 'PRT'), ('experience', 'NOUN'), ('the', 'DET'), ('launch', 'NOUN'), ('of', 'ADP'), ('ICESAT-2', 'NUM'), ('Satellite', 'NUM'), ('.', '.')]\n",
      "--------------------------------------------------------------------------------------------------------------------------------------------\n",
      "\n",
      "\n",
      "\n"
     ]
    }
   ],
   "source": [
    "# Iterate through all sentences and apply modified viterbi on all tokenised words of sentences\n",
    "vanilla_tagged_test = []\n",
    "for i,sent in enumerate(test_sentences):\n",
    "    print(\"Test Sentence\",i+1)\n",
    "    test_tokens = word_tokenize(sent)\n",
    "    tagged_test_seq = ViterbiUnmodified(test_tokens)\n",
    "    vanilla_tagged_test.append(tagged_test_seq)\n",
    "    print(tagged_test_seq)\n",
    "    print(\"-------\"*20)\n",
    "    print(\"\\n\\n\")"
   ]
  },
  {
   "cell_type": "markdown",
   "metadata": {},
   "source": [
    "## Evaluating Test Sentences using Technique I"
   ]
  },
  {
   "cell_type": "code",
   "execution_count": 66,
   "metadata": {
    "ExecuteTime": {
     "end_time": "2020-12-07T17:53:47.637770Z",
     "start_time": "2020-12-07T17:53:30.473562Z"
    }
   },
   "outputs": [
    {
     "name": "stdout",
     "output_type": "stream",
     "text": [
      "Test Sentence 1\n",
      "[('Android', 'NOUN'), ('is', 'VERB'), ('a', 'DET'), ('mobile', 'ADJ'), ('operating', 'NOUN'), ('system', 'NOUN'), ('developed', 'VERB'), ('by', 'ADP'), ('Google', 'DET'), ('.', '.')]\n",
      "--------------------------------------------------------------------------------------------------------------------------------------------\n",
      "\n",
      "\n",
      "\n",
      "Test Sentence 2\n",
      "[('Android', 'NOUN'), ('has', 'VERB'), ('been', 'VERB'), ('the', 'DET'), ('best-selling', 'ADJ'), ('OS', 'NOUN'), ('worldwide', 'NOUN'), ('on', 'ADP'), ('smartphones', 'DET'), ('since', 'ADP'), ('2011', 'DET'), ('and', 'CONJ'), ('on', 'ADP'), ('tablets', 'NOUN'), ('since', 'ADP'), ('2013', 'DET'), ('.', '.')]\n",
      "--------------------------------------------------------------------------------------------------------------------------------------------\n",
      "\n",
      "\n",
      "\n",
      "Test Sentence 3\n",
      "[('Google', 'NOUN'), ('and', 'CONJ'), ('Twitter', 'NOUN'), ('made', 'VERB'), ('a', 'DET'), ('deal', 'NOUN'), ('in', 'ADP'), ('2015', 'DET'), ('that', 'ADP'), ('gave', 'VERB'), ('Google', 'X'), ('access', 'NOUN'), ('to', 'PRT'), ('Twitter', 'VERB'), (\"'s\", 'PRT'), ('firehose', 'VERB'), ('.', '.')]\n",
      "--------------------------------------------------------------------------------------------------------------------------------------------\n",
      "\n",
      "\n",
      "\n",
      "Test Sentence 4\n",
      "[('Twitter', 'NOUN'), ('is', 'VERB'), ('an', 'DET'), ('online', 'NOUN'), ('news', 'NOUN'), ('and', 'CONJ'), ('social', 'ADJ'), ('networking', 'NOUN'), ('service', 'NOUN'), ('on', 'ADP'), ('which', 'DET'), ('users', 'NOUN'), ('post', 'NOUN'), ('and', 'CONJ'), ('interact', 'NOUN'), ('with', 'ADP'), ('messages', 'DET'), ('known', 'VERB'), ('as', 'ADP'), ('tweets', 'DET'), ('.', '.')]\n",
      "--------------------------------------------------------------------------------------------------------------------------------------------\n",
      "\n",
      "\n",
      "\n",
      "Test Sentence 5\n",
      "[('Before', 'ADP'), ('entering', 'VERB'), ('politics', 'NOUN'), (',', '.'), ('Donald', 'NOUN'), ('Trump', 'NOUN'), ('was', 'VERB'), ('a', 'DET'), ('domineering', 'NOUN'), ('businessman', 'NOUN'), ('and', 'CONJ'), ('a', 'DET'), ('television', 'NOUN'), ('personality', 'NOUN'), ('.', '.')]\n",
      "--------------------------------------------------------------------------------------------------------------------------------------------\n",
      "\n",
      "\n",
      "\n",
      "Test Sentence 6\n",
      "[('The', 'DET'), ('2018', 'NOUN'), ('FIFA', 'NOUN'), ('World', 'NOUN'), ('Cup', 'NOUN'), ('is', 'VERB'), ('the', 'DET'), ('21st', 'NOUN'), ('FIFA', 'NOUN'), ('World', 'NOUN'), ('Cup', 'NOUN'), (',', '.'), ('an', 'DET'), ('international', 'ADJ'), ('football', 'NOUN'), ('tournament', 'NOUN'), ('contested', 'NOUN'), ('once', 'ADV'), ('every', 'DET'), ('four', 'NUM'), ('years', 'NOUN'), ('.', '.')]\n",
      "--------------------------------------------------------------------------------------------------------------------------------------------\n",
      "\n",
      "\n",
      "\n",
      "Test Sentence 7\n",
      "[('This', 'DET'), ('is', 'VERB'), ('the', 'DET'), ('first', 'ADJ'), ('World', 'NOUN'), ('Cup', 'NOUN'), ('to', 'PRT'), ('be', 'VERB'), ('held', 'VERB'), ('in', 'ADP'), ('Eastern', 'NOUN'), ('Europe', 'NOUN'), ('and', 'CONJ'), ('the', 'DET'), ('11th', 'ADJ'), ('time', 'NOUN'), ('that', 'ADP'), ('it', 'PRON'), ('has', 'VERB'), ('been', 'VERB'), ('held', 'VERB'), ('in', 'ADP'), ('Europe', 'NOUN'), ('.', '.')]\n",
      "--------------------------------------------------------------------------------------------------------------------------------------------\n",
      "\n",
      "\n",
      "\n",
      "Test Sentence 8\n",
      "[('Show', 'NOUN'), ('me', 'PRON'), ('the', 'DET'), ('cheapest', 'ADJ'), ('round', 'NOUN'), ('trips', 'NOUN'), ('from', 'ADP'), ('Dallas', 'NOUN'), ('to', 'PRT'), ('Atlanta', 'NOUN')]\n",
      "--------------------------------------------------------------------------------------------------------------------------------------------\n",
      "\n",
      "\n",
      "\n",
      "Test Sentence 9\n",
      "[('I', 'PRON'), ('would', 'VERB'), ('like', 'ADP'), ('to', 'PRT'), ('see', 'VERB'), ('flights', 'NOUN'), ('from', 'ADP'), ('Denver', 'NOUN'), ('to', 'PRT'), ('Philadelphia', 'NOUN'), ('.', '.')]\n",
      "--------------------------------------------------------------------------------------------------------------------------------------------\n",
      "\n",
      "\n",
      "\n",
      "Test Sentence 10\n",
      "[('Show', 'NOUN'), ('me', 'PRON'), ('the', 'DET'), ('price', 'NOUN'), ('of', 'ADP'), ('the', 'DET'), ('flights', 'NOUN'), ('leaving', 'VERB'), ('Atlanta', 'NOUN'), ('at', 'ADP'), ('about', 'ADP'), ('3', 'NUM'), ('in', 'ADP'), ('the', 'DET'), ('afternoon', 'NOUN'), ('and', 'CONJ'), ('arriving', 'NOUN'), ('in', 'ADP'), ('San', 'NOUN'), ('Francisco', 'NOUN'), ('.', '.')]\n",
      "--------------------------------------------------------------------------------------------------------------------------------------------\n",
      "\n",
      "\n",
      "\n",
      "Test Sentence 11\n",
      "[('NASA', 'NOUN'), ('invited', 'NOUN'), ('social', 'ADJ'), ('media', 'NOUN'), ('users', 'NOUN'), ('to', 'PRT'), ('experience', 'NOUN'), ('the', 'DET'), ('launch', 'NOUN'), ('of', 'ADP'), ('ICESAT-2', 'DET'), ('Satellite', 'NOUN'), ('.', '.')]\n",
      "--------------------------------------------------------------------------------------------------------------------------------------------\n",
      "\n",
      "\n",
      "\n"
     ]
    }
   ],
   "source": [
    "# Iterate through all sentences and apply modified viterbi on all tokenised words of sentences\n",
    "tech1_tagged_test = []\n",
    "for i,sent in enumerate(test_sentences):\n",
    "    print(\"Test Sentence\",i+1)\n",
    "    test_tokens = word_tokenize(sent)\n",
    "    tagged_test_seq = ViterbiModifiedGeneric(test_tokens)\n",
    "    tech1_tagged_test.append(tagged_test_seq)\n",
    "    print(tagged_test_seq)\n",
    "    print(\"-------\"*20)\n",
    "    print(\"\\n\\n\")"
   ]
  },
  {
   "cell_type": "markdown",
   "metadata": {},
   "source": [
    "## Evaluating Test Sentences using Technique II"
   ]
  },
  {
   "cell_type": "code",
   "execution_count": 67,
   "metadata": {
    "ExecuteTime": {
     "end_time": "2020-12-07T17:54:04.647717Z",
     "start_time": "2020-12-07T17:53:47.639832Z"
    }
   },
   "outputs": [
    {
     "name": "stdout",
     "output_type": "stream",
     "text": [
      "Test Sentence 1\n",
      "[('Android', 'NOUN'), ('is', 'VERB'), ('a', 'DET'), ('mobile', 'ADJ'), ('operating', 'NOUN'), ('system', 'NOUN'), ('developed', 'VERB'), ('by', 'ADP'), ('Google', 'NOUN'), ('.', '.')]\n",
      "--------------------------------------------------------------------------------------------------------------------------------------------\n",
      "\n",
      "\n",
      "\n",
      "Test Sentence 2\n",
      "[('Android', 'NOUN'), ('has', 'VERB'), ('been', 'VERB'), ('the', 'DET'), ('best-selling', 'ADJ'), ('OS', 'NOUN'), ('worldwide', 'NOUN'), ('on', 'ADP'), ('smartphones', 'VERB'), ('since', 'ADP'), ('2011', 'NUM'), ('and', 'CONJ'), ('on', 'ADP'), ('tablets', 'NOUN'), ('since', 'ADP'), ('2013', 'NUM'), ('.', '.')]\n",
      "--------------------------------------------------------------------------------------------------------------------------------------------\n",
      "\n",
      "\n",
      "\n",
      "Test Sentence 3\n",
      "[('Google', 'NOUN'), ('and', 'CONJ'), ('Twitter', 'NOUN'), ('made', 'VERB'), ('a', 'DET'), ('deal', 'NOUN'), ('in', 'ADP'), ('2015', 'NUM'), ('that', 'ADP'), ('gave', 'VERB'), ('Google', 'NOUN'), ('access', 'NOUN'), ('to', 'PRT'), ('Twitter', 'NOUN'), (\"'s\", 'PRT'), ('firehose', 'NOUN'), ('.', '.')]\n",
      "--------------------------------------------------------------------------------------------------------------------------------------------\n",
      "\n",
      "\n",
      "\n",
      "Test Sentence 4\n",
      "[('Twitter', 'NOUN'), ('is', 'VERB'), ('an', 'DET'), ('online', 'NOUN'), ('news', 'NOUN'), ('and', 'CONJ'), ('social', 'ADJ'), ('networking', 'NOUN'), ('service', 'NOUN'), ('on', 'ADP'), ('which', 'DET'), ('users', 'NOUN'), ('post', 'NOUN'), ('and', 'CONJ'), ('interact', 'NOUN'), ('with', 'ADP'), ('messages', 'VERB'), ('known', 'VERB'), ('as', 'ADP'), ('tweets', 'NOUN'), ('.', '.')]\n",
      "--------------------------------------------------------------------------------------------------------------------------------------------\n",
      "\n",
      "\n",
      "\n",
      "Test Sentence 5\n",
      "[('Before', 'ADP'), ('entering', 'VERB'), ('politics', 'NOUN'), (',', '.'), ('Donald', 'NOUN'), ('Trump', 'NOUN'), ('was', 'VERB'), ('a', 'DET'), ('domineering', 'VERB'), ('businessman', 'NOUN'), ('and', 'CONJ'), ('a', 'DET'), ('television', 'NOUN'), ('personality', 'NOUN'), ('.', '.')]\n",
      "--------------------------------------------------------------------------------------------------------------------------------------------\n",
      "\n",
      "\n",
      "\n",
      "Test Sentence 6\n",
      "[('The', 'DET'), ('2018', 'NUM'), ('FIFA', 'NOUN'), ('World', 'NOUN'), ('Cup', 'NOUN'), ('is', 'VERB'), ('the', 'DET'), ('21st', 'NOUN'), ('FIFA', 'NOUN'), ('World', 'NOUN'), ('Cup', 'NOUN'), (',', '.'), ('an', 'DET'), ('international', 'ADJ'), ('football', 'NOUN'), ('tournament', 'NOUN'), ('contested', 'VERB'), ('once', 'ADV'), ('every', 'DET'), ('four', 'NUM'), ('years', 'NOUN'), ('.', '.')]\n",
      "--------------------------------------------------------------------------------------------------------------------------------------------\n",
      "\n",
      "\n",
      "\n",
      "Test Sentence 7\n",
      "[('This', 'DET'), ('is', 'VERB'), ('the', 'DET'), ('first', 'ADJ'), ('World', 'NOUN'), ('Cup', 'NOUN'), ('to', 'PRT'), ('be', 'VERB'), ('held', 'VERB'), ('in', 'ADP'), ('Eastern', 'NOUN'), ('Europe', 'NOUN'), ('and', 'CONJ'), ('the', 'DET'), ('11th', 'ADJ'), ('time', 'NOUN'), ('that', 'ADP'), ('it', 'PRON'), ('has', 'VERB'), ('been', 'VERB'), ('held', 'VERB'), ('in', 'ADP'), ('Europe', 'NOUN'), ('.', '.')]\n",
      "--------------------------------------------------------------------------------------------------------------------------------------------\n",
      "\n",
      "\n",
      "\n",
      "Test Sentence 8\n",
      "[('Show', 'NOUN'), ('me', 'PRON'), ('the', 'DET'), ('cheapest', 'ADJ'), ('round', 'NOUN'), ('trips', 'NOUN'), ('from', 'ADP'), ('Dallas', 'NOUN'), ('to', 'PRT'), ('Atlanta', 'NOUN')]\n",
      "--------------------------------------------------------------------------------------------------------------------------------------------\n",
      "\n",
      "\n",
      "\n",
      "Test Sentence 9\n",
      "[('I', 'PRON'), ('would', 'VERB'), ('like', 'ADP'), ('to', 'PRT'), ('see', 'VERB'), ('flights', 'NOUN'), ('from', 'ADP'), ('Denver', 'NOUN'), ('to', 'PRT'), ('Philadelphia', 'NOUN'), ('.', '.')]\n",
      "--------------------------------------------------------------------------------------------------------------------------------------------\n",
      "\n",
      "\n",
      "\n",
      "Test Sentence 10\n",
      "[('Show', 'NOUN'), ('me', 'PRON'), ('the', 'DET'), ('price', 'NOUN'), ('of', 'ADP'), ('the', 'DET'), ('flights', 'NOUN'), ('leaving', 'VERB'), ('Atlanta', 'NOUN'), ('at', 'ADP'), ('about', 'ADP'), ('3', 'NUM'), ('in', 'ADP'), ('the', 'DET'), ('afternoon', 'NOUN'), ('and', 'CONJ'), ('arriving', 'VERB'), ('in', 'ADP'), ('San', 'NOUN'), ('Francisco', 'NOUN'), ('.', '.')]\n",
      "--------------------------------------------------------------------------------------------------------------------------------------------\n",
      "\n",
      "\n",
      "\n",
      "Test Sentence 11\n",
      "[('NASA', 'NOUN'), ('invited', 'VERB'), ('social', 'ADJ'), ('media', 'NOUN'), ('users', 'NOUN'), ('to', 'PRT'), ('experience', 'NOUN'), ('the', 'DET'), ('launch', 'NOUN'), ('of', 'ADP'), ('ICESAT-2', 'NOUN'), ('Satellite', 'NOUN'), ('.', '.')]\n",
      "--------------------------------------------------------------------------------------------------------------------------------------------\n",
      "\n",
      "\n",
      "\n"
     ]
    }
   ],
   "source": [
    "# Iterate through all sentences and apply modified viterbi on all tokenised words of sentences\n",
    "tech2_tagged_test = []\n",
    "for i,sent in enumerate(test_sentences):\n",
    "    print(\"Test Sentence\",i+1)\n",
    "    test_tokens = word_tokenize(sent)\n",
    "    tagged_test_seq = ViterbiTrigramGeneric(test_tokens)\n",
    "    tech2_tagged_test.append(tagged_test_seq)\n",
    "    print(tagged_test_seq)\n",
    "    print(\"-------\"*20)\n",
    "    print(\"\\n\\n\")"
   ]
  },
  {
   "cell_type": "code",
   "execution_count": 68,
   "metadata": {
    "ExecuteTime": {
     "end_time": "2020-12-07T17:54:04.679081Z",
     "start_time": "2020-12-07T17:54:04.660740Z"
    }
   },
   "outputs": [
    {
     "data": {
      "text/html": [
       "<div>\n",
       "<style scoped>\n",
       "    .dataframe tbody tr th:only-of-type {\n",
       "        vertical-align: middle;\n",
       "    }\n",
       "\n",
       "    .dataframe tbody tr th {\n",
       "        vertical-align: top;\n",
       "    }\n",
       "\n",
       "    .dataframe thead th {\n",
       "        text-align: right;\n",
       "    }\n",
       "</style>\n",
       "<table border=\"1\" class=\"dataframe\">\n",
       "  <thead>\n",
       "    <tr style=\"text-align: right;\">\n",
       "      <th></th>\n",
       "      <th>words</th>\n",
       "      <th>vanilla_viterbi</th>\n",
       "      <th>viterbi_modification1</th>\n",
       "      <th>viterbi_modification2</th>\n",
       "    </tr>\n",
       "  </thead>\n",
       "  <tbody>\n",
       "    <tr>\n",
       "      <th>0</th>\n",
       "      <td>Android</td>\n",
       "      <td>NUM</td>\n",
       "      <td>NOUN</td>\n",
       "      <td>NOUN</td>\n",
       "    </tr>\n",
       "    <tr>\n",
       "      <th>8</th>\n",
       "      <td>Google</td>\n",
       "      <td>NUM</td>\n",
       "      <td>DET</td>\n",
       "      <td>NOUN</td>\n",
       "    </tr>\n",
       "    <tr>\n",
       "      <th>10</th>\n",
       "      <td>Android</td>\n",
       "      <td>NUM</td>\n",
       "      <td>NOUN</td>\n",
       "      <td>NOUN</td>\n",
       "    </tr>\n",
       "    <tr>\n",
       "      <th>15</th>\n",
       "      <td>OS</td>\n",
       "      <td>NUM</td>\n",
       "      <td>NOUN</td>\n",
       "      <td>NOUN</td>\n",
       "    </tr>\n",
       "    <tr>\n",
       "      <th>16</th>\n",
       "      <td>worldwide</td>\n",
       "      <td>NUM</td>\n",
       "      <td>NOUN</td>\n",
       "      <td>NOUN</td>\n",
       "    </tr>\n",
       "    <tr>\n",
       "      <th>18</th>\n",
       "      <td>smartphones</td>\n",
       "      <td>NUM</td>\n",
       "      <td>DET</td>\n",
       "      <td>VERB</td>\n",
       "    </tr>\n",
       "    <tr>\n",
       "      <th>20</th>\n",
       "      <td>2011</td>\n",
       "      <td>NUM</td>\n",
       "      <td>DET</td>\n",
       "      <td>NUM</td>\n",
       "    </tr>\n",
       "    <tr>\n",
       "      <th>25</th>\n",
       "      <td>2013</td>\n",
       "      <td>NUM</td>\n",
       "      <td>DET</td>\n",
       "      <td>NUM</td>\n",
       "    </tr>\n",
       "    <tr>\n",
       "      <th>27</th>\n",
       "      <td>Google</td>\n",
       "      <td>NUM</td>\n",
       "      <td>NOUN</td>\n",
       "      <td>NOUN</td>\n",
       "    </tr>\n",
       "    <tr>\n",
       "      <th>29</th>\n",
       "      <td>Twitter</td>\n",
       "      <td>NUM</td>\n",
       "      <td>NOUN</td>\n",
       "      <td>NOUN</td>\n",
       "    </tr>\n",
       "    <tr>\n",
       "      <th>34</th>\n",
       "      <td>2015</td>\n",
       "      <td>NUM</td>\n",
       "      <td>DET</td>\n",
       "      <td>NUM</td>\n",
       "    </tr>\n",
       "    <tr>\n",
       "      <th>37</th>\n",
       "      <td>Google</td>\n",
       "      <td>NUM</td>\n",
       "      <td>X</td>\n",
       "      <td>NOUN</td>\n",
       "    </tr>\n",
       "    <tr>\n",
       "      <th>40</th>\n",
       "      <td>Twitter</td>\n",
       "      <td>NUM</td>\n",
       "      <td>VERB</td>\n",
       "      <td>NOUN</td>\n",
       "    </tr>\n",
       "    <tr>\n",
       "      <th>42</th>\n",
       "      <td>firehose</td>\n",
       "      <td>NUM</td>\n",
       "      <td>VERB</td>\n",
       "      <td>NOUN</td>\n",
       "    </tr>\n",
       "    <tr>\n",
       "      <th>44</th>\n",
       "      <td>Twitter</td>\n",
       "      <td>NUM</td>\n",
       "      <td>NOUN</td>\n",
       "      <td>NOUN</td>\n",
       "    </tr>\n",
       "    <tr>\n",
       "      <th>47</th>\n",
       "      <td>online</td>\n",
       "      <td>NUM</td>\n",
       "      <td>NOUN</td>\n",
       "      <td>NOUN</td>\n",
       "    </tr>\n",
       "    <tr>\n",
       "      <th>58</th>\n",
       "      <td>interact</td>\n",
       "      <td>NUM</td>\n",
       "      <td>NOUN</td>\n",
       "      <td>NOUN</td>\n",
       "    </tr>\n",
       "    <tr>\n",
       "      <th>60</th>\n",
       "      <td>messages</td>\n",
       "      <td>NUM</td>\n",
       "      <td>DET</td>\n",
       "      <td>VERB</td>\n",
       "    </tr>\n",
       "    <tr>\n",
       "      <th>63</th>\n",
       "      <td>tweets</td>\n",
       "      <td>NUM</td>\n",
       "      <td>DET</td>\n",
       "      <td>NOUN</td>\n",
       "    </tr>\n",
       "    <tr>\n",
       "      <th>73</th>\n",
       "      <td>domineering</td>\n",
       "      <td>NUM</td>\n",
       "      <td>NOUN</td>\n",
       "      <td>VERB</td>\n",
       "    </tr>\n",
       "    <tr>\n",
       "      <th>78</th>\n",
       "      <td>personality</td>\n",
       "      <td>NUM</td>\n",
       "      <td>NOUN</td>\n",
       "      <td>NOUN</td>\n",
       "    </tr>\n",
       "    <tr>\n",
       "      <th>81</th>\n",
       "      <td>2018</td>\n",
       "      <td>NUM</td>\n",
       "      <td>NOUN</td>\n",
       "      <td>NUM</td>\n",
       "    </tr>\n",
       "    <tr>\n",
       "      <th>82</th>\n",
       "      <td>FIFA</td>\n",
       "      <td>NUM</td>\n",
       "      <td>NOUN</td>\n",
       "      <td>NOUN</td>\n",
       "    </tr>\n",
       "    <tr>\n",
       "      <th>84</th>\n",
       "      <td>Cup</td>\n",
       "      <td>NUM</td>\n",
       "      <td>NOUN</td>\n",
       "      <td>NOUN</td>\n",
       "    </tr>\n",
       "    <tr>\n",
       "      <th>87</th>\n",
       "      <td>21st</td>\n",
       "      <td>NUM</td>\n",
       "      <td>NOUN</td>\n",
       "      <td>NOUN</td>\n",
       "    </tr>\n",
       "    <tr>\n",
       "      <th>88</th>\n",
       "      <td>FIFA</td>\n",
       "      <td>NUM</td>\n",
       "      <td>NOUN</td>\n",
       "      <td>NOUN</td>\n",
       "    </tr>\n",
       "    <tr>\n",
       "      <th>90</th>\n",
       "      <td>Cup</td>\n",
       "      <td>NUM</td>\n",
       "      <td>NOUN</td>\n",
       "      <td>NOUN</td>\n",
       "    </tr>\n",
       "    <tr>\n",
       "      <th>95</th>\n",
       "      <td>tournament</td>\n",
       "      <td>NUM</td>\n",
       "      <td>NOUN</td>\n",
       "      <td>NOUN</td>\n",
       "    </tr>\n",
       "    <tr>\n",
       "      <th>96</th>\n",
       "      <td>contested</td>\n",
       "      <td>NUM</td>\n",
       "      <td>NOUN</td>\n",
       "      <td>VERB</td>\n",
       "    </tr>\n",
       "    <tr>\n",
       "      <th>107</th>\n",
       "      <td>Cup</td>\n",
       "      <td>NUM</td>\n",
       "      <td>NOUN</td>\n",
       "      <td>NOUN</td>\n",
       "    </tr>\n",
       "    <tr>\n",
       "      <th>131</th>\n",
       "      <td>trips</td>\n",
       "      <td>NUM</td>\n",
       "      <td>NOUN</td>\n",
       "      <td>NOUN</td>\n",
       "    </tr>\n",
       "    <tr>\n",
       "      <th>163</th>\n",
       "      <td>arriving</td>\n",
       "      <td>NUM</td>\n",
       "      <td>NOUN</td>\n",
       "      <td>VERB</td>\n",
       "    </tr>\n",
       "    <tr>\n",
       "      <th>168</th>\n",
       "      <td>NASA</td>\n",
       "      <td>NUM</td>\n",
       "      <td>NOUN</td>\n",
       "      <td>NOUN</td>\n",
       "    </tr>\n",
       "    <tr>\n",
       "      <th>169</th>\n",
       "      <td>invited</td>\n",
       "      <td>NUM</td>\n",
       "      <td>NOUN</td>\n",
       "      <td>VERB</td>\n",
       "    </tr>\n",
       "    <tr>\n",
       "      <th>178</th>\n",
       "      <td>ICESAT-2</td>\n",
       "      <td>NUM</td>\n",
       "      <td>DET</td>\n",
       "      <td>NOUN</td>\n",
       "    </tr>\n",
       "    <tr>\n",
       "      <th>179</th>\n",
       "      <td>Satellite</td>\n",
       "      <td>NUM</td>\n",
       "      <td>NOUN</td>\n",
       "      <td>NOUN</td>\n",
       "    </tr>\n",
       "  </tbody>\n",
       "</table>\n",
       "</div>"
      ],
      "text/plain": [
       "           words vanilla_viterbi viterbi_modification1 viterbi_modification2\n",
       "0        Android             NUM                  NOUN                  NOUN\n",
       "8         Google             NUM                   DET                  NOUN\n",
       "10       Android             NUM                  NOUN                  NOUN\n",
       "15            OS             NUM                  NOUN                  NOUN\n",
       "16     worldwide             NUM                  NOUN                  NOUN\n",
       "18   smartphones             NUM                   DET                  VERB\n",
       "20          2011             NUM                   DET                   NUM\n",
       "25          2013             NUM                   DET                   NUM\n",
       "27        Google             NUM                  NOUN                  NOUN\n",
       "29       Twitter             NUM                  NOUN                  NOUN\n",
       "34          2015             NUM                   DET                   NUM\n",
       "37        Google             NUM                     X                  NOUN\n",
       "40       Twitter             NUM                  VERB                  NOUN\n",
       "42      firehose             NUM                  VERB                  NOUN\n",
       "44       Twitter             NUM                  NOUN                  NOUN\n",
       "47        online             NUM                  NOUN                  NOUN\n",
       "58      interact             NUM                  NOUN                  NOUN\n",
       "60      messages             NUM                   DET                  VERB\n",
       "63        tweets             NUM                   DET                  NOUN\n",
       "73   domineering             NUM                  NOUN                  VERB\n",
       "78   personality             NUM                  NOUN                  NOUN\n",
       "81          2018             NUM                  NOUN                   NUM\n",
       "82          FIFA             NUM                  NOUN                  NOUN\n",
       "84           Cup             NUM                  NOUN                  NOUN\n",
       "87          21st             NUM                  NOUN                  NOUN\n",
       "88          FIFA             NUM                  NOUN                  NOUN\n",
       "90           Cup             NUM                  NOUN                  NOUN\n",
       "95    tournament             NUM                  NOUN                  NOUN\n",
       "96     contested             NUM                  NOUN                  VERB\n",
       "107          Cup             NUM                  NOUN                  NOUN\n",
       "131        trips             NUM                  NOUN                  NOUN\n",
       "163     arriving             NUM                  NOUN                  VERB\n",
       "168         NASA             NUM                  NOUN                  NOUN\n",
       "169      invited             NUM                  NOUN                  VERB\n",
       "178     ICESAT-2             NUM                   DET                  NOUN\n",
       "179    Satellite             NUM                  NOUN                  NOUN"
      ]
     },
     "execution_count": 68,
     "metadata": {},
     "output_type": "execute_result"
    }
   ],
   "source": [
    "# get list of all words\n",
    "test_sent_words = [tup[0] for sent in tech2_tagged_test for tup in sent]\n",
    "test_sent_tags_v = [tup[1] for sent in vanilla_tagged_test for tup in sent]\n",
    "test_sent_tags_1 = [tup[1] for sent in tech1_tagged_test for tup in sent]\n",
    "test_sent_tags_2 = [tup[1] for sent in tech2_tagged_test for tup in sent]\n",
    "df_test_sent = pd.DataFrame({'words':test_sent_words,\n",
    "                            'vanilla_viterbi':test_sent_tags_v,\n",
    "                            'viterbi_modification1':test_sent_tags_1,\n",
    "                            'viterbi_modification2':test_sent_tags_2})\n",
    "# Compare which are tagged incorrectly and rectified by modifications\n",
    "df_test_sent[(df_test_sent.vanilla_viterbi!=df_test_sent.viterbi_modification1) | (df_test_sent.vanilla_viterbi!=df_test_sent.viterbi_modification2)]"
   ]
  },
  {
   "cell_type": "code",
   "execution_count": 69,
   "metadata": {
    "ExecuteTime": {
     "end_time": "2020-12-07T17:54:04.693592Z",
     "start_time": "2020-12-07T17:54:04.684517Z"
    }
   },
   "outputs": [
    {
     "data": {
      "text/plain": [
       "0.19889502762430938"
      ]
     },
     "execution_count": 69,
     "metadata": {},
     "output_type": "execute_result"
    }
   ],
   "source": [
    "# Get unknown words\n",
    "test_unknown = [w for sent in test_sentences for w in word_tokenize(sent) if w not in V]\n",
    "len(test_unknown)/len([w for sent in test_sentences for w in word_tokenize(sent)])"
   ]
  },
  {
   "cell_type": "code",
   "execution_count": 70,
   "metadata": {
    "ExecuteTime": {
     "end_time": "2020-12-07T17:54:04.702077Z",
     "start_time": "2020-12-07T17:54:04.696309Z"
    }
   },
   "outputs": [
    {
     "data": {
      "text/plain": [
       "['Android',\n",
       " 'Google',\n",
       " 'Android',\n",
       " 'OS',\n",
       " 'worldwide',\n",
       " 'smartphones',\n",
       " '2011',\n",
       " '2013',\n",
       " 'Google',\n",
       " 'Twitter']"
      ]
     },
     "execution_count": 70,
     "metadata": {},
     "output_type": "execute_result"
    }
   ],
   "source": [
    "test_unknown[:10]"
   ]
  },
  {
   "cell_type": "markdown",
   "metadata": {},
   "source": [
    "### Observation\n",
    "- We see that 19% of the words are unknown words which are not present in training dataset. \n",
    "- with just seeing the tagged words in the test sentences, we can see that few words like Android,Google,Twitter are correctly tagged as NOUN and 2011, 2013 as NUM. Hence we can say our modified Version of Viterbi has performed good"
   ]
  },
  {
   "cell_type": "code",
   "execution_count": null,
   "metadata": {},
   "outputs": [],
   "source": []
  }
 ],
 "metadata": {
  "kernelspec": {
   "display_name": "Python 3",
   "language": "python",
   "name": "python3"
  },
  "language_info": {
   "codemirror_mode": {
    "name": "ipython",
    "version": 3
   },
   "file_extension": ".py",
   "mimetype": "text/x-python",
   "name": "python",
   "nbconvert_exporter": "python",
   "pygments_lexer": "ipython3",
   "version": "3.7.3"
  },
  "varInspector": {
   "cols": {
    "lenName": 16,
    "lenType": 16,
    "lenVar": 40
   },
   "kernels_config": {
    "python": {
     "delete_cmd_postfix": "",
     "delete_cmd_prefix": "del ",
     "library": "var_list.py",
     "varRefreshCmd": "print(var_dic_list())"
    },
    "r": {
     "delete_cmd_postfix": ") ",
     "delete_cmd_prefix": "rm(",
     "library": "var_list.r",
     "varRefreshCmd": "cat(var_dic_list()) "
    }
   },
   "types_to_exclude": [
    "module",
    "function",
    "builtin_function_or_method",
    "instance",
    "_Feature"
   ],
   "window_display": false
  }
 },
 "nbformat": 4,
 "nbformat_minor": 2
}
